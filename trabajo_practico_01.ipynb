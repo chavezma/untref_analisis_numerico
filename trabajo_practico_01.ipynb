{
 "cells": [
  {
   "cell_type": "markdown",
   "metadata": {},
   "source": [
    "1- Si quiero calcular $\\sum_{n=1}^{\\infty} X_n$ con un error menor a $\\epsilon$, dejo de sumar cuando $|X_n| < \\epsilon$ ?. \n",
    "Ver con $\\sum_{n=1}^{\\infty} (0.99)^n$ y distintos valores de $\\epsilon$. \n",
    "Recordar que $\\sum_{n=1}^{\\infty} r^n = \\frac{r}{1-r}$ si $|r|<1$."
   ]
  },
  {
   "cell_type": "markdown",
   "metadata": {},
   "source": [
    "2 - Escribir un programa para calcular \n",
    "$$f(x)=\\sqrt{x^2+1}-1$$\n",
    "$$g(x)=\\frac{x^2}{\\sqrt{x^2+1}+1}$$\n",
    "para la sucesión $8^{-1}$, $8^{-2}$, $8^{-3}$, $\\ldots$, $8^{-10}$. Aunque $f = g$ la computadora produce resultados distintos ¿Cuál es más confiable?"
   ]
  },
  {
   "cell_type": "markdown",
   "metadata": {},
   "source": [
    "3 - Escribir un algoritmo para estimar el número de máquina"
   ]
  },
  {
   "cell_type": "markdown",
   "metadata": {},
   "source": [
    "4- Sean\n",
    "$$x = [2.718281828; −3.141592654; 1.414213562; 0.5772156649; 0.3010299957]$$\n",
    "$$y = [1486.2497; 878366.9879; −22.37429; 4773714.647; 0.000185049]$$\n",
    "Calcular $\\sum_{i=1}^{n} x_i \\cdot y_i$ de la siguientes maneras\n",
    "\n",
    "(a) para adelante : $\\sum_{i=1}^{n} x_i \\cdot y_i$\n",
    "\n",
    "(b) para atr´as : $\\sum_{i=1}^{n} x_i \\cdot y_i$\n",
    "\n",
    "(c) positivos de mayor a menor $+$ negativos de menor a mayor\n",
    "\n",
    "(d) positivos de menor a mayor $+$ negativos de mayor a menor\n",
    "\n",
    "¿Cuál resultado es más confiable y por qué?"
   ]
  },
  {
   "cell_type": "markdown",
   "metadata": {},
   "source": [
    "5 - Considerar la sucesión\n",
    "$$x_0 = 1, x_1=\\frac{1}{3}$$\n",
    "$$x_{n+1} = \\frac{13}{3}x_n - \\frac{4}{3}x_{n-1}$$\n",
    "Dar una fórmula cerrada para $X_n$. Escribir un programa que calcule $X_n$ de ambas formas y comparar. ¿Cuál es más confiable?¿Por qué?"
   ]
  },
  {
   "cell_type": "markdown",
   "metadata": {},
   "source": [
    "6 - Consideremos la siguiente modificación de la serie de Fibonacci:\n",
    "$$r_0=1, r_1=\\frac{1-\\sqrt{5}}{2}$$\n",
    "$$r_{n+1}=r_n + r_{n-1}$$\n",
    "¿Cuál es la fórmula cerrada $r_n$? Es la fórmula recursiva una manera estable de calculas $r_n$? Comparar con el ejercicio anterior."
   ]
  },
  {
   "cell_type": "markdown",
   "metadata": {},
   "source": [
    "7 - Sea\n",
    "$$y_n=\\int_{0}^{1} x^ne^xdx$$\n",
    "Integrar por partes para obtener una fórmula recurrente para $y_n$. Mostrar que $\\lim_{n \\to \\infty}y_n=8$. Hacer un programa para calcular los primeros 30 términos de $y_n$ y analizar los resultados."
   ]
  }
 ],
 "metadata": {
  "interpreter": {
   "hash": "1bde03241c945d910f6012aa406c9b0c219aaaa71a8434fd63f2b461251fddf0"
  },
  "kernelspec": {
   "display_name": "Python 3.10.2 64-bit",
   "language": "python",
   "name": "python3"
  },
  "language_info": {
   "codemirror_mode": {
    "name": "ipython",
    "version": 3
   },
   "file_extension": ".py",
   "mimetype": "text/x-python",
   "name": "python",
   "nbconvert_exporter": "python",
   "pygments_lexer": "ipython3",
   "version": "3.10.2"
  },
  "orig_nbformat": 4
 },
 "nbformat": 4,
 "nbformat_minor": 2
}
