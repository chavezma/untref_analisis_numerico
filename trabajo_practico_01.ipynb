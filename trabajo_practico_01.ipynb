{
 "cells": [
  {
   "cell_type": "markdown",
   "metadata": {},
   "source": [
    "Materia: Análisis Numérico\n",
    "\n",
    "Alumno: Chavez Matias David"
   ]
  },
  {
   "cell_type": "code",
   "execution_count": 328,
   "metadata": {},
   "outputs": [],
   "source": [
    "\n",
    "from IPython.display import display, Markdown, Latex\n",
    "import math\n",
    "import platform"
   ]
  },
  {
   "cell_type": "markdown",
   "metadata": {},
   "source": [
    "#### Ejercicio 5\n",
    "\n",
    "Si quiero calcular $\\sum_{n=1}^{\\infty} X_n$ con un error menor a $\\epsilon$, dejo de sumar cuando $|X_n| < \\epsilon$ ?. Ver con $\\sum_{n=1}^{\\infty} (0.99)^n$ y distintos valores de $\\epsilon$. Recordar que $\\sum_{n=1}^{\\infty} r^n = \\frac{r}{1-r}$ si $|r|<1$."
   ]
  },
  {
   "cell_type": "markdown",
   "metadata": {},
   "source": [
    "$\\qquad$ Como $|0.99| < 1 \\implies \\sum_{n=1}^{\\infty} (0.99)^n = \\frac{0.99}{1-0.99} = 99$\n",
    "\n",
    "$\\qquad$ Luego, para la prueba, usaremos un $\\epsilon = \\frac{1}{2^n}$, donde $n$ será la cantidad de sumas a ejecutar para la prueba.\n",
    "\n",
    "$\\qquad$ Vamos a ver el comportamiento que tiene la sumatoria si establecemos como limite cuando se cumple que $|X_n| < \\epsilon \\implies (0.99)^n \\lt \\frac{1}{2^n}$"
   ]
  },
  {
   "cell_type": "code",
   "execution_count": 329,
   "metadata": {},
   "outputs": [
    {
     "data": {
      "text/markdown": [
       "\n",
       "| n | Sumas realizadas | e | Diferencia |\n",
       "|----|----|-------|-------|\n",
       "| 0 | 1 | 1.0000000000 | 98.010000000000005 |\n",
       "| 1 | 69 | 0.5000000000 | 48.993702989919939 |\n",
       "| 2 | 138 | 0.2500000000 | 23.993705645845324 |\n",
       "| 3 | 207 | 0.1250000000 | 11.497781225895253 |\n",
       "| 4 | 276 | 0.0625000000 | 5.251855477982488 |\n",
       "| 5 | 345 | 0.0312500000 | 2.129910503174884 |\n",
       "| 6 | 414 | 0.0156250000 | 0.569446799458291 |\n",
       "| 7 | 483 | 0.0078125000 | 0.210530743472972 |\n",
       "| 8 | 552 | 0.0039062500 | 0.600392401919819 |\n",
       "| 9 | 621 | 0.0019531250 | 0.795259695349401 |\n"
      ],
      "text/plain": [
       "<IPython.core.display.Markdown object>"
      ]
     },
     "metadata": {},
     "output_type": "display_data"
    }
   ],
   "source": [
    "def ejercicio_05(valor_referencia, suma_objetivo):\n",
    "\n",
    "    list_res = []\n",
    "    for i in range(0, 10):\n",
    "        epsilon = 2**(-i)\n",
    "        suma_acumulada = valor_referencia\n",
    "        numeros_sumas = 1\n",
    "        n = 1\n",
    "        while (valor_referencia**n > epsilon):\n",
    "            numeros_sumas = numeros_sumas + 1\n",
    "            suma_acumulada = suma_acumulada + (valor_referencia)**n\n",
    "            n = n + 1\n",
    "\n",
    "        diff = abs(suma_acumulada - suma_objetivo)\n",
    "\n",
    "        list_res.append((numeros_sumas, epsilon, diff))\n",
    "\n",
    "    return list_res\n",
    "\n",
    "res = ejercicio_05(0.99, 99)\n",
    "\n",
    "display(Markdown('''\n",
    "| n | Sumas realizadas | e | Diferencia |\n",
    "|----|----|-------|-------|\n",
    "| %d | %d | %.10f | %.15f |\n",
    "| %d | %d | %.10f | %.15f |\n",
    "| %d | %d | %.10f | %.15f |\n",
    "| %d | %d | %.10f | %.15f |\n",
    "| %d | %d | %.10f | %.15f |\n",
    "| %d | %d | %.10f | %.15f |\n",
    "| %d | %d | %.10f | %.15f |\n",
    "| %d | %d | %.10f | %.15f |\n",
    "| %d | %d | %.10f | %.15f |\n",
    "| %d | %d | %.10f | %.15f |\n",
    "''' % (0,res[0][0], res[0][1], res[0][2]\n",
    "      ,1,res[1][0], res[1][1], res[1][2]\n",
    "      ,2,res[2][0], res[2][1], res[2][2]\n",
    "      ,3,res[3][0], res[3][1], res[3][2]\n",
    "      ,4,res[4][0], res[4][1], res[4][2]\n",
    "      ,5,res[5][0], res[5][1], res[5][2]\n",
    "      ,6,res[6][0], res[6][1], res[6][2]\n",
    "      ,7,res[7][0], res[7][1], res[7][2]\n",
    "      ,8,res[8][0], res[8][1], res[8][2]\n",
    "      ,9,res[9][0], res[9][1], res[9][2]\n",
    ")\n",
    "))"
   ]
  },
  {
   "cell_type": "markdown",
   "metadata": {},
   "source": [
    "$\\qquad$ Como se puede ver, a medida que achicamos $\\epsilon$ aumentan la cantidad de sumas a realizar y disminuye el margen de error al valor que se quiere llegar."
   ]
  },
  {
   "cell_type": "markdown",
   "metadata": {},
   "source": [
    "#### Ejercicio 6\n",
    "Escribir un programa para calcular \n",
    "$$f(x)=\\sqrt{x^2+1}-1$$\n",
    "$$g(x)=\\frac{x^2}{\\sqrt{x^2+1}+1}$$\n",
    "para la sucesión $8^{-1}$, $8^{-2}$, $8^{-3}$, $\\ldots$, $8^{-10}$. Aunque $f = g$ la computadora produce resultados distintos ¿Cuál es más confiable?"
   ]
  },
  {
   "cell_type": "markdown",
   "metadata": {},
   "source": [
    "$\\qquad$ Sea entonces $S_n = 8^{-n}$ para $1\\leq n \\leq 10$, realizamos $f(S_n)$ y $g(S_n)$\n"
   ]
  },
  {
   "cell_type": "code",
   "execution_count": 330,
   "metadata": {},
   "outputs": [
    {
     "data": {
      "text/latex": [
       "$S_{1}=f(8^{-1}) = 0.0077822185373186414 \\implies g(8^{-1}) = 0.0077822185373187065$"
      ],
      "text/plain": [
       "<IPython.core.display.Latex object>"
      ]
     },
     "metadata": {},
     "output_type": "display_data"
    },
    {
     "data": {
      "text/latex": [
       "$S_{2}=f(8^{-2}) = 0.00012206286282867573 \\implies g(8^{-2}) = 0.00012206286282875901$"
      ],
      "text/plain": [
       "<IPython.core.display.Latex object>"
      ]
     },
     "metadata": {},
     "output_type": "display_data"
    },
    {
     "data": {
      "text/latex": [
       "$S_{3}=f(8^{-3}) = 1.9073468138230965e-06 \\implies g(8^{-3}) = 1.907346813826566e-06$"
      ],
      "text/plain": [
       "<IPython.core.display.Latex object>"
      ]
     },
     "metadata": {},
     "output_type": "display_data"
    },
    {
     "data": {
      "text/latex": [
       "$S_{4}=f(8^{-4}) = 2.9802321943606103e-08 \\implies g(8^{-4}) = 2.9802321943606116e-08$"
      ],
      "text/plain": [
       "<IPython.core.display.Latex object>"
      ]
     },
     "metadata": {},
     "output_type": "display_data"
    },
    {
     "data": {
      "text/latex": [
       "$S_{5}=f(8^{-5}) = 4.656612873077393e-10 \\implies g(8^{-5}) = 4.6566128719931904e-10$"
      ],
      "text/plain": [
       "<IPython.core.display.Latex object>"
      ]
     },
     "metadata": {},
     "output_type": "display_data"
    },
    {
     "data": {
      "text/latex": [
       "$S_{6}=f(8^{-6}) = 7.275957614183426e-12 \\implies g(8^{-6}) = 7.275957614156956e-12$"
      ],
      "text/plain": [
       "<IPython.core.display.Latex object>"
      ]
     },
     "metadata": {},
     "output_type": "display_data"
    },
    {
     "data": {
      "text/latex": [
       "$S_{7}=f(8^{-7}) = 1.1368683772161603e-13 \\implies g(8^{-7}) = 1.1368683772160957e-13$"
      ],
      "text/plain": [
       "<IPython.core.display.Latex object>"
      ]
     },
     "metadata": {},
     "output_type": "display_data"
    },
    {
     "data": {
      "text/latex": [
       "$S_{8}=f(8^{-8}) = 1.7763568394002505e-15 \\implies g(8^{-8}) = 1.7763568394002489e-15$"
      ],
      "text/plain": [
       "<IPython.core.display.Latex object>"
      ]
     },
     "metadata": {},
     "output_type": "display_data"
    },
    {
     "data": {
      "text/latex": [
       "$S_{9}=f(8^{-9}) = 0.0 \\implies g(8^{-9}) = 2.7755575615628914e-17$"
      ],
      "text/plain": [
       "<IPython.core.display.Latex object>"
      ]
     },
     "metadata": {},
     "output_type": "display_data"
    },
    {
     "data": {
      "text/latex": [
       "$S_{10}=f(8^{-10}) = 0.0 \\implies g(8^{-10}) = 4.336808689942018e-19$"
      ],
      "text/plain": [
       "<IPython.core.display.Latex object>"
      ]
     },
     "metadata": {},
     "output_type": "display_data"
    }
   ],
   "source": [
    "def ejercicio_06():\n",
    "    def f(x):\n",
    "        return math.sqrt(x**2 + 1) - 1\n",
    "\n",
    "    def g(x):\n",
    "        return (x**2) / (math.sqrt(x**2 + 1) + 1)\n",
    "\n",
    "    i = 1\n",
    "    while(i <= 10):\n",
    "        display(Latex('$S_{'+ str(i) + '}=f(8^{' + str(-i) + '}) = ' + str(f(8**(-i))) + ' \\implies g(8^{' + str(-i) + '}) = ' + str(g(8**(-i))) + '$' ))\n",
    "        i += 1\n",
    "    \n",
    "ejercicio_06()\n"
   ]
  },
  {
   "cell_type": "markdown",
   "metadata": {},
   "source": [
    "$\\qquad$ Vemos entonces que para $S_n$ con $n >= 9$, $f(S_n)$ comienza a arrojar el valor $0$, mientras que $g(S_n)$ continua arrojando valores menos cuestionables. Entonces podemos apreciar que la funcion $g(x)$ es la más confiable. Esto se debe a que $f(x)$ cuando $$x^2 \\rightarrow 0 \\implies \\sqrt{x^2 + 1} \\rightarrow 1$$ $\\qquad$ y luego queda una operación de resta entre números muy parecidos, que es algo que hay que evitar ya que genera mucho error."
   ]
  },
  {
   "cell_type": "markdown",
   "metadata": {},
   "source": [
    "#### Ejercicio 7\n",
    "Escribir un algoritmo para estimar el número de máquina"
   ]
  },
  {
   "cell_type": "markdown",
   "metadata": {},
   "source": [
    "$\\qquad$ Sea $e_M$ el epsilon de máquina,  veamos que si $fl(1+\\epsilon) = 1 \\implies \\frac{\\epsilon}{2} \\leq e_M$\n",
    "\n",
    "$\\qquad$ Entonces tomaremos que $e_M \\approx \\frac{\\epsilon}{2}$. Luego, tomando que $\\vert \\delta \\vert \\leq e_M$\n",
    "\n",
    "$$fl(1+\\epsilon) = ( 1 + \\epsilon ) \\cdot ( 1 + \\delta) = 1 $$\n",
    "$$ 1 + \\delta + \\epsilon + \\epsilon \\cdot \\delta = 1 $$\n",
    "$$ \\delta \\cdot ( 1 + \\epsilon ) = - \\epsilon $$\n",
    "$$ \\delta = - \\frac{\\epsilon}{( 1 + \\epsilon )} $$\n",
    "\n",
    "$\\qquad$ Tomando modulo\n",
    "\n",
    "$$ \\vert \\delta \\vert = \\frac{\\epsilon}{( 1 + \\epsilon )} $$\n",
    "\n",
    "$\\qquad$ como $\\epsilon < 1$\n",
    "\n",
    "$$ \\vert \\delta \\vert = \\frac{\\epsilon}{( 1 + \\epsilon )} \\geq \\frac{\\epsilon}{( 1 + 1 )} = \\frac{\\epsilon}{2} $$\n",
    "\n",
    "$$ \\frac{\\epsilon}{2} \\leq \\vert \\delta \\vert \\leq \\epsilon_M$$\n",
    "\n",
    "$$\\frac{\\epsilon}{2} \\leq \\epsilon_M$$"
   ]
  },
  {
   "cell_type": "markdown",
   "metadata": {},
   "source": [
    "$\\qquad$ Esto nos dice que que tomando un $\\epsilon = 2^{-n}$ con $n \\geq 1$ hasta verificar que $fl(1+\\epsilon) = 1$"
   ]
  },
  {
   "cell_type": "code",
   "execution_count": 331,
   "metadata": {},
   "outputs": [
    {
     "data": {
      "text/latex": [
       "$\\epsilon_M = 2^{-53} = 5.551115123125783e-17$ para maquina de 64bit"
      ],
      "text/plain": [
       "<IPython.core.display.Latex object>"
      ]
     },
     "metadata": {},
     "output_type": "display_data"
    }
   ],
   "source": [
    "def ejercicio_07():\n",
    "    eps = 2**-1\n",
    "    n = 1\n",
    "    while 1 + eps != 1:\n",
    "        n = n + 1\n",
    "        eps = eps / 2\n",
    "\n",
    "    eps = eps / 2\n",
    "    display(Latex('$\\epsilon_M = 2^{-' + str(n) + '} = '+ str(eps) + '$ para maquina de ' + str(platform.architecture()[0])))\n",
    "\n",
    "ejercicio_07()"
   ]
  },
  {
   "cell_type": "markdown",
   "metadata": {},
   "source": [
    "#### Ejercicio 8\n",
    "Sean\n",
    "$$x = [2.718281828; −3.141592654; 1.414213562; 0.5772156649; 0.3010299957]$$\n",
    "$$y = [1486.2497; 878366.9879; −22.37429; 4773714.647; 0.000185049]$$\n",
    "$\\qquad$ Calcular $\\sum_{i=1}^{n} x_i \\cdot y_i$ de las siguientes maneras\n",
    "\n",
    "$\\qquad$ (a) para adelante : $\\sum_{i=1}^{n} x_i \\cdot y_i$"
   ]
  },
  {
   "cell_type": "code",
   "execution_count": 332,
   "metadata": {},
   "outputs": [
    {
     "data": {
      "text/markdown": [
       "\n",
       "| n | Valor calculado | Valor referencia | Diferencia |\n",
       "|----|-------|-------|-------|\n",
       "| a | 4040.04555138045179774053 | 4040.04555138045179774053 | 0.00000000000000000000 |\n",
       "| b | -2759471.27670274674892425537 | -2759471.27670274674892425537 | 0.00000000000000000000 |\n",
       "| c | -31.64202435812097746748 | -31.64202435812098102019 | 0.00000000000000355271 |\n",
       "| d | 2755462.87401097360998392105 | 2755462.87401097360998392105 | 0.00000000000000000000 |\n",
       "| d | 0.00005570529967428930 | 0.00005570529967428930 | 0.00000000000000000000 |\n"
      ],
      "text/plain": [
       "<IPython.core.display.Markdown object>"
      ]
     },
     "metadata": {},
     "output_type": "display_data"
    }
   ],
   "source": [
    "#Cargo el total obtenido realizando las cuentas desde una calculadora.\n",
    "from mpmath import mpf\n",
    "\n",
    "res_real = mpf(0.0008909545339942893)\n",
    "res_punto_a = mpf(0)\n",
    "res_punto_b = mpf(0)\n",
    "res_punto_c = mpf(0)\n",
    "res_punto_d = mpf(0)\n",
    "\n",
    "x = [mpf(2.718281828), mpf(-3.141592654), mpf(1.414213562), mpf(0.5772156649), mpf(0.3010299957)]\n",
    "y = [mpf(1486.2497), mpf(878366.9879), mpf(-22.37429), mpf(4773714.647), mpf(0.000185049)]\n",
    "\n",
    "x_por_y = []\n",
    "\n",
    "x_por_y_ref = [mpf(4040.0455513804516), mpf(-2759471.2767027468866), mpf(-31.64202435812098), mpf(2755462.8740109737903), mpf(5.57052996742893e-5)]\n",
    "\n",
    "def multiplicar(arr_a, arr_b):\n",
    "    res = []\n",
    "    for i in range (len(x)):\n",
    "        res.append(x[i]*y[i])\n",
    "    \n",
    "    return res\n",
    "\n",
    "x_por_y = multiplicar(x, y)\n",
    "\n",
    "display(Markdown('''\n",
    "| n | Valor calculado | Valor referencia | Diferencia |\n",
    "|----|-------|-------|-------|\n",
    "| a | %.20f | %.20f | %.20f |\n",
    "| b | %.20f | %.20f | %.20f |\n",
    "| c | %.20f | %.20f | %.20f |\n",
    "| d | %.20f | %.20f | %.20f |\n",
    "| d | %.20f | %.20f | %.20f |\n",
    "''' % (x_por_y[0], x_por_y_ref[0], (x_por_y[0] - x_por_y_ref[0])\n",
    "      ,x_por_y[1], x_por_y_ref[1], (x_por_y[1] - x_por_y_ref[1])\n",
    "      ,x_por_y[2], x_por_y_ref[2], (x_por_y[2] - x_por_y_ref[2])\n",
    "      ,x_por_y[3], x_por_y_ref[3], (x_por_y[3] - x_por_y_ref[3])\n",
    "      ,x_por_y[4], x_por_y_ref[4], (x_por_y[4] - x_por_y_ref[4])\n",
    ")\n",
    "))\n"
   ]
  },
  {
   "cell_type": "code",
   "execution_count": 333,
   "metadata": {},
   "outputs": [
    {
     "name": "stdout",
     "output_type": "stream",
     "text": [
      "iteracion [1] suma previa [mpf('0.0')], valor a sumar [mpf('4040.0455513804518')] nuevo valor acumulada [mpf('4040.0455513804518')] \n",
      "iteracion [2] suma previa [mpf('4040.0455513804518')], valor a sumar [mpf('-2759471.2767027467')] nuevo valor acumulada [mpf('-2755431.2311513661')] \n",
      "iteracion [3] suma previa [mpf('-2755431.2311513661')], valor a sumar [mpf('-31.642024358120977')] nuevo valor acumulada [mpf('-2755462.8731757244')] \n",
      "iteracion [4] suma previa [mpf('-2755462.8731757244')], valor a sumar [mpf('2755462.8740109736')] nuevo valor acumulada [mpf('0.00083524920046329498')] \n",
      "iteracion [5] suma previa [mpf('0.00083524920046329498')], valor a sumar [mpf('5.5705299674289299e-5')] nuevo valor acumulada [mpf('0.00089095450013758424')] \n",
      "resultado final mpf('0.00089095450013758424')\n"
     ]
    }
   ],
   "source": [
    "\n",
    "def punto_a(arr):\n",
    "    valor = mpf(0)\n",
    "    acum = mpf(0)\n",
    "    for i in range (len(arr)):\n",
    "        temp_acum = acum\n",
    "        valor = arr[i]\n",
    "        acum += arr[i]\n",
    "        print(f\"iteracion [{i+1}] suma previa [{repr(temp_acum)}], valor a sumar [{repr(valor)}] nuevo valor acumulada [{repr(acum)}] \")\n",
    "\n",
    "    print(f\"resultado final {repr(acum)}\")\n",
    "    return acum\n",
    "\n",
    "res_punto_a = punto_a(x_por_y)\n"
   ]
  },
  {
   "cell_type": "markdown",
   "metadata": {},
   "source": [
    "$\\qquad$ (b) para atrás : $\\sum_{i=n}^{1} x_i \\cdot y_i$"
   ]
  },
  {
   "cell_type": "code",
   "execution_count": 334,
   "metadata": {},
   "outputs": [
    {
     "name": "stdout",
     "output_type": "stream",
     "text": [
      "iteracion [6] suma previa [mpf('0.0')], valor a sumar [mpf('5.5705299674289299e-5')] nuevo valor acumulada [mpf('5.5705299674289299e-5')] \n",
      "iteracion [5] suma previa [mpf('5.5705299674289299e-5')], valor a sumar [mpf('2755462.8740109736')] nuevo valor acumulada [mpf('2755462.8740666788')] \n",
      "iteracion [4] suma previa [mpf('2755462.8740666788')], valor a sumar [mpf('-31.642024358120977')] nuevo valor acumulada [mpf('2755431.2320423205')] \n",
      "iteracion [3] suma previa [mpf('2755431.2320423205')], valor a sumar [mpf('-2759471.2767027467')] nuevo valor acumulada [mpf('-4040.0446604262106')] \n",
      "iteracion [2] suma previa [mpf('-4040.0446604262106')], valor a sumar [mpf('4040.0455513804518')] nuevo valor acumulada [mpf('0.00089095424118568189')] \n",
      "resultado final mpf('0.00089095424118568189')\n"
     ]
    }
   ],
   "source": [
    "def punto_b(arr):\n",
    "    acum = mpf(0)\n",
    "    valor = mpf(0)\n",
    "    for i in range(len(arr), 0, -1):\n",
    "        temp_acum = acum\n",
    "        valor = arr[i-1]\n",
    "        acum += arr[i-1]\n",
    "        print(f\"iteracion [{i+1}] suma previa [{repr(temp_acum)}], valor a sumar [{repr(valor)}] nuevo valor acumulada [{repr(acum)}] \")\n",
    "\n",
    "    print(f\"resultado final {repr(acum)}\")\n",
    "    return acum\n",
    "\n",
    "res_punto_b = punto_b(x_por_y)"
   ]
  },
  {
   "cell_type": "markdown",
   "metadata": {},
   "source": [
    "$\\qquad$ (c) positivos de mayor a menor $+$ negativos de menor a mayor"
   ]
  },
  {
   "cell_type": "code",
   "execution_count": 335,
   "metadata": {},
   "outputs": [
    {
     "name": "stdout",
     "output_type": "stream",
     "text": [
      "pos_sorted [mpf('2755462.8740109736'), mpf('4040.0455513804518'), mpf('5.5705299674289299e-5')]\n",
      "neg_sorted [mpf('-2759471.2767027467'), mpf('-31.642024358120977')]\n",
      "iteracion [1] suma previa [mpf('0.0')], valor a sumar [mpf('2755462.8740109736')] nuevo valor acumulada [mpf('2755462.8740109736')] \n",
      "iteracion [2] suma previa [mpf('2755462.8740109736')], valor a sumar [mpf('4040.0455513804518')] nuevo valor acumulada [mpf('2759502.9195623542')] \n",
      "iteracion [3] suma previa [mpf('2759502.9195623542')], valor a sumar [mpf('5.5705299674289299e-5')] nuevo valor acumulada [mpf('2759502.9196180594')] \n",
      "\n",
      "iteracion [1] suma previa [mpf('0.0')], valor a sumar [mpf('-2759471.2767027467')] nuevo valor acumulada [mpf('-2759471.2767027467')] \n",
      "iteracion [2] suma previa [mpf('-2759471.2767027467')], valor a sumar [mpf('-31.642024358120977')] nuevo valor acumulada [mpf('-2759502.918727105')] \n",
      "ultima operacion mpf('2759502.9196180594') + mpf('-2759502.918727105')\n",
      "resultado final mpf('0.0008909543976187706')\n"
     ]
    }
   ],
   "source": [
    "def punto_c(arr):\n",
    "    pos = []\n",
    "    neg = []\n",
    "    item = mpf(0)\n",
    "    for i in range(len(arr)):\n",
    "        item = arr[i]\n",
    "        if(item > 0):\n",
    "            pos.append(item)\n",
    "        else:\n",
    "            neg.append(item)\n",
    "    \n",
    "    ## Ordeno el array de positivos de Mayor a Menor\n",
    "    pos_sorted = sorted(pos, reverse=True)\n",
    "    \n",
    "    ## Ordeno el array de negativos de Menor a Mayor\n",
    "    neg_sorted = sorted(neg, reverse=False)\n",
    "    \n",
    "    print(f\"pos_sorted {pos_sorted}\")\n",
    "    print(f\"neg_sorted {neg_sorted}\")\n",
    "\n",
    "    total = mpf(0)\n",
    "    valor = mpf(0)\n",
    "    total_pos = mpf(0)\n",
    "    total_neg = mpf(0)\n",
    "    \n",
    "    for i in range (len(pos_sorted)):\n",
    "        temp_acum = total_pos\n",
    "        valor = pos_sorted[i]\n",
    "        total_pos += pos_sorted[i]\n",
    "        print(f\"iteracion [{i+1}] suma previa [{repr(temp_acum)}], valor a sumar [{repr(valor)}] nuevo valor acumulada [{repr(total_pos)}] \")\n",
    "\n",
    "    print(\"\")\n",
    "    \n",
    "    for i in range (len(neg_sorted)):\n",
    "        temp_acum = total_neg\n",
    "        valor = neg_sorted[i]\n",
    "        total_neg += neg_sorted[i]\n",
    "        print(f\"iteracion [{i+1}] suma previa [{repr(temp_acum)}], valor a sumar [{repr(valor)}] nuevo valor acumulada [{repr(total_neg)}] \")\n",
    "\n",
    "    print(f\"ultima operacion {repr(total_pos)} + {repr(total_neg)}\")\n",
    "    total = total_pos + total_neg\n",
    "    print(f\"resultado final {repr(total)}\")\n",
    "    return total\n",
    "\n",
    "res_punto_c = punto_c(x_por_y)"
   ]
  },
  {
   "cell_type": "markdown",
   "metadata": {},
   "source": [
    "$\\qquad$ (d) positivos de menor a mayor $+$ negativos de mayor a menor"
   ]
  },
  {
   "cell_type": "code",
   "execution_count": 336,
   "metadata": {},
   "outputs": [
    {
     "name": "stdout",
     "output_type": "stream",
     "text": [
      "pos_sorted [mpf('5.5705299674289299e-5'), mpf('4040.0455513804518'), mpf('2755462.8740109736')]\n",
      "neg_sorted [mpf('-31.642024358120977'), mpf('-2759471.2767027467')]\n",
      "iteracion [1] suma previa [mpf('0.0')], valor a sumar [mpf('5.5705299674289299e-5')] nuevo valor acumulada [mpf('5.5705299674289299e-5')] \n",
      "iteracion [2] suma previa [mpf('5.5705299674289299e-5')], valor a sumar [mpf('4040.0455513804518')] nuevo valor acumulada [mpf('4040.0456070857513')] \n",
      "iteracion [3] suma previa [mpf('4040.0456070857513')], valor a sumar [mpf('2755462.8740109736')] nuevo valor acumulada [mpf('2759502.9196180594')] \n",
      "\n",
      "iteracion [1] suma previa [mpf('0.0')], valor a sumar [mpf('-31.642024358120977')] nuevo valor acumulada [mpf('-31.642024358120977')] \n",
      "iteracion [2] suma previa [mpf('-31.642024358120977')], valor a sumar [mpf('-2759471.2767027467')] nuevo valor acumulada [mpf('-2759502.918727105')] \n",
      "ultima operacion mpf('2759502.9196180594') + mpf('-2759502.918727105')\n",
      "resultado final mpf('0.0008909543976187706')\n"
     ]
    }
   ],
   "source": [
    "def punto_d(arr):\n",
    "    pos = []\n",
    "    neg = []\n",
    "    item = mpf(0)\n",
    "    for i in range(len(arr)):\n",
    "        item = arr[i]\n",
    "        if(item > 0):\n",
    "            pos.append(item)\n",
    "        else:\n",
    "            neg.append(item)\n",
    "\n",
    "    ## Ordeno el array de positivos de Menor a Mayor\n",
    "    pos_sorted = sorted(pos, reverse=False)\n",
    "    ## Ordeno el array de negativos de Mayor a Menor\n",
    "    neg_sorted = sorted(neg, reverse=True)\n",
    "\n",
    "    print(f\"pos_sorted {pos_sorted}\")\n",
    "    print(f\"neg_sorted {neg_sorted}\")\n",
    "\n",
    "    total = mpf(0)\n",
    "    valor = mpf(0)\n",
    "    total_pos = mpf(0)\n",
    "    total_neg = mpf(0)\n",
    "    \n",
    "    for i in range (len(pos_sorted)):\n",
    "        temp_acum = total_pos\n",
    "        valor = pos_sorted[i]\n",
    "        total_pos += pos_sorted[i]\n",
    "        print(f\"iteracion [{i+1}] suma previa [{repr(temp_acum)}], valor a sumar [{repr(valor)}] nuevo valor acumulada [{repr(total_pos)}] \")\n",
    "\n",
    "    print(\"\")\n",
    "\n",
    "    for i in range (len(neg_sorted)):\n",
    "        temp_acum = total_neg\n",
    "        valor = neg_sorted[i]\n",
    "        total_neg += neg_sorted[i]\n",
    "        print(f\"iteracion [{i+1}] suma previa [{repr(temp_acum)}], valor a sumar [{repr(valor)}] nuevo valor acumulada [{repr(total_neg)}] \")\n",
    "\n",
    "    print(f\"ultima operacion {repr(total_pos)} + {repr(total_neg)}\")\n",
    "    total = total_pos + total_neg\n",
    "    print(f\"resultado final {repr(total)}\")\n",
    "    return total\n",
    "\n",
    "res_punto_d = punto_d(x_por_y)\n"
   ]
  },
  {
   "cell_type": "code",
   "execution_count": 337,
   "metadata": {},
   "outputs": [
    {
     "data": {
      "text/markdown": [
       "\n",
       "| n | Valor calculado | Valor referencia | Diferencia |\n",
       "|----|-------|-------|-------|\n",
       "| a | 0.00089095450013758424 | 0.00089095453399428933 | 0.00000000003385670509 |\n",
       "| b | 0.00089095424118568189 | 0.00089095453399428933 | 0.00000000029280860744 |\n",
       "| c | 0.00089095439761877060 | 0.00089095453399428933 | 0.00000000013637551873 |\n",
       "| d | 0.00089095439761877060 | 0.00089095453399428933 | 0.00000000013637551873 |\n"
      ],
      "text/plain": [
       "<IPython.core.display.Markdown object>"
      ]
     },
     "metadata": {},
     "output_type": "display_data"
    }
   ],
   "source": [
    "display(Markdown('''\n",
    "| n | Valor calculado | Valor referencia | Diferencia |\n",
    "|----|-------|-------|-------|\n",
    "| a | %.20f | %.20f | %.20f |\n",
    "| b | %.20f | %.20f | %.20f |\n",
    "| c | %.20f | %.20f | %.20f |\n",
    "| d | %.20f | %.20f | %.20f |\n",
    "''' % (res_punto_a, res_real, (res_real - res_punto_a)\n",
    "      ,res_punto_b, res_real, (res_real - res_punto_b)\n",
    "      ,res_punto_c, res_real, (res_real - res_punto_c)\n",
    "      ,res_punto_d, res_real, (res_real - res_punto_d)\n",
    ")\n",
    "))"
   ]
  },
  {
   "cell_type": "markdown",
   "metadata": {},
   "source": [
    "$\\qquad$ ¿Cuál resultado es más confiable y por qué?\n",
    "\n",
    "$\\qquad$ De lo que se puede apreciar segun los resultados, el punto \"a\" es el que arroja el menor error, por lo que debería ser el mas confiable. Analizando un poco los resultados parciales de cada punto vemos que:\n",
    "\n",
    "$\\qquad$ El punto a tiene \n",
    "- Una resta de numeros muy parecidos\n",
    "\n",
    "$\\qquad$ El punto b tiene\n",
    "\n",
    "- Una suma de numeros muy distantes\n",
    "- Dos restas de numeros muy parecidos\n",
    "\n",
    "$\\qquad$ El punto c tiene\n",
    "- Una suma de numeros muy distantes\n",
    "- Una resta de numeros muy parecidos\n",
    "\n",
    "$\\qquad$ El punto d tiene\n",
    "- Una suma de numeros muy distantes\n",
    "- Una resta de numeros muy parecidos\n",
    "\n",
    "$\\qquad$ Por lo tiene sentido pensar que el **punto (a)** arrastra menos error, y también coincide con que el **punto (b)** sea la forma con mayor error."
   ]
  },
  {
   "cell_type": "markdown",
   "metadata": {},
   "source": [
    "#### Ejercicio 9\n",
    "Considerar la sucesión\n",
    "$$x_0 = 1, x_1=\\frac{1}{3}$$\n",
    "$$x_{n+1} = \\frac{13}{3}x_n - \\frac{4}{3}x_{n-1}$$\n",
    "Dar una fórmula cerrada para $X_n$. Escribir un programa que calcule $X_n$ de ambas formas y comparar."
   ]
  },
  {
   "cell_type": "markdown",
   "metadata": {},
   "source": [
    "$\\qquad$ En clase se propuso y demostro que una formula cerrada para $X_n=(\\frac{1}{3})^2$, la cual se puede calcular mediante una fórmula y luego por inducción se demuestra su veracidad. Esto se realizará en detalle en el ejercicio siguiente.\n",
    "\n",
    "$\\qquad$ Partiendo entonces de lo anterior llamemos $r_n$ a la formula recursiva y $s_n$ a la formula cerrada:"
   ]
  },
  {
   "cell_type": "code",
   "execution_count": 338,
   "metadata": {},
   "outputs": [
    {
     "data": {
      "text/markdown": [
       "\n",
       "| n | Fórmula Cerrada | Fórmula Recursiva | Diferencia |\n",
       "|----|-------|-------|-------|\n",
       "| 0 | 1.00000000000000000000 | 1.00000000000000000000 | 0.00000000000000000000 |\n",
       "| 1 | 0.33333333333333331483 | 0.33333333333333331483 | 0.00000000000000000000 |\n",
       "| 2 | 0.11111111111111110494 | 0.11111111111111093841 | 0.00000000000000016653 |\n",
       "| 3 | 0.03703703703703702804 | 0.03703703703703625782 | 0.00000000000000077022 |\n",
       "| 4 | 0.01234567901234567659 | 0.01234567901234251419 | 0.00000000000000316240 |\n",
       "| 5 | 0.00411522633744855829 | 0.00411522633743588440 | 0.00000000000001267389 |\n",
       "| 6 | 0.00137174211248285269 | 0.00137174211243214564 | 0.00000000000005070705 |\n",
       "| 7 | 0.00045724737082761756 | 0.00045724737062478524 | 0.00000000000020283233 |\n",
       "| 8 | 0.00015241579027587250 | 0.00015241578946454185 | 0.00000000000081133066 |\n",
       "| 9 | 0.00005080526342529084 | 0.00005080526017996764 | 0.00000000000324532319 |\n"
      ],
      "text/plain": [
       "<IPython.core.display.Markdown object>"
      ]
     },
     "metadata": {},
     "output_type": "display_data"
    }
   ],
   "source": [
    "def s_n(n): return (1/3)**n\n",
    "\n",
    "def r_n(n):\n",
    "    if n == 0 :\n",
    "        return 1\n",
    "    elif n == 1 :\n",
    "        return 1/3\n",
    "    else:\n",
    "        return (13/3)*r_n(n-1) - (4/3)*r_n(n-2)\n",
    "\n",
    "lst_r_n = []\n",
    "lst_s_n = []\n",
    "\n",
    "for i in range(10):\n",
    "    lst_s_n.append(s_n(i))\n",
    "    lst_r_n.append(r_n(i))\n",
    "\n",
    "display(Markdown('''\n",
    "| n | Fórmula Cerrada | Fórmula Recursiva | Diferencia |\n",
    "|----|-------|-------|-------|\n",
    "| %d | %.20f | %.20f | %.20f |\n",
    "| %d | %.20f | %.20f | %.20f |\n",
    "| %d | %.20f | %.20f | %.20f |\n",
    "| %d | %.20f | %.20f | %.20f |\n",
    "| %d | %.20f | %.20f | %.20f |\n",
    "| %d | %.20f | %.20f | %.20f |\n",
    "| %d | %.20f | %.20f | %.20f |\n",
    "| %d | %.20f | %.20f | %.20f |\n",
    "| %d | %.20f | %.20f | %.20f |\n",
    "| %d | %.20f | %.20f | %.20f |\n",
    "''' % (0,lst_s_n[0], lst_r_n[0], (lst_s_n[0] - lst_r_n[0])\n",
    ",1,lst_s_n[1], lst_r_n[1], (lst_s_n[1] - lst_r_n[1])\n",
    ",2,lst_s_n[2], lst_r_n[2], (lst_s_n[2] - lst_r_n[2])\n",
    ",3,lst_s_n[3], lst_r_n[3], (lst_s_n[3] - lst_r_n[3])\n",
    ",4,lst_s_n[4], lst_r_n[4], (lst_s_n[4] - lst_r_n[4])\n",
    ",5,lst_s_n[5], lst_r_n[5], (lst_s_n[5] - lst_r_n[5])\n",
    ",6,lst_s_n[6], lst_r_n[6], (lst_s_n[6] - lst_r_n[6])\n",
    ",7,lst_s_n[7], lst_r_n[7], (lst_s_n[7] - lst_r_n[7])\n",
    ",8,lst_s_n[8], lst_r_n[8], (lst_s_n[8] - lst_r_n[8])\n",
    ",9,lst_s_n[9], lst_r_n[9], (lst_s_n[9] - lst_r_n[9])\n",
    ")\n",
    "))\n"
   ]
  },
  {
   "cell_type": "markdown",
   "metadata": {},
   "source": [
    "¿Cuál es más confiable?¿Por qué?\n",
    "\n",
    "Como se fue evidenciando a lo largo de los ejercicios, calcular una sucesión de forma recursiva es, salvo casos excepcionales, muy inestable. En general, cada paso recursivo termina arrastrando errores de pasos anteriores. En este caso particular, se evidencian otros dos problemas, primero, se hace más grave ya que tras cada paso, ambos términos de la recursión estan siendo multiplicados por factor mayor a 1, y segundo, tenemos una operación de resta, que a medida que la recursión avanza es más probable que realice restas de numeros parecidos. Por todo lo comentado anteriormente, es mucho más confiable calcular con la fórmula cerrada que con la recursiva."
   ]
  },
  {
   "cell_type": "markdown",
   "metadata": {},
   "source": [
    "#### Ejercicio 10\n",
    "Consideremos la siguiente modificación de la serie de Fibonacci:\n",
    "$$r_0=1, r_1=\\frac{1-\\sqrt{5}}{2}$$\n",
    "$$r_{n+1}=r_n + r_{n-1}$$\n",
    "¿Cuál es la fórmula cerrada $r_n$?"
   ]
  },
  {
   "cell_type": "markdown",
   "metadata": {},
   "source": [
    "$\\qquad$ Para calcular la fórmula cerrada, proponemos la forma general $S_n = A\\cdot\\lambda^n + B\\cdot\\mu^n$\n",
    "\n",
    "$\\qquad$ Luego, $$S_{n+1} = A\\cdot\\lambda^{n+1} + B\\cdot\\mu^{n+1}$$ \n",
    "$$A\\cdot\\lambda^{n+1} + B\\cdot\\mu^{n+1} = (A\\cdot\\lambda^{n} + B\\cdot\\mu^{n}) + (A\\cdot\\lambda^{n-1} + B\\cdot\\mu^{n-1}) $$\n",
    "$$A\\cdot\\lambda^{n+1} + B\\cdot\\mu^{n+1} - A\\cdot\\lambda^{n} - B\\cdot\\mu^{n} - A\\cdot\\lambda^{n-1} - B\\cdot\\mu^{n-1} = 0$$\n",
    "\n",
    "$$A\\cdot( \\lambda^{n+1} - \\lambda^{n} - \\lambda^{n-1} ) + B\\cdot( \\mu^{n+1} - \\mu^{n} - \\mu^{n-1}) = 0$$\n",
    "$$A\\cdot\\lambda^{n-1}\\cdot( \\lambda^{2} - \\lambda - 1 ) + B\\cdot\\mu^{n-1}\\cdot( \\mu^{2} - \\mu - 1) = 0$$"
   ]
  },
  {
   "cell_type": "markdown",
   "metadata": {},
   "source": [
    "$\\qquad$ Tenemos entonces 2 ecuaciones cuadraticas que en realidad son la misma forma pero distinta variable. Calculamos entonces sus raices\n",
    "$$Sr_1, Sr_2 = \\frac{-b \\pm \\sqrt{b^2 - 4 \\cdot a \\cdot c}}{2 \\cdot a}$$\n",
    "$$Sr_1, Sr_2 = \\frac{1 \\pm \\sqrt{1 - 4 \\cdot 1 \\cdot (-1)}}{2 \\cdot 1}$$\n",
    "$$Sr_1, Sr_2 = \\frac{1 \\pm \\sqrt{5}}{2}$$\n"
   ]
  },
  {
   "cell_type": "markdown",
   "metadata": {},
   "source": [
    "\n",
    "$\\qquad$ Entonces, para los valores de las constantes $A$ y $B$, utilizaremos los casos base y los valores de las raices cuando $n = \\{0,1\\}$, luego:\n",
    "\n",
    "$$S_{n} = A\\cdot\\left(\\frac{1 + \\sqrt{5}}{2}\\right)^{n} + B\\cdot\\left(\\frac{1 - \\sqrt{5}}{2}\\right)^{n}$$ \n",
    "\n",
    "$\\qquad$ Para $n = 0$\n",
    "\n",
    "$$S_{0} = A\\cdot\\left(\\frac{1 + \\sqrt{5}}{2}\\right)^{0} + B\\cdot\\left(\\frac{1 - \\sqrt{5}}{2}\\right)^{0}$$ \n",
    "\n",
    "$$1 = A + B \\implies A = 1 - B$$ \n",
    "\n",
    "$\\qquad$ Para $n = 1$\n",
    "\n",
    "$$S_{1} = A\\cdot\\left(\\frac{1 + \\sqrt{5}}{2}\\right)^{1} + B\\cdot\\left(\\frac{1 - \\sqrt{5}}{2}\\right)^{1}$$ \n",
    "\n",
    "$$\\frac{1-\\sqrt{5}}{2} = A\\cdot \\frac{1 + \\sqrt{5}}{2} + B\\cdot \\frac{1 - \\sqrt{5}}{2} $$ \n",
    "\n",
    "$$\\frac{1-\\sqrt{5}}{2} = (1-B)\\cdot \\frac{1 + \\sqrt{5}}{2} + B\\cdot \\frac{1 - \\sqrt{5}}{2} $$\n",
    "\n",
    "$$\\frac{1-\\sqrt{5}}{2} = \\frac{1 + \\sqrt{5}}{2} - B \\cdot \\frac{1 + \\sqrt{5}}{2} + B\\cdot \\frac{1 - \\sqrt{5}}{2} $$\n",
    "\n",
    "$$B \\cdot \\frac{1 + \\sqrt{5}}{2} - B\\cdot \\frac{1 - \\sqrt{5}}{2} = \\frac{1 + \\sqrt{5}}{2} - \\frac{1-\\sqrt{5}}{2}  $$\n",
    "\n",
    "$$B \\cdot \\left( \\frac{1 + \\sqrt{5}}{2} - \\frac{1 - \\sqrt{5}}{2} \\right) = \\frac{1 + \\sqrt{5}}{2} - \\frac{1-\\sqrt{5}}{2}  $$\n",
    "\n",
    "$$B = \\frac{\\frac{1 + \\sqrt{5}}{2} - \\frac{1-\\sqrt{5}}{2} } {\\frac{1 + \\sqrt{5}}{2} - \\frac{1 - \\sqrt{5}}{2}} $$\n",
    "\n",
    "$$ B = 1 $$\n",
    "\n",
    "$\\qquad$ Por último, $A = 1 - B \\implies A = 1 - 1 \\implies A = 0$\n",
    "$\\qquad$ Entonces la fórmula cerrada queda\n",
    "\n",
    "$$S_{n} = A\\cdot\\left(\\frac{1 + \\sqrt{5}}{2}\\right)^{n} + B\\cdot\\left(\\frac{1 - \\sqrt{5}}{2}\\right)^{n}$$\n",
    "$$S_{n} = \\left(\\frac{1 - \\sqrt{5}}{2}\\right)^{n}$$\n",
    "\n",
    "\n"
   ]
  },
  {
   "cell_type": "markdown",
   "metadata": {},
   "source": [
    "$\\qquad$ Veamos por inducción que $S_n$ es válido.\n",
    "\n",
    "$\\qquad$ Comprobamos Caso Base.\n",
    "\n",
    "$\\qquad$ Para $n = 0$\n",
    "\n",
    "$$S_{0} = \\left(\\frac{1 - \\sqrt{5}}{2}\\right)^{0} = 1  \\quad \\checkmark$$\n",
    "\n",
    "$\\qquad$ Para $n = 1$\n",
    "\n",
    "$$S_{1} = \\left(\\frac{1 - \\sqrt{5}}{2}\\right)^{1} = \\frac{1 - \\sqrt{5}}{2} \\quad \\checkmark$$\n",
    "\n",
    "$\\qquad$ Comprobamos Hipótesis Inductiva $S_{n+1}$.\n",
    "\n",
    "$$S_{n+1} = \\left(\\frac{1 - \\sqrt{5}}{2}\\right)^{n} + \\left(\\frac{1 - \\sqrt{5}}{2}\\right)^{n-1} $$ \n",
    "\n",
    "$\\qquad$ Sacamos factor común\n",
    "\n",
    "$$\\left(\\frac{1 - \\sqrt{5}}{2}\\right)^{n} \\cdot \\left[ 1 + \\left(\\frac{1 - \\sqrt{5}}{2}\\right)^{-1}\\right]$$\n",
    "\n",
    "$$\\left(\\frac{1 - \\sqrt{5}}{2}\\right)^{n} \\cdot \\left[ 1 + \\left(\\frac{2}{1 - \\sqrt{5}}\\right)\\right]$$\n",
    "\n",
    "$\\qquad$ Cálculo auxiliar\n",
    "\n",
    "$$ 1 + \\left(\\frac{2}{1 - \\sqrt{5}}\\right) = \\left[ 1 + \\left(\\frac{2}{1 - \\sqrt{5}}\\right) \\right] \\cdot \\left( \\frac{1+\\sqrt{5}}{1+\\sqrt{5}} \\right) $$\n",
    "\n",
    "$$ \\frac{1+\\sqrt{5}}{1+\\sqrt{5}} +  \\frac{2 \\cdot ( 1 + \\sqrt{5}) }{ (1 - \\sqrt{5}) (1 + \\sqrt{5}) } $$\n",
    "\n",
    "$$ \\frac{1+\\sqrt{5}}{1+\\sqrt{5}} -  \\frac{ ( 1 + \\sqrt{5}) }{ 2} $$\n",
    "\n",
    "$$ \\frac{2 \\cdot ( 1 + \\sqrt{5}) - ( 1 + \\sqrt{5})^2}{2 \\cdot ( 1 + \\sqrt{5})} $$\n",
    "\n",
    "$$ \\frac{\\cancel{ (1 + \\sqrt{5}) } \\cdot (2 - ( 1 + \\sqrt{5}))}{2 \\cdot \\cancel{  ( 1 + \\sqrt{5}) } } = \\frac{1 - \\sqrt{5}}{2}$$\n",
    "\n",
    "$\\qquad$ Retomando el cálculo...\n",
    "\n",
    "$$\\left(\\frac{1 - \\sqrt{5}}{2}\\right)^{n} \\cdot \\left[ 1 + \\left(\\frac{2}{1 - \\sqrt{5}}\\right)\\right] = \\left(\\frac{1 - \\sqrt{5}}{2}\\right)^{n} \\cdot \\left[ \\frac{1 - \\sqrt{5}}{2} \\right] = \\left(\\frac{1 - \\sqrt{5}}{2}\\right)^{n+1}  \\quad \\checkmark$$\n",
    "\n",
    "$\\qquad$ Entonces vale la formula cerrada.\n"
   ]
  },
  {
   "cell_type": "code",
   "execution_count": 339,
   "metadata": {},
   "outputs": [
    {
     "data": {
      "text/markdown": [
       "\n",
       "| n | Fórmula Cerrada | Fórmula Recursiva | Diferencia |\n",
       "|----|-------|-------|-------|\n",
       "| 0 | 1.00000000000000000000 | 1.00000000000000000000 | 0.00000000000000000000 |\n",
       "| 1 | -0.61803398874989490253 | -0.61803398874989490253 | 0.00000000000000000000 |\n",
       "| 2 | 0.38196601125010520850 | 0.38196601125010509747 | 0.00000000000000011102 |\n",
       "| 3 | -0.23606797749978974954 | -0.23606797749978980505 | 0.00000000000000005551 |\n",
       "| 4 | 0.14589803375031551447 | 0.14589803375031529242 | 0.00000000000000022204 |\n",
       "| 5 | -0.09016994374947427671 | -0.09016994374947451263 | 0.00000000000000023592 |\n",
       "| 6 | 0.05572809000084124470 | 0.05572809000084077979 | 0.00000000000000046491 |\n",
       "| 7 | -0.03444185374863304588 | -0.03444185374863373283 | 0.00000000000000068695 |\n",
       "| 8 | 0.02128623625220820229 | 0.02128623625220704696 | 0.00000000000000115533 |\n",
       "| 9 | -0.01315561749642484880 | -0.01315561749642668588 | 0.00000000000000183707 |\n",
       "| 10 | 0.00813061875578335522 | 0.00813061875578036108 | 0.00000000000000299413 |\n",
       "| 11 | -0.00502499874064149532 | -0.00502499874064632479 | 0.00000000000000482947 |\n",
       "| 12 | 0.00310562001514186163 | 0.00310562001513403629 | 0.00000000000000782534 |\n",
       "| 13 | -0.00191937872549963391 | -0.00191937872551228850 | 0.00000000000001265459 |\n",
       "| 14 | 0.00118624128964222838 | 0.00118624128962174780 | 0.00000000000002048058 |\n",
       "| 15 | -0.00073313743585740575 | -0.00073313743589054070 | 0.00000000000003313495 |\n",
       "| 16 | 0.00045310385378482274 | 0.00045310385373120710 | 0.00000000000005361564 |\n",
       "| 17 | -0.00028003358207258312 | -0.00028003358215933360 | 0.00000000000008675049 |\n",
       "| 18 | 0.00017307027171223962 | 0.00017307027157187349 | 0.00000000000014036613 |\n",
       "| 19 | -0.00010696331036034356 | -0.00010696331058746011 | 0.00000000000022711656 |\n",
       "| 20 | 0.00006610696135189609 | 0.00006610696098441338 | 0.00000000000036748271 |\n",
       "| 21 | -0.00004085634900844748 | -0.00004085634960304674 | 0.00000000000059459925 |\n",
       "| 22 | 0.00002525061234344861 | 0.00002525061138136664 | 0.00000000000096208197 |\n",
       "| 23 | -0.00001560573666499888 | -0.00001560573822168010 | 0.00000000000155668122 |\n",
       "| 24 | 0.00000964487567844974 | 0.00000964487315968654 | 0.00000000000251876320 |\n",
       "| 25 | -0.00000596086098654914 | -0.00000596086506199356 | 0.00000000000407544442 |\n",
       "| 26 | 0.00000368401469190060 | 0.00000368400809769298 | 0.00000000000659420762 |\n",
       "| 27 | -0.00000227684629464854 | -0.00000227685696430058 | 0.00000000001066965204 |\n",
       "| 28 | 0.00000140716839725206 | 0.00000140715113339240 | 0.00000000001726385965 |\n",
       "| 29 | -0.00000086967789739649 | -0.00000086970583090817 | 0.00000000002793351169 |\n"
      ],
      "text/plain": [
       "<IPython.core.display.Markdown object>"
      ]
     },
     "metadata": {},
     "output_type": "display_data"
    }
   ],
   "source": [
    "def s_n(n): return ((1 - math.sqrt(5))/2)**n\n",
    "\n",
    "def r_n(n):\n",
    "    if n == 0 :\n",
    "        return 1\n",
    "    elif n == 1 :\n",
    "        return (1 - math.sqrt(5))/2\n",
    "    else:\n",
    "        return r_n(n-1) + r_n(n-2)\n",
    "\n",
    "lst10_s_n = []\n",
    "lst10_r_n = []\n",
    "\n",
    "for i in range(30):\n",
    "    lst10_s_n.append(s_n(i))\n",
    "    lst10_r_n.append(r_n(i))\n",
    "\n",
    "display(Markdown('''\n",
    "| n | Fórmula Cerrada | Fórmula Recursiva | Diferencia |\n",
    "|----|-------|-------|-------|\n",
    "| %d | %.20f | %.20f | %.20f |\n",
    "| %d | %.20f | %.20f | %.20f |\n",
    "| %d | %.20f | %.20f | %.20f |\n",
    "| %d | %.20f | %.20f | %.20f |\n",
    "| %d | %.20f | %.20f | %.20f |\n",
    "| %d | %.20f | %.20f | %.20f |\n",
    "| %d | %.20f | %.20f | %.20f |\n",
    "| %d | %.20f | %.20f | %.20f |\n",
    "| %d | %.20f | %.20f | %.20f |\n",
    "| %d | %.20f | %.20f | %.20f |\n",
    "| %d | %.20f | %.20f | %.20f |\n",
    "| %d | %.20f | %.20f | %.20f |\n",
    "| %d | %.20f | %.20f | %.20f |\n",
    "| %d | %.20f | %.20f | %.20f |\n",
    "| %d | %.20f | %.20f | %.20f |\n",
    "| %d | %.20f | %.20f | %.20f |\n",
    "| %d | %.20f | %.20f | %.20f |\n",
    "| %d | %.20f | %.20f | %.20f |\n",
    "| %d | %.20f | %.20f | %.20f |\n",
    "| %d | %.20f | %.20f | %.20f |\n",
    "| %d | %.20f | %.20f | %.20f |\n",
    "| %d | %.20f | %.20f | %.20f |\n",
    "| %d | %.20f | %.20f | %.20f |\n",
    "| %d | %.20f | %.20f | %.20f |\n",
    "| %d | %.20f | %.20f | %.20f |\n",
    "| %d | %.20f | %.20f | %.20f |\n",
    "| %d | %.20f | %.20f | %.20f |\n",
    "| %d | %.20f | %.20f | %.20f |\n",
    "| %d | %.20f | %.20f | %.20f |\n",
    "| %d | %.20f | %.20f | %.20f |\n",
    "''' % (0,lst10_s_n[0], lst10_r_n[0], (lst10_s_n[0] - lst10_r_n[0])\n",
    ",1,lst10_s_n[1], lst10_r_n[1], (lst10_s_n[1] - lst10_r_n[1])\n",
    ",2,lst10_s_n[2], lst10_r_n[2], (lst10_s_n[2] - lst10_r_n[2])\n",
    ",3,lst10_s_n[3], lst10_r_n[3], (lst10_s_n[3] - lst10_r_n[3])\n",
    ",4,lst10_s_n[4], lst10_r_n[4], (lst10_s_n[4] - lst10_r_n[4])\n",
    ",5,lst10_s_n[5], lst10_r_n[5], (lst10_s_n[5] - lst10_r_n[5])\n",
    ",6,lst10_s_n[6], lst10_r_n[6], (lst10_s_n[6] - lst10_r_n[6])\n",
    ",7,lst10_s_n[7], lst10_r_n[7], (lst10_s_n[7] - lst10_r_n[7])\n",
    ",8,lst10_s_n[8], lst10_r_n[8], (lst10_s_n[8] - lst10_r_n[8])\n",
    ",9,lst10_s_n[9], lst10_r_n[9], (lst10_s_n[9] - lst10_r_n[9])\n",
    ",10,lst10_s_n[10], lst10_r_n[10], (lst10_s_n[10] - lst10_r_n[10])\n",
    ",11,lst10_s_n[11], lst10_r_n[11], (lst10_s_n[11] - lst10_r_n[11])\n",
    ",12,lst10_s_n[12], lst10_r_n[12], (lst10_s_n[12] - lst10_r_n[12])\n",
    ",13,lst10_s_n[13], lst10_r_n[13], (lst10_s_n[13] - lst10_r_n[13])\n",
    ",14,lst10_s_n[14], lst10_r_n[14], (lst10_s_n[14] - lst10_r_n[14])\n",
    ",15,lst10_s_n[15], lst10_r_n[15], (lst10_s_n[15] - lst10_r_n[15])\n",
    ",16,lst10_s_n[16], lst10_r_n[16], (lst10_s_n[16] - lst10_r_n[16])\n",
    ",17,lst10_s_n[17], lst10_r_n[17], (lst10_s_n[17] - lst10_r_n[17])\n",
    ",18,lst10_s_n[18], lst10_r_n[18], (lst10_s_n[18] - lst10_r_n[18])\n",
    ",19,lst10_s_n[19], lst10_r_n[19], (lst10_s_n[19] - lst10_r_n[19])\n",
    ",20,lst10_s_n[20], lst10_r_n[20], (lst10_s_n[20] - lst10_r_n[20])\n",
    ",21,lst10_s_n[21], lst10_r_n[21], (lst10_s_n[21] - lst10_r_n[21])\n",
    ",22,lst10_s_n[22], lst10_r_n[22], (lst10_s_n[22] - lst10_r_n[22])\n",
    ",23,lst10_s_n[23], lst10_r_n[23], (lst10_s_n[23] - lst10_r_n[23])\n",
    ",24,lst10_s_n[24], lst10_r_n[24], (lst10_s_n[24] - lst10_r_n[24])\n",
    ",25,lst10_s_n[25], lst10_r_n[25], (lst10_s_n[25] - lst10_r_n[25])\n",
    ",26,lst10_s_n[26], lst10_r_n[26], (lst10_s_n[26] - lst10_r_n[26])\n",
    ",27,lst10_s_n[27], lst10_r_n[27], (lst10_s_n[27] - lst10_r_n[27])\n",
    ",28,lst10_s_n[28], lst10_r_n[28], (lst10_s_n[28] - lst10_r_n[28])\n",
    ",29,lst10_s_n[29], lst10_r_n[29], (lst10_s_n[29] - lst10_r_n[29])\n",
    ")\n",
    "))\n"
   ]
  },
  {
   "cell_type": "markdown",
   "metadata": {},
   "source": [
    "¿Es la fórmula recursiva una manera estable de calcular $r_n$ ? Comparar con el ejercicio anterior.\n",
    "\n",
    "De manera similar que el ejercicio anterior, podemos establecer que la fórmula recursiva es en general más inestable que la fórmula cerrada. \n",
    "Pero, en este caso particular, si observamos los primeros términos, se puede apreciar como, si bien hay un márgen de error, el mismo crece a un ritmo mucho menor que el anterior. \n",
    "\n",
    "Por lo que podriamos decir que esta fórmula recursiva es estable en relación a la cerrada ya que no tiene factores en los términos que agrande el error, o también, que al ser una suma no hay problemas de restar numeros parecidos.\n",
    "\n",
    "De todas formas, si ampliamos la cantidad de pasos recursivos, vemos como también el error crece. En definitiva, es mucho más estable que el caso del ejercicio anterior, pero aún así sigue siendo menos confiable la fórmula cerrada."
   ]
  },
  {
   "cell_type": "markdown",
   "metadata": {},
   "source": [
    "#### Ejercicio 11\n",
    "Sea\n",
    "$$y_n=\\int_{0}^{1} x^ne^xdx$$\n",
    "Integrar por partes para obtener una fórmula recurrente para $y_n$.\n",
    "\n",
    "Mostrar que $\\lim_{n \\to \\infty}y_n=0$.\n",
    "\n",
    "Hacer un programa para calcular los primeros 30 términos de $y_n$ y analizar los resultados."
   ]
  },
  {
   "cell_type": "markdown",
   "metadata": {},
   "source": [
    "$\\qquad$ Para la integración por partes, tomamos\n",
    "\n",
    "$\\qquad$ $f(x) = x^n \\rightarrow f'(x) = nx^{n-1}$\n",
    "\n",
    "$\\qquad$ $g'(x) = e^x \\rightarrow g(x) = e^x$\n",
    "\n",
    "$\\qquad$ Entonces\n",
    "\n",
    "$$y_n=\\int_{0}^{1} x^ne^xdx = x_ne^x\\bigg\\vert_{0}^{1} - \\int_{0}^{1} nx^{n-1}e^xdx$$\n",
    "$$y_n=\\int_{0}^{1} x^ne^xdx = e - n \\cdot \\int_{0}^{1} x^{n-1}e^xdx$$\n",
    "\n",
    "$\\qquad$ Podemos entonces tomar que $y_{n-1} = n \\cdot \\int_{0}^{1} x^{n-1}e^xdx$, luego nos queda que:\n",
    "\n",
    "$$y_n=e-n\\cdot y_{n-1}$$\n",
    "\n",
    "$\\qquad$ Calculamos $y_0$ para tener un caso base de la recursión:\n",
    "\n",
    "$$y_0=\\int_{0}^{1} x^0e^xdx = e - 1$$\n"
   ]
  },
  {
   "cell_type": "markdown",
   "metadata": {},
   "source": [
    "$\\qquad$ Para ver que $\\lim_{n \\to \\infty}y_n=0$, veamos que \n",
    "$$y_n=\\int_{0}^{1} x^ne^xdx = \\int_{0}^{1} x\\cdot x^{n-1}e^xdx $$\n",
    "\n",
    "Como es una integral entre $(0, 1) \\implies x<1$, luego\n",
    "\n",
    "$$\\int_{0}^{1} x\\cdot x^{n-1}e^xdx < \\int_{0}^{1} x^{n-1}e^xdx $$\n",
    "$$y_n < y_{n-1}$$\n",
    "\n",
    "$\\qquad$ Vemos entonces que $y_n$ es una sucesión decreciente.\n",
    "\n",
    "$\\qquad$ Tambien tenemos que $y_n$ por definición, es una función acotada con $x \\in (0,1)$.\n",
    "\n",
    "$\\qquad$ Como $y_n$ es decreciente y acotada $\\implies \\exists$ L $\\in R$ y es finito.\n",
    "\n",
    "$\\qquad$ Analicemos $y_n = e - n \\cdot y_{n-1}$. Por observación anterior, $y_n \\rightarrow L$ y como $y_{n-1}$ es subsucesión de $y_n$, entonces $y_{n-1} \\rightarrow L$\n",
    "\n",
    "$\\qquad$ Luego $n \\cdot y_{n-1} \\rightarrow \\infty \\cdot L$\n",
    "\n",
    "$\\qquad$ Si $L \\neq 0 \\implies \\infty \\cdot L = \\pm \\infty$ lo que es absurdo ya que $y_n$ por definición esta acotado.\n",
    " \n",
    "$\\qquad$ Entonces, si $L=0 \\implies \\infty \\cdot 0$ = INDETERMINADO\n",
    "\n",
    "$\\qquad$ Por lo tanto, como sabemos que $L$ es finito $\\implies L = 0$."
   ]
  },
  {
   "cell_type": "markdown",
   "metadata": {},
   "source": [
    "$\\qquad$ Calcumamos entonces los primeros 30 terminos de $y_n$"
   ]
  },
  {
   "cell_type": "code",
   "execution_count": 340,
   "metadata": {},
   "outputs": [
    {
     "data": {
      "text/markdown": [
       "\n",
       "| n | $y_n$ | $n \\cdot y_{n-1} \\rightarrow e$ |\n",
       "|----|-------|-------|\n",
       "| 0 | 1.71828182845904509080 | 0.00000000000000000000 |\n",
       "| 1 | 1.00000000000000000000 | 0.00000000000000000000 |\n",
       "| 2 | 0.71828182845904509080 | 0.71828182845904509080 |\n",
       "| 3 | 0.56343634308190981841 | 1.12687268616381963682 |\n",
       "| 4 | 0.46453645613140581716 | 1.39360936839421745148 |\n",
       "| 5 | 0.39559954780201600499 | 1.58239819120806401997 |\n",
       "| 6 | 0.34468454164694906083 | 1.72342270823474530417 |\n",
       "| 7 | 0.30549003693040166496 | 1.83294022158240998976 |\n",
       "| 8 | 0.27436153301583177111 | 1.92053073111082239777 |\n",
       "| 9 | 0.24902803131655915081 | 1.99222425053247320648 |\n",
       "| 10 | 0.22800151529345358270 | 2.05201363764108224430 |\n",
       "| 11 | 0.21026516023105568109 | 2.10265160231055681095 |\n",
       "| 12 | 0.19509990568637691766 | 2.14609896255014609423 |\n",
       "| 13 | 0.18198305453614516125 | 2.18379665443374193501 |\n",
       "| 14 | 0.17051906495301283329 | 2.21674784438916683271 |\n",
       "| 15 | 0.16049585416385259151 | 2.24694195829393628117 |\n",
       "| 16 | 0.15034816183740362661 | 2.25522242756105439909 |\n",
       "| 17 | 0.16236307722318343849 | 2.59780923557093501586 |\n",
       "| 18 | -0.2042535615582568020 | -3.4723105464903656348 |\n",
       "| 19 | 6.59909949806592432964 | 118.783790965186639710 |\n",
       "| 20 | -129.26370813285942063 | -2456.0104545243289067 |\n",
       "| 21 | 2717.25615261850680326 | 54345.1230523701378843 |\n",
       "| 22 | -59776.917075778692379 | -1255315.2585913524963 |\n",
       "| 23 | 1374871.81102473847568 | 30247179.8425442464650 |\n",
       "| 24 | -32996920.746311895549 | -758929177.16517364979 |\n",
       "| 25 | 824923021.376079201698 | 19798152513.0259017944 |\n",
       "| 26 | -21447998553.059780121 | -536199963826.49450684 |\n",
       "| 27 | 579095960935.332275391 | 15056494984318.6386719 |\n",
       "| 28 | -16214686906186.585938 | -437796546467037.81250 |\n",
       "| 29 | 470225920279413.687500 | 13166325767823584.0000 |\n"
      ],
      "text/plain": [
       "<IPython.core.display.Markdown object>"
      ]
     },
     "metadata": {},
     "output_type": "display_data"
    }
   ],
   "source": [
    "def y_n(n):\n",
    "   if n == 0:\n",
    "      return (math.e - 1)\n",
    "   elif n== 1:\n",
    "      return 1\n",
    "   else:\n",
    "      return (math.e - n*(y_n(n-1)))\n",
    "\n",
    "aux = 0\n",
    "lista_res = []\n",
    "lista_res_ant = []\n",
    "\n",
    "for i in range(30):\n",
    "   lista_res.append( y_n(i) )\n",
    "   if i > 0:\n",
    "      lista_res_ant.append(lista_res[i]*(i-1))\n",
    "   else:\n",
    "      lista_res_ant.append(0)\n",
    "\n",
    "display(Markdown('''\n",
    "| n | $y_n$ | $n \\cdot y_{n-1} \\\\rightarrow e$ |\n",
    "|----|-------|-------|\n",
    "| %d | %.20f | %.20f |\n",
    "| %d | %.20f | %.20f |\n",
    "| %d | %.20f | %.20f |\n",
    "| %d | %.20f | %.20f |\n",
    "| %d | %.20f | %.20f |\n",
    "| %d | %.20f | %.20f |\n",
    "| %d | %.20f | %.20f |\n",
    "| %d | %.20f | %.20f |\n",
    "| %d | %.20f | %.20f |\n",
    "| %d | %.20f | %.20f |\n",
    "| %d | %.20f | %.20f |\n",
    "| %d | %.20f | %.20f |\n",
    "| %d | %.20f | %.20f |\n",
    "| %d | %.20f | %.20f |\n",
    "| %d | %.20f | %.20f |\n",
    "| %d | %.20f | %.20f |\n",
    "| %d | %.20f | %.20f |\n",
    "| %d | %.20f | %.20f |\n",
    "| %d | %.19f | %.19f |\n",
    "| %d | %.20f | %.18f |\n",
    "| %d | %.17f | %.16f |\n",
    "| %d | %.17f | %.16f |\n",
    "| %d | %.15f | %.13f |\n",
    "| %d | %.14f | %.13f |\n",
    "| %d | %.12f | %.11f |\n",
    "| %d | %.12f | %.10f |\n",
    "| %d | %.9f | %.8f |\n",
    "| %d | %.9f | %.7f |\n",
    "| %d | %.6f | %.5f |\n",
    "| %d | %.6f | %.4f |\n",
    "''' % (0,lista_res[0], lista_res_ant[ 0]\n",
    "    , 1,lista_res[ 1], lista_res_ant[ 1]\n",
    "    , 2,lista_res[ 2], lista_res_ant[ 2]\n",
    "    , 3,lista_res[ 3], lista_res_ant[ 3]\n",
    "    , 4,lista_res[ 4], lista_res_ant[ 4]\n",
    "    , 5,lista_res[ 5], lista_res_ant[ 5]\n",
    "    , 6,lista_res[ 6], lista_res_ant[ 6]\n",
    "    , 7,lista_res[ 7], lista_res_ant[ 7]\n",
    "    , 8,lista_res[ 8], lista_res_ant[ 8]\n",
    "    , 9,lista_res[ 9], lista_res_ant[ 9]\n",
    "    ,10,lista_res[10], lista_res_ant[10]\n",
    "    ,11,lista_res[11], lista_res_ant[11]\n",
    "    ,12,lista_res[12], lista_res_ant[12]\n",
    "    ,13,lista_res[13], lista_res_ant[13]\n",
    "    ,14,lista_res[14], lista_res_ant[14]\n",
    "    ,15,lista_res[15], lista_res_ant[15]\n",
    "    ,16,lista_res[16], lista_res_ant[16]\n",
    "    ,17,lista_res[17], lista_res_ant[17]\n",
    "    ,18,lista_res[18], lista_res_ant[18]\n",
    "    ,19,lista_res[19], lista_res_ant[19]\n",
    "    ,20,lista_res[20], lista_res_ant[20]\n",
    "    ,21,lista_res[21], lista_res_ant[21]\n",
    "    ,22,lista_res[22], lista_res_ant[22]\n",
    "    ,23,lista_res[23], lista_res_ant[23]\n",
    "    ,24,lista_res[24], lista_res_ant[24]\n",
    "    ,25,lista_res[25], lista_res_ant[25]\n",
    "    ,26,lista_res[26], lista_res_ant[26]\n",
    "    ,27,lista_res[27], lista_res_ant[27]\n",
    "    ,28,lista_res[28], lista_res_ant[28]\n",
    "    ,29,lista_res[29], lista_res_ant[29]\n",
    ")\n",
    "))\n",
    "   "
   ]
  },
  {
   "cell_type": "markdown",
   "metadata": {},
   "source": [
    "$\\qquad$ Se puede apreciar en los resultados, que hasta $y_n(16)$ se comporta como una sucesión decreciente como se esperaba. Pero luego, a medida que el miembro $n \\cdot y_{n-1}$ se aproxima a $e$, la resta $e - n \\cdot y_{n-1}$ comienza a ser una resta entre números cercanos, lo cual ya vimos que acarrea un error muy grande, que además entre cada paso de la recursión, el error de cálculo es amplificado por $n$, lo que vuelve esta operación inviable."
   ]
  }
 ],
 "metadata": {
  "interpreter": {
   "hash": "1bde03241c945d910f6012aa406c9b0c219aaaa71a8434fd63f2b461251fddf0"
  },
  "kernelspec": {
   "display_name": "Python 3.10.2 64-bit",
   "language": "python",
   "name": "python3"
  },
  "language_info": {
   "codemirror_mode": {
    "name": "ipython",
    "version": 3
   },
   "file_extension": ".py",
   "mimetype": "text/x-python",
   "name": "python",
   "nbconvert_exporter": "python",
   "pygments_lexer": "ipython3",
   "version": "3.10.2"
  },
  "orig_nbformat": 4
 },
 "nbformat": 4,
 "nbformat_minor": 2
}
