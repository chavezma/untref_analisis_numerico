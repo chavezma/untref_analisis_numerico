{
 "cells": [
  {
   "cell_type": "markdown",
   "metadata": {},
   "source": [
    "Materia: Análisis Numérico\n",
    "\n",
    "Alumno: Chavez Matias David"
   ]
  },
  {
   "cell_type": "code",
   "execution_count": 1,
   "metadata": {},
   "outputs": [],
   "source": [
    "\n",
    "from IPython.display import display, Markdown, Latex\n",
    "import math\n",
    "import platform"
   ]
  },
  {
   "cell_type": "markdown",
   "metadata": {},
   "source": [
    "#### Ejercicio 5\n",
    "\n",
    "Si quiero calcular $\\sum_{n=1}^{\\infty} X_n$ con un error menor a $\\epsilon$, dejo de sumar cuando $|X_n| < \\epsilon$ ?. Ver con $\\sum_{n=1}^{\\infty} (0.99)^n$ y distintos valores de $\\epsilon$. Recordar que $\\sum_{n=1}^{\\infty} r^n = \\frac{r}{1-r}$ si $|r|<1$."
   ]
  },
  {
   "cell_type": "markdown",
   "metadata": {},
   "source": [
    "$\\qquad$ Como $|0.99| < 1 \\implies \\sum_{n=1}^{\\infty} (0.99)^n = \\frac{0.99}{1-0.99} = 99$\n",
    "\n",
    "$\\qquad$ Luego, para la prueba, usaremos un $\\epsilon = \\frac{1}{2^n}$, donde $n$ será la cantidad de sumas a ejecutar para la prueba.\n",
    "\n",
    "$\\qquad$ Vamos a ver el comportamiento que tiene la sumatoria si establecemos como limite cuando se cumple que $|X_n| < \\epsilon \\implies (0.99)^n \\lt \\frac{1}{2^n}$"
   ]
  },
  {
   "cell_type": "code",
   "execution_count": 2,
   "metadata": {},
   "outputs": [
    {
     "data": {
      "text/markdown": [
       "\n",
       "| n | Sumas realizadas | e | Diferencia |\n",
       "|----|----|-------|-------|\n",
       "| 0 | 1 | 1.0000000000 | 98.010000000000005 |\n",
       "| 1 | 69 | 0.5000000000 | 48.993702989919939 |\n",
       "| 2 | 138 | 0.2500000000 | 23.993705645845324 |\n",
       "| 3 | 207 | 0.1250000000 | 11.497781225895253 |\n",
       "| 4 | 276 | 0.0625000000 | 5.251855477982488 |\n",
       "| 5 | 345 | 0.0312500000 | 2.129910503174884 |\n",
       "| 6 | 414 | 0.0156250000 | 0.569446799458291 |\n",
       "| 7 | 483 | 0.0078125000 | 0.210530743472972 |\n",
       "| 8 | 552 | 0.0039062500 | 0.600392401919819 |\n",
       "| 9 | 621 | 0.0019531250 | 0.795259695349401 |\n"
      ],
      "text/plain": [
       "<IPython.core.display.Markdown object>"
      ]
     },
     "metadata": {},
     "output_type": "display_data"
    }
   ],
   "source": [
    "def ejercicio_05(valor_referencia, suma_objetivo):\n",
    "\n",
    "    list_res = []\n",
    "    for i in range(0, 10):\n",
    "        epsilon = 2**(-i)\n",
    "        suma_acumulada = valor_referencia\n",
    "        numeros_sumas = 1\n",
    "        n = 1\n",
    "        while (valor_referencia**n > epsilon):\n",
    "            numeros_sumas = numeros_sumas + 1\n",
    "            suma_acumulada = suma_acumulada + (valor_referencia)**n\n",
    "            n = n + 1\n",
    "\n",
    "        diff = abs(suma_acumulada - suma_objetivo)\n",
    "\n",
    "        list_res.append((numeros_sumas, epsilon, diff))\n",
    "\n",
    "    return list_res\n",
    "\n",
    "res = ejercicio_05(0.99, 99)\n",
    "\n",
    "display(Markdown('''\n",
    "| n | Sumas realizadas | e | Diferencia |\n",
    "|----|----|-------|-------|\n",
    "| %d | %d | %.10f | %.15f |\n",
    "| %d | %d | %.10f | %.15f |\n",
    "| %d | %d | %.10f | %.15f |\n",
    "| %d | %d | %.10f | %.15f |\n",
    "| %d | %d | %.10f | %.15f |\n",
    "| %d | %d | %.10f | %.15f |\n",
    "| %d | %d | %.10f | %.15f |\n",
    "| %d | %d | %.10f | %.15f |\n",
    "| %d | %d | %.10f | %.15f |\n",
    "| %d | %d | %.10f | %.15f |\n",
    "''' % (0,res[0][0], res[0][1], res[0][2]\n",
    "      ,1,res[1][0], res[1][1], res[1][2]\n",
    "      ,2,res[2][0], res[2][1], res[2][2]\n",
    "      ,3,res[3][0], res[3][1], res[3][2]\n",
    "      ,4,res[4][0], res[4][1], res[4][2]\n",
    "      ,5,res[5][0], res[5][1], res[5][2]\n",
    "      ,6,res[6][0], res[6][1], res[6][2]\n",
    "      ,7,res[7][0], res[7][1], res[7][2]\n",
    "      ,8,res[8][0], res[8][1], res[8][2]\n",
    "      ,9,res[9][0], res[9][1], res[9][2]\n",
    ")\n",
    "))"
   ]
  },
  {
   "cell_type": "markdown",
   "metadata": {},
   "source": [
    "$\\qquad$ Como se puede ver, a medida que achicamos $\\epsilon$ aumentan la cantidad de sumas a realizar y disminuye el margen de error al valor que se quiere llegar."
   ]
  },
  {
   "cell_type": "markdown",
   "metadata": {},
   "source": [
    "#### Ejercicio 6\n",
    "Escribir un programa para calcular \n",
    "$$f(x)=\\sqrt{x^2+1}-1$$\n",
    "$$g(x)=\\frac{x^2}{\\sqrt{x^2+1}+1}$$\n",
    "para la sucesión $8^{-1}$, $8^{-2}$, $8^{-3}$, $\\ldots$, $8^{-10}$. Aunque $f = g$ la computadora produce resultados distintos ¿Cuál es más confiable?"
   ]
  },
  {
   "cell_type": "markdown",
   "metadata": {},
   "source": [
    "$\\qquad$ Sea entonces $S_n = 8^{-n}$ para $1\\leq n \\leq 10$, realizamos $f(S_n)$ y $g(S_n)$\n"
   ]
  },
  {
   "cell_type": "code",
   "execution_count": 3,
   "metadata": {},
   "outputs": [
    {
     "data": {
      "text/latex": [
       "$S_{1}=f(8^{-1}) = 0.0077822185373186414 \\implies g(8^{-1}) = 0.0077822185373187065$"
      ],
      "text/plain": [
       "<IPython.core.display.Latex object>"
      ]
     },
     "metadata": {},
     "output_type": "display_data"
    },
    {
     "data": {
      "text/latex": [
       "$S_{2}=f(8^{-2}) = 0.00012206286282867573 \\implies g(8^{-2}) = 0.00012206286282875901$"
      ],
      "text/plain": [
       "<IPython.core.display.Latex object>"
      ]
     },
     "metadata": {},
     "output_type": "display_data"
    },
    {
     "data": {
      "text/latex": [
       "$S_{3}=f(8^{-3}) = 1.9073468138230965e-06 \\implies g(8^{-3}) = 1.907346813826566e-06$"
      ],
      "text/plain": [
       "<IPython.core.display.Latex object>"
      ]
     },
     "metadata": {},
     "output_type": "display_data"
    },
    {
     "data": {
      "text/latex": [
       "$S_{4}=f(8^{-4}) = 2.9802321943606103e-08 \\implies g(8^{-4}) = 2.9802321943606116e-08$"
      ],
      "text/plain": [
       "<IPython.core.display.Latex object>"
      ]
     },
     "metadata": {},
     "output_type": "display_data"
    },
    {
     "data": {
      "text/latex": [
       "$S_{5}=f(8^{-5}) = 4.656612873077393e-10 \\implies g(8^{-5}) = 4.6566128719931904e-10$"
      ],
      "text/plain": [
       "<IPython.core.display.Latex object>"
      ]
     },
     "metadata": {},
     "output_type": "display_data"
    },
    {
     "data": {
      "text/latex": [
       "$S_{6}=f(8^{-6}) = 7.275957614183426e-12 \\implies g(8^{-6}) = 7.275957614156956e-12$"
      ],
      "text/plain": [
       "<IPython.core.display.Latex object>"
      ]
     },
     "metadata": {},
     "output_type": "display_data"
    },
    {
     "data": {
      "text/latex": [
       "$S_{7}=f(8^{-7}) = 1.1368683772161603e-13 \\implies g(8^{-7}) = 1.1368683772160957e-13$"
      ],
      "text/plain": [
       "<IPython.core.display.Latex object>"
      ]
     },
     "metadata": {},
     "output_type": "display_data"
    },
    {
     "data": {
      "text/latex": [
       "$S_{8}=f(8^{-8}) = 1.7763568394002505e-15 \\implies g(8^{-8}) = 1.7763568394002489e-15$"
      ],
      "text/plain": [
       "<IPython.core.display.Latex object>"
      ]
     },
     "metadata": {},
     "output_type": "display_data"
    },
    {
     "data": {
      "text/latex": [
       "$S_{9}=f(8^{-9}) = 0.0 \\implies g(8^{-9}) = 2.7755575615628914e-17$"
      ],
      "text/plain": [
       "<IPython.core.display.Latex object>"
      ]
     },
     "metadata": {},
     "output_type": "display_data"
    },
    {
     "data": {
      "text/latex": [
       "$S_{10}=f(8^{-10}) = 0.0 \\implies g(8^{-10}) = 4.336808689942018e-19$"
      ],
      "text/plain": [
       "<IPython.core.display.Latex object>"
      ]
     },
     "metadata": {},
     "output_type": "display_data"
    }
   ],
   "source": [
    "def ejercicio_06():\n",
    "    def f(x):\n",
    "        return math.sqrt(x**2 + 1) - 1\n",
    "\n",
    "    def g(x):\n",
    "        return (x**2) / (math.sqrt(x**2 + 1) + 1)\n",
    "\n",
    "    i = 1\n",
    "    while(i <= 10):\n",
    "        display(Latex('$S_{'+ str(i) + '}=f(8^{' + str(-i) + '}) = ' + str(f(8**(-i))) + ' \\implies g(8^{' + str(-i) + '}) = ' + str(g(8**(-i))) + '$' ))\n",
    "        i += 1\n",
    "    \n",
    "ejercicio_06()\n"
   ]
  },
  {
   "cell_type": "markdown",
   "metadata": {},
   "source": [
    "$\\qquad$ Vemos entonces que para $S_n$ con $n >= 9$, $f(S_n)$ comienza a arrojar el valor $0$, mientras que $g(S_n)$ continua arrojando valores menos cuestionables. Entonces podemos apreciar que la funcion $g(x)$ es la más confiable. Esto se debe a que $f(x)$ cuando $$x^2 \\rightarrow 0 \\implies \\sqrt{x^2 + 1} \\rightarrow 1$$ $\\qquad$ y luego queda una operación de resta entre números muy parecidos, que es algo que hay que evitar ya que genera mucho error."
   ]
  },
  {
   "cell_type": "markdown",
   "metadata": {},
   "source": [
    "#### Ejercicio 7\n",
    "Escribir un algoritmo para estimar el número de máquina"
   ]
  },
  {
   "cell_type": "markdown",
   "metadata": {},
   "source": [
    "$\\qquad$ Sea $e_M$ el epsilon de máquina,  veamos que si $fl(1+\\epsilon) = 1 \\implies \\frac{\\epsilon}{2} \\leq e_M$\n",
    "\n",
    "$\\qquad$ Entonces tomaremos que $e_M \\approx \\frac{\\epsilon}{2}$. Luego, tomando que $\\vert \\delta \\vert \\leq e_M$\n",
    "\n",
    "$$fl(1+\\epsilon) = ( 1 + \\epsilon ) \\cdot ( 1 + \\delta) = 1 $$\n",
    "$$ 1 + \\delta + \\epsilon + \\epsilon \\cdot \\delta = 1 $$\n",
    "$$ \\delta \\cdot ( 1 + \\epsilon ) = - \\epsilon $$\n",
    "$$ \\delta = - \\frac{\\epsilon}{( 1 + \\epsilon )} $$\n",
    "\n",
    "$\\qquad$ Tomando modulo\n",
    "\n",
    "$$ \\vert \\delta \\vert = \\frac{\\epsilon}{( 1 + \\epsilon )} $$\n",
    "\n",
    "$\\qquad$ como $\\epsilon < 1$\n",
    "\n",
    "$$ \\vert \\delta \\vert = \\frac{\\epsilon}{( 1 + \\epsilon )} \\geq \\frac{\\epsilon}{( 1 + 1 )} = \\frac{\\epsilon}{2} $$\n",
    "\n",
    "$$ \\frac{\\epsilon}{2} \\leq \\vert \\delta \\vert \\leq \\epsilon_M$$\n",
    "\n",
    "$$\\frac{\\epsilon}{2} \\leq \\epsilon_M$$"
   ]
  },
  {
   "cell_type": "markdown",
   "metadata": {},
   "source": [
    "$\\qquad$ Esto nos dice que que tomando un $\\epsilon = 2^{-n}$ con $n \\geq 1$ hasta verificar que $fl(1+\\epsilon) = 1$"
   ]
  },
  {
   "cell_type": "code",
   "execution_count": 4,
   "metadata": {},
   "outputs": [
    {
     "data": {
      "text/latex": [
       "$\\epsilon_M = 2^{-53} = 5.551115123125783e-17$ para maquina de 64bit"
      ],
      "text/plain": [
       "<IPython.core.display.Latex object>"
      ]
     },
     "metadata": {},
     "output_type": "display_data"
    }
   ],
   "source": [
    "def ejercicio_07():\n",
    "    eps = 2**-1\n",
    "    n = 1\n",
    "    while 1 + eps != 1:\n",
    "        n = n + 1\n",
    "        eps = eps / 2\n",
    "\n",
    "    eps = eps / 2\n",
    "    display(Latex('$\\epsilon_M = 2^{-' + str(n) + '} = '+ str(eps) + '$ para maquina de ' + str(platform.architecture()[0])))\n",
    "\n",
    "ejercicio_07()"
   ]
  },
  {
   "cell_type": "markdown",
   "metadata": {},
   "source": [
    "#### Ejercicio 8\n",
    "Sean\n",
    "$$x = [2.718281828; −3.141592654; 1.414213562; 0.5772156649; 0.3010299957]$$\n",
    "$$y = [1486.2497; 878366.9879; −22.37429; 4773714.647; 0.000185049]$$\n",
    "$\\qquad$ Calcular $\\sum_{i=1}^{n} x_i \\cdot y_i$ de las siguientes maneras\n",
    "\n",
    "$\\qquad$ (a) para adelante : $\\sum_{i=1}^{n} x_i \\cdot y_i$"
   ]
  },
  {
   "cell_type": "code",
   "execution_count": 5,
   "metadata": {},
   "outputs": [
    {
     "name": "stdout",
     "output_type": "stream",
     "text": [
      "iteracion [1] suma acumulada [+0] valor a sumar [+4040.045551380452]\n",
      "iteracion [2] suma acumulada [+4040.045551380452] valor a sumar [-2759471.2767027467]\n",
      "iteracion [3] suma acumulada [-2755431.231151366] valor a sumar [-31.642024358120977]\n",
      "iteracion [4] suma acumulada [-2755462.8731757244] valor a sumar [+2755462.8740109736]\n",
      "iteracion [5] suma acumulada [+0.000835249200463295] valor a sumar [+5.57052996742893e-05]\n",
      "resultado final +0.0008909545001375842\n",
      "\n"
     ]
    }
   ],
   "source": [
    "x = [2.718281828, -3.141592654, 1.414213562, 0.5772156649, 0.3010299957]\n",
    "y = [1486.2497, 878366.9879, -22.37429, 4773714.647, 0.000185049]\n",
    "\n",
    "def punto_a():\n",
    "    x_por_y_a=0\n",
    "    for i in range (len(x)):\n",
    "        valor = x[i]*y[i]\n",
    "        print(f\"iteracion [{i+1}] suma acumulada [{x_por_y_a:+}] valor a sumar [{valor:+}]\")\n",
    "        x_por_y_a += x[i]*y[i]\n",
    "    \n",
    "    print(f\"resultado final {x_por_y_a:+}\\n\")\n",
    "\n",
    "punto_a()\n"
   ]
  },
  {
   "cell_type": "markdown",
   "metadata": {},
   "source": [
    "$\\qquad$ (b) para atrás : $\\sum_{i=n}^{1} x_i \\cdot y_i$"
   ]
  },
  {
   "cell_type": "code",
   "execution_count": 6,
   "metadata": {},
   "outputs": [
    {
     "name": "stdout",
     "output_type": "stream",
     "text": [
      "iteracion [1] suma acumulada [+0] valor a sumar [+5.57052996742893e-05]\n",
      "iteracion [2] suma acumulada [+5.57052996742893e-05] valor a sumar [+2755462.8740109736]\n",
      "iteracion [3] suma acumulada [+2755462.874066679] valor a sumar [-31.642024358120977]\n",
      "iteracion [4] suma acumulada [+2755431.2320423205] valor a sumar [-2759471.2767027467]\n",
      "iteracion [5] suma acumulada [-4040.0446604262106] valor a sumar [+4040.045551380452]\n",
      "resultado final +0.0008909542411856819\n",
      "\n"
     ]
    }
   ],
   "source": [
    "def punto_b():\n",
    "    x_por_y_b = 0\n",
    "    for i in range(len(x), 0, -1):\n",
    "        valor = x[i-1]*y[i-1]\n",
    "        print(f\"iteracion [{-1*(i-6)}] suma acumulada [{x_por_y_b:+}] valor a sumar [{valor:+}]\")\n",
    "        x_por_y_b += x[i-1]*y[i-1]\n",
    "    print(f\"resultado final {x_por_y_b:+}\\n\")\n",
    "\n",
    "\n",
    "punto_b()"
   ]
  },
  {
   "cell_type": "markdown",
   "metadata": {},
   "source": [
    "$\\qquad$ (c) positivos de mayor a menor $+$ negativos de menor a mayor"
   ]
  },
  {
   "cell_type": "code",
   "execution_count": 7,
   "metadata": {},
   "outputs": [
    {
     "name": "stdout",
     "output_type": "stream",
     "text": [
      "xy_list:  [2755462.8740109736, 4040.045551380452, 5.57052996742893e-05, -2759471.2767027467, -31.642024358120977]\n",
      "iteracion [1] suma acumulada [+0] valor a sumar [+2755462.8740109736]\n",
      "iteracion [2] suma acumulada [+2755462.8740109736] valor a sumar [+4040.045551380452]\n",
      "iteracion [3] suma acumulada [+2759502.919562354] valor a sumar [+5.57052996742893e-05]\n",
      "iteracion [4] suma acumulada [+2759502.9196180594] valor a sumar [-2759471.2767027467]\n",
      "iteracion [5] suma acumulada [+31.642915312666446] valor a sumar [-31.642024358120977]\n",
      "resultado final +0.0008909545454685031\n",
      "\n"
     ]
    }
   ],
   "source": [
    "def punto_c():\n",
    "    pos = []\n",
    "    neg = []\n",
    "    for i in range(len(x)):\n",
    "        x_por_y = x[i] * y[i]\n",
    "        if(x_por_y > 0):\n",
    "            pos.append(x_por_y)\n",
    "        else:\n",
    "            neg.append(x_por_y)\n",
    "    \n",
    "    pos.sort() # ordeno creciente\n",
    "    pos.reverse() # luego decreciente\n",
    "    neg.sort() # ordeno creciente\n",
    "    \n",
    "    xy_list = list(pos) + list(neg)\n",
    "    print(\"xy_list: \", xy_list)\n",
    "    x_por_y_c = 0\n",
    "    for i in range (len(xy_list)):\n",
    "        valor = xy_list[i]\n",
    "        print(f\"iteracion [{i+1}] suma acumulada [{x_por_y_c:+}] valor a sumar [{valor:+}]\")\n",
    "        x_por_y_c += xy_list[i]\n",
    "    \n",
    "    print(f\"resultado final {x_por_y_c:+}\\n\")\n",
    "\n",
    "\n",
    "punto_c()"
   ]
  },
  {
   "cell_type": "markdown",
   "metadata": {},
   "source": [
    "$\\qquad$ (d) positivos de menor a mayor $+$ negativos de mayor a menor"
   ]
  },
  {
   "cell_type": "code",
   "execution_count": 8,
   "metadata": {},
   "outputs": [
    {
     "name": "stdout",
     "output_type": "stream",
     "text": [
      "xy_list:  [5.57052996742893e-05, 4040.045551380452, 2755462.8740109736, -31.642024358120977, -2759471.2767027467]\n",
      "iteracion [0] suma acumulada [+0] valor a sumar [+5.57052996742893e-05]\n",
      "iteracion [1] suma acumulada [+5.57052996742893e-05] valor a sumar [+4040.045551380452]\n",
      "iteracion [2] suma acumulada [+4040.0456070857513] valor a sumar [+2755462.8740109736]\n",
      "iteracion [3] suma acumulada [+2759502.9196180594] valor a sumar [-31.642024358120977]\n",
      "iteracion [4] suma acumulada [+2759471.277593701] valor a sumar [-2759471.2767027467]\n",
      "resultado final +0.0008909543976187706\n",
      "\n"
     ]
    }
   ],
   "source": [
    "def punto_d():\n",
    "    pos = []\n",
    "    neg = []\n",
    "    for i in range(len(x)):\n",
    "        x_por_y = x[i] * y[i]\n",
    "        if(x_por_y > 0):\n",
    "            pos.append(x_por_y)\n",
    "        else:\n",
    "            neg.append(x_por_y)\n",
    "    \n",
    "    pos.sort() # ordeno creciente\n",
    "    neg.sort() # ordeno creciente\n",
    "    neg.reverse() # luego decreciente\n",
    "    \n",
    "    xy_list = list(pos) + list(neg)\n",
    "    print(\"xy_list: \", xy_list)\n",
    "    x_por_y_d = 0\n",
    "    for i in range (len(xy_list)):\n",
    "        valor = xy_list[i]\n",
    "        print(f\"iteracion [{i}] suma acumulada [{x_por_y_d:+}] valor a sumar [{valor:+}]\")\n",
    "        x_por_y_d += xy_list[i]\n",
    "    \n",
    "    print(f\"resultado final {x_por_y_d:+}\\n\")\n",
    "\n",
    "\n",
    "punto_d()"
   ]
  },
  {
   "cell_type": "markdown",
   "metadata": {},
   "source": [
    "$\\qquad$ ¿Cuál resultado es más confiable y por qué?\n",
    "\n",
    "$\\qquad$ De lo que puedo analizar, me arriesgo a decir que el item (a) es el menos confiable, ya que realiza una resta de números parecidos en la iteración 4, y luego tiene una operación adicional que arrastra el error. En cambio el resto, si bien todos tienen una resta de números parecidos, son en la última operación por lo que todos arrastran al parecer un error similar."
   ]
  },
  {
   "cell_type": "markdown",
   "metadata": {},
   "source": [
    "#### Ejercicio 9\n",
    "Considerar la sucesión\n",
    "$$x_0 = 1, x_1=\\frac{1}{3}$$\n",
    "$$x_{n+1} = \\frac{13}{3}x_n - \\frac{4}{3}x_{n-1}$$\n",
    "Dar una fórmula cerrada para $X_n$. Escribir un programa que calcule $X_n$ de ambas formas y comparar. ¿Cuál es más confiable?¿Por qué?"
   ]
  },
  {
   "cell_type": "markdown",
   "metadata": {},
   "source": [
    "$\\qquad$ En clase se propuso y demostro que una formula cerrada para $X_n=(\\frac{1}{3})^2$, la cual se puede calcular mediante una fórmula y luego por inducción se demuestra su veracidad. Esto se realizará en detalle en el ejercicio siguiente.\n",
    "\n",
    "$\\qquad$ Partiendo entonces de lo anterior llamemos $r_n$ a la formula recursiva y $s_n$ a la formula cerrada:"
   ]
  },
  {
   "cell_type": "code",
   "execution_count": 9,
   "metadata": {},
   "outputs": [
    {
     "data": {
      "text/markdown": [
       "\n",
       "| n | Fórmula Cerrada | Fórmula Recursiva | Diferencia |\n",
       "|----|-------|-------|-------|\n",
       "| 0 | 1.00000000000000000000 | 1.00000000000000000000 | 0.00000000000000000000 |\n",
       "| 1 | 0.33333333333333331483 | 0.33333333333333331483 | 0.00000000000000000000 |\n",
       "| 2 | 0.11111111111111110494 | 0.11111111111111093841 | 0.00000000000000016653 |\n",
       "| 3 | 0.03703703703703702804 | 0.03703703703703625782 | 0.00000000000000077022 |\n",
       "| 4 | 0.01234567901234567659 | 0.01234567901234251419 | 0.00000000000000316240 |\n",
       "| 5 | 0.00411522633744855829 | 0.00411522633743588440 | 0.00000000000001267389 |\n",
       "| 6 | 0.00137174211248285269 | 0.00137174211243214564 | 0.00000000000005070705 |\n",
       "| 7 | 0.00045724737082761756 | 0.00045724737062478524 | 0.00000000000020283233 |\n",
       "| 8 | 0.00015241579027587250 | 0.00015241578946454185 | 0.00000000000081133066 |\n",
       "| 9 | 0.00005080526342529084 | 0.00005080526017996764 | 0.00000000000324532319 |\n"
      ],
      "text/plain": [
       "<IPython.core.display.Markdown object>"
      ]
     },
     "metadata": {},
     "output_type": "display_data"
    }
   ],
   "source": [
    "def s_n(n): return (1/3)**n\n",
    "\n",
    "def r_n(n):\n",
    "    if n == 0 :\n",
    "        return 1\n",
    "    elif n == 1 :\n",
    "        return 1/3\n",
    "    else:\n",
    "        return (13/3)*r_n(n-1) - (4/3)*r_n(n-2)\n",
    "\n",
    "lst_r_n = []\n",
    "lst_s_n = []\n",
    "\n",
    "for i in range(10):\n",
    "    lst_s_n.append(s_n(i))\n",
    "    lst_r_n.append(r_n(i))\n",
    "\n",
    "display(Markdown('''\n",
    "| n | Fórmula Cerrada | Fórmula Recursiva | Diferencia |\n",
    "|----|-------|-------|-------|\n",
    "| %d | %.20f | %.20f | %.20f |\n",
    "| %d | %.20f | %.20f | %.20f |\n",
    "| %d | %.20f | %.20f | %.20f |\n",
    "| %d | %.20f | %.20f | %.20f |\n",
    "| %d | %.20f | %.20f | %.20f |\n",
    "| %d | %.20f | %.20f | %.20f |\n",
    "| %d | %.20f | %.20f | %.20f |\n",
    "| %d | %.20f | %.20f | %.20f |\n",
    "| %d | %.20f | %.20f | %.20f |\n",
    "| %d | %.20f | %.20f | %.20f |\n",
    "''' % (0,lst_s_n[0], lst_r_n[0], (lst_s_n[0] - lst_r_n[0])\n",
    ",1,lst_s_n[1], lst_r_n[1], (lst_s_n[1] - lst_r_n[1])\n",
    ",2,lst_s_n[2], lst_r_n[2], (lst_s_n[2] - lst_r_n[2])\n",
    ",3,lst_s_n[3], lst_r_n[3], (lst_s_n[3] - lst_r_n[3])\n",
    ",4,lst_s_n[4], lst_r_n[4], (lst_s_n[4] - lst_r_n[4])\n",
    ",5,lst_s_n[5], lst_r_n[5], (lst_s_n[5] - lst_r_n[5])\n",
    ",6,lst_s_n[6], lst_r_n[6], (lst_s_n[6] - lst_r_n[6])\n",
    ",7,lst_s_n[7], lst_r_n[7], (lst_s_n[7] - lst_r_n[7])\n",
    ",8,lst_s_n[8], lst_r_n[8], (lst_s_n[8] - lst_r_n[8])\n",
    ",9,lst_s_n[9], lst_r_n[9], (lst_s_n[9] - lst_r_n[9])\n",
    ")\n",
    "))\n"
   ]
  },
  {
   "cell_type": "markdown",
   "metadata": {},
   "source": [
    "#### Ejercicio 10\n",
    "Consideremos la siguiente modificación de la serie de Fibonacci:\n",
    "$$r_0=1, r_1=\\frac{1-\\sqrt{5}}{2}$$\n",
    "$$r_{n+1}=r_n + r_{n-1}$$\n",
    "¿Cuál es la fórmula cerrada $r_n$? Es la fórmula recursiva una manera estable de calculas $r_n$? Comparar con el ejercicio anterior."
   ]
  },
  {
   "cell_type": "markdown",
   "metadata": {},
   "source": [
    "$\\qquad$ Para calcular la fórmula cerrada, proponemos la forma general $S_n = A\\cdot\\lambda^n + B\\cdot\\mu^n$\n",
    "\n",
    "$\\qquad$ Luego, $$S_{n+1} = A\\cdot\\lambda^{n+1} + B\\cdot\\mu^{n+1}$$ \n",
    "$$A\\cdot\\lambda^{n+1} + B\\cdot\\mu^{n+1} = (A\\cdot\\lambda^{n} + B\\cdot\\mu^{n}) + (A\\cdot\\lambda^{n-1} + B\\cdot\\mu^{n-1}) $$\n",
    "$$A\\cdot\\lambda^{n+1} + B\\cdot\\mu^{n+1} - A\\cdot\\lambda^{n} - B\\cdot\\mu^{n} - A\\cdot\\lambda^{n-1} - B\\cdot\\mu^{n-1} = 0$$\n",
    "\n",
    "$$A\\cdot( \\lambda^{n+1} - \\lambda^{n} - \\lambda^{n-1} ) + B\\cdot( \\mu^{n+1} - \\mu^{n} - \\mu^{n-1}) = 0$$\n",
    "$$A\\cdot\\lambda^{n-1}\\cdot( \\lambda^{2} - \\lambda - 1 ) + B\\cdot\\mu^{n-1}\\cdot( \\mu^{2} - \\mu - 1) = 0$$"
   ]
  },
  {
   "cell_type": "markdown",
   "metadata": {},
   "source": [
    "$\\qquad$ Tenemos entonces 2 ecuaciones cuadraticas que en realidad son la misma forma pero distinta variable. Calculamos entonces sus raices\n",
    "$$Sr_1, Sr_2 = \\frac{-b \\pm \\sqrt{b^2 - 4 \\cdot a \\cdot c}}{2 \\cdot a}$$\n",
    "$$Sr_1, Sr_2 = \\frac{1 \\pm \\sqrt{1 - 4 \\cdot 1 \\cdot (-1)}}{2 \\cdot 1}$$\n",
    "$$Sr_1, Sr_2 = \\frac{1 \\pm \\sqrt{5}}{2}$$\n"
   ]
  },
  {
   "cell_type": "markdown",
   "metadata": {},
   "source": [
    "\n",
    "$\\qquad$ Entonces, para los valores de las constantes $A$ y $B$, utilizaremos los casos base y los valores de las raices cuando $n = \\{0,1\\}$, luego:\n",
    "\n",
    "$$S_{n} = A\\cdot\\left(\\frac{1 + \\sqrt{5}}{2}\\right)^{n} + B\\cdot\\left(\\frac{1 - \\sqrt{5}}{2}\\right)^{n}$$ \n",
    "\n",
    "$\\qquad$ Para $n = 0$\n",
    "\n",
    "$$S_{0} = A\\cdot\\left(\\frac{1 + \\sqrt{5}}{2}\\right)^{0} + B\\cdot\\left(\\frac{1 - \\sqrt{5}}{2}\\right)^{0}$$ \n",
    "\n",
    "$$1 = A + B \\implies A = 1 - B$$ \n",
    "\n",
    "$\\qquad$ Para $n = 1$\n",
    "\n",
    "$$S_{1} = A\\cdot\\left(\\frac{1 + \\sqrt{5}}{2}\\right)^{1} + B\\cdot\\left(\\frac{1 - \\sqrt{5}}{2}\\right)^{1}$$ \n",
    "\n",
    "$$\\frac{1-\\sqrt{5}}{2} = A\\cdot \\frac{1 + \\sqrt{5}}{2} + B\\cdot \\frac{1 - \\sqrt{5}}{2} $$ \n",
    "\n",
    "$$\\frac{1-\\sqrt{5}}{2} = (1-B)\\cdot \\frac{1 + \\sqrt{5}}{2} + B\\cdot \\frac{1 - \\sqrt{5}}{2} $$\n",
    "\n",
    "$$\\frac{1-\\sqrt{5}}{2} = \\frac{1 + \\sqrt{5}}{2} - B \\cdot \\frac{1 + \\sqrt{5}}{2} + B\\cdot \\frac{1 - \\sqrt{5}}{2} $$\n",
    "\n",
    "$$B \\cdot \\frac{1 + \\sqrt{5}}{2} - B\\cdot \\frac{1 - \\sqrt{5}}{2} = \\frac{1 + \\sqrt{5}}{2} - \\frac{1-\\sqrt{5}}{2}  $$\n",
    "\n",
    "$$B \\cdot \\left( \\frac{1 + \\sqrt{5}}{2} - \\frac{1 - \\sqrt{5}}{2} \\right) = \\frac{1 + \\sqrt{5}}{2} - \\frac{1-\\sqrt{5}}{2}  $$\n",
    "\n",
    "$$B = \\frac{\\frac{1 + \\sqrt{5}}{2} - \\frac{1-\\sqrt{5}}{2} } {\\frac{1 + \\sqrt{5}}{2} - \\frac{1 - \\sqrt{5}}{2}} $$\n",
    "\n",
    "$$ B = 1 $$\n",
    "\n",
    "$\\qquad$ Por último, $A = 1 - B \\implies A = 1 - 1 \\implies A = 0$\n",
    "$\\qquad$ Entonces la fórmula cerrada queda\n",
    "\n",
    "$$S_{n} = A\\cdot\\left(\\frac{1 + \\sqrt{5}}{2}\\right)^{n} + B\\cdot\\left(\\frac{1 - \\sqrt{5}}{2}\\right)^{n}$$\n",
    "$$S_{n} = \\left(\\frac{1 - \\sqrt{5}}{2}\\right)^{n}$$\n",
    "\n",
    "\n"
   ]
  },
  {
   "cell_type": "markdown",
   "metadata": {},
   "source": [
    "$\\qquad$ Veamos por inducción que $S_n$ es válido.\n",
    "\n",
    "$$S_{n+1} = \\left(\\frac{1 - \\sqrt{5}}{2}\\right)^{n} + \\left(\\frac{1 - \\sqrt{5}}{2}\\right)^{n-1}$$ \n",
    "\n",
    "$\\qquad$ Sacamos factor común\n",
    "\n",
    "$$\\left(\\frac{1 - \\sqrt{5}}{2}\\right)^{n} \\cdot \\left[ 1 + \\left(\\frac{1 - \\sqrt{5}}{2}\\right)^{-1}\\right]$$\n",
    "\n",
    "$$\\left(\\frac{1 - \\sqrt{5}}{2}\\right)^{n} \\cdot \\left[ 1 + \\left(\\frac{2}{1 - \\sqrt{5}}\\right)\\right]$$\n",
    "\n",
    "$\\qquad$ Cálculo auxiliar\n",
    "\n",
    "$$ 1 + \\left(\\frac{2}{1 - \\sqrt{5}}\\right) = \\left[ 1 + \\left(\\frac{2}{1 - \\sqrt{5}}\\right) \\right] \\cdot \\left( \\frac{1+\\sqrt{5}}{1+\\sqrt{5}} \\right) $$\n",
    "\n",
    "$$ \\frac{1+\\sqrt{5}}{1+\\sqrt{5}} +  \\frac{2 \\cdot ( 1 + \\sqrt{5}) }{ (1 - \\sqrt{5}) (1 + \\sqrt{5}) } $$\n",
    "\n",
    "$$ \\frac{1+\\sqrt{5}}{1+\\sqrt{5}} -  \\frac{ ( 1 + \\sqrt{5}) }{ 2} $$\n",
    "\n",
    "$$ \\frac{2 \\cdot ( 1 + \\sqrt{5}) - ( 1 + \\sqrt{5})^2}{2 \\cdot ( 1 + \\sqrt{5})} $$\n",
    "\n",
    "$$ \\frac{\\cancel{ (1 + \\sqrt{5}) } \\cdot (2 - ( 1 + \\sqrt{5}))}{2 \\cdot \\cancel{  ( 1 + \\sqrt{5}) } } = \\frac{1 - \\sqrt{5}}{2}$$\n",
    "\n",
    "$\\qquad$ Retomando el cálculo...\n",
    "\n",
    "$$\\left(\\frac{1 - \\sqrt{5}}{2}\\right)^{n} \\cdot \\left[ 1 + \\left(\\frac{2}{1 - \\sqrt{5}}\\right)\\right] = \\left(\\frac{1 - \\sqrt{5}}{2}\\right)^{n} \\cdot \\left[ \\frac{1 - \\sqrt{5}}{2} \\right] = \\left(\\frac{1 - \\sqrt{5}}{2}\\right)^{n+1} $$\n",
    "\n",
    "$\\qquad$ Entonces vale la formula cerrada.\n"
   ]
  },
  {
   "cell_type": "code",
   "execution_count": 10,
   "metadata": {},
   "outputs": [
    {
     "data": {
      "text/markdown": [
       "\n",
       "| n | Fórmula Cerrada | Fórmula Recursiva | Diferencia |\n",
       "|----|-------|-------|-------|\n",
       "| 0 | 1.00000000000000000000 | 1.00000000000000000000 | 0.00000000000000000000 |\n",
       "| 1 | -0.61803398874989490253 | -0.61803398874989490253 | 0.00000000000000000000 |\n",
       "| 2 | 0.38196601125010520850 | 0.38196601125010509747 | 0.00000000000000011102 |\n",
       "| 3 | -0.23606797749978974954 | -0.23606797749978980505 | 0.00000000000000005551 |\n",
       "| 4 | 0.14589803375031551447 | 0.14589803375031529242 | 0.00000000000000022204 |\n",
       "| 5 | -0.09016994374947427671 | -0.09016994374947451263 | 0.00000000000000023592 |\n",
       "| 6 | 0.05572809000084124470 | 0.05572809000084077979 | 0.00000000000000046491 |\n",
       "| 7 | -0.03444185374863304588 | -0.03444185374863373283 | 0.00000000000000068695 |\n",
       "| 8 | 0.02128623625220820229 | 0.02128623625220704696 | 0.00000000000000115533 |\n",
       "| 9 | -0.01315561749642484880 | -0.01315561749642668588 | 0.00000000000000183707 |\n"
      ],
      "text/plain": [
       "<IPython.core.display.Markdown object>"
      ]
     },
     "metadata": {},
     "output_type": "display_data"
    }
   ],
   "source": [
    "def s_n(n): return ((1 - math.sqrt(5))/2)**n\n",
    "\n",
    "def r_n(n):\n",
    "    if n == 0 :\n",
    "        return 1\n",
    "    elif n == 1 :\n",
    "        return (1 - math.sqrt(5))/2\n",
    "    else:\n",
    "        return r_n(n-1) + r_n(n-2)\n",
    "\n",
    "lst10_s_n = []\n",
    "lst10_r_n = []\n",
    "\n",
    "for i in range(10):\n",
    "    lst10_s_n.append(s_n(i))\n",
    "    lst10_r_n.append(r_n(i))\n",
    "\n",
    "display(Markdown('''\n",
    "| n | Fórmula Cerrada | Fórmula Recursiva | Diferencia |\n",
    "|----|-------|-------|-------|\n",
    "| %d | %.20f | %.20f | %.20f |\n",
    "| %d | %.20f | %.20f | %.20f |\n",
    "| %d | %.20f | %.20f | %.20f |\n",
    "| %d | %.20f | %.20f | %.20f |\n",
    "| %d | %.20f | %.20f | %.20f |\n",
    "| %d | %.20f | %.20f | %.20f |\n",
    "| %d | %.20f | %.20f | %.20f |\n",
    "| %d | %.20f | %.20f | %.20f |\n",
    "| %d | %.20f | %.20f | %.20f |\n",
    "| %d | %.20f | %.20f | %.20f |\n",
    "''' % (0,lst10_s_n[0], lst10_r_n[0], (lst10_s_n[0] - lst10_r_n[0])\n",
    ",1,lst10_s_n[1], lst10_r_n[1], (lst10_s_n[1] - lst10_r_n[1])\n",
    ",2,lst10_s_n[2], lst10_r_n[2], (lst10_s_n[2] - lst10_r_n[2])\n",
    ",3,lst10_s_n[3], lst10_r_n[3], (lst10_s_n[3] - lst10_r_n[3])\n",
    ",4,lst10_s_n[4], lst10_r_n[4], (lst10_s_n[4] - lst10_r_n[4])\n",
    ",5,lst10_s_n[5], lst10_r_n[5], (lst10_s_n[5] - lst10_r_n[5])\n",
    ",6,lst10_s_n[6], lst10_r_n[6], (lst10_s_n[6] - lst10_r_n[6])\n",
    ",7,lst10_s_n[7], lst10_r_n[7], (lst10_s_n[7] - lst10_r_n[7])\n",
    ",8,lst10_s_n[8], lst10_r_n[8], (lst10_s_n[8] - lst10_r_n[8])\n",
    ",9,lst10_s_n[9], lst10_r_n[9], (lst10_s_n[9] - lst10_r_n[9])\n",
    ")\n",
    "))\n"
   ]
  },
  {
   "cell_type": "markdown",
   "metadata": {},
   "source": [
    "#### Ejercicio 11\n",
    "Sea\n",
    "$$y_n=\\int_{0}^{1} x^ne^xdx$$\n",
    "Integrar por partes para obtener una fórmula recurrente para $y_n$.\n",
    "\n",
    "Mostrar que $\\lim_{n \\to \\infty}y_n=0$.\n",
    "\n",
    "Hacer un programa para calcular los primeros 30 términos de $y_n$ y analizar los resultados."
   ]
  },
  {
   "cell_type": "markdown",
   "metadata": {},
   "source": [
    "$\\qquad$ Para la integración por partes, tomamos\n",
    "\n",
    "$\\qquad$ $f(x) = x^n \\rightarrow f'(x) = nx^{n-1}$\n",
    "\n",
    "$\\qquad$ $g'(x) = e^x \\rightarrow g(x) = e^x$\n",
    "\n",
    "$\\qquad$ Entonces\n",
    "\n",
    "$$y_n=\\int_{0}^{1} x^ne^xdx = x_ne^x\\bigg\\vert_{0}^{1} - \\int_{0}^{1} nx^{n-1}e^xdx$$\n",
    "$$y_n=\\int_{0}^{1} x^ne^xdx = e - n \\cdot \\int_{0}^{1} x^{n-1}e^xdx$$\n",
    "\n",
    "$\\qquad$ Podemos entonces tomar que $y_{n-1} = n \\cdot \\int_{0}^{1} x^{n-1}e^xdx$, luego nos queda que:\n",
    "\n",
    "$$y_n=e-n\\cdot y_{n-1}$$\n",
    "\n",
    "$\\qquad$ Calculamos $y_0$ para tener un caso base de la recursión:\n",
    "\n",
    "$$y_0=\\int_{0}^{1} x^0e^xdx = e - 1$$\n"
   ]
  },
  {
   "cell_type": "markdown",
   "metadata": {},
   "source": [
    "$\\qquad$ Para ver que $\\lim_{n \\to \\infty}y_n=0$, veamos que \n",
    "$$y_n=\\int_{0}^{1} x^ne^xdx = \\int_{0}^{1} x\\cdot x^{n-1}e^xdx $$\n",
    "\n",
    "Como es una integral entre $(0, 1) \\implies x<1$, luego\n",
    "\n",
    "$$\\int_{0}^{1} x\\cdot x^{n-1}e^xdx < \\int_{0}^{1} x^{n-1}e^xdx $$\n",
    "$$y_n < y_{n-1}$$\n",
    "\n",
    "$\\qquad$ Vemos entonces que $y_n$ es una sucesión decreciente.\n",
    "\n",
    "$\\qquad$ Tambien tenemos que $y_n$ por definición, es una función acotada con $x \\in (0,1)$.\n",
    "\n",
    "$\\qquad$ Como $y_n$ es decreciente y acotada $\\implies \\exists$ L $\\in R$ y es finito.\n",
    "\n",
    "$\\qquad$ Analicemos $y_n = e - n \\cdot y_{n-1}$. Por observación anterior, $y_n \\rightarrow L$ y como $y_{n-1}$ es subsucesión de $y_n$, entonces $y_{n-1} \\rightarrow L$\n",
    "\n",
    "$\\qquad$ Luego $n \\cdot y_{n-1} \\rightarrow \\infty \\cdot L$\n",
    "\n",
    "$\\qquad$ Si $L \\neq 0 \\implies \\infty \\cdot L = \\pm \\infty$ lo que es absurdo ya que $y_n$ por definición esta acotado.\n",
    " \n",
    "$\\qquad$ Entonces, si $L=0 \\implies \\infty \\cdot 0$ = INDETERMINADO\n",
    "\n",
    "$\\qquad$ Por lo tanto, como sabemos que $L$ es finito $\\implies L = 0$."
   ]
  },
  {
   "cell_type": "markdown",
   "metadata": {},
   "source": [
    "$\\qquad$ Calcumamos entonces los primeros 30 terminos de $y_n$"
   ]
  },
  {
   "cell_type": "code",
   "execution_count": 11,
   "metadata": {},
   "outputs": [
    {
     "data": {
      "text/markdown": [
       "\n",
       "| n | $y_n$ | $n \\cdot y_{n-1} \\rightarrow e$ |\n",
       "|----|-------|-------|\n",
       "| 0 | 1.71828182845904509080 | 0.00000000000000000000 |\n",
       "| 1 | 1.00000000000000000000 | 0.00000000000000000000 |\n",
       "| 2 | 0.71828182845904509080 | 0.71828182845904509080 |\n",
       "| 3 | 0.56343634308190981841 | 1.12687268616381963682 |\n",
       "| 4 | 0.46453645613140581716 | 1.39360936839421745148 |\n",
       "| 5 | 0.39559954780201600499 | 1.58239819120806401997 |\n",
       "| 6 | 0.34468454164694906083 | 1.72342270823474530417 |\n",
       "| 7 | 0.30549003693040166496 | 1.83294022158240998976 |\n",
       "| 8 | 0.27436153301583177111 | 1.92053073111082239777 |\n",
       "| 9 | 0.24902803131655915081 | 1.99222425053247320648 |\n",
       "| 10 | 0.22800151529345358270 | 2.05201363764108224430 |\n",
       "| 11 | 0.21026516023105568109 | 2.10265160231055681095 |\n",
       "| 12 | 0.19509990568637691766 | 2.14609896255014609423 |\n",
       "| 13 | 0.18198305453614516125 | 2.18379665443374193501 |\n",
       "| 14 | 0.17051906495301283329 | 2.21674784438916683271 |\n",
       "| 15 | 0.16049585416385259151 | 2.24694195829393628117 |\n",
       "| 16 | 0.15034816183740362661 | 2.25522242756105439909 |\n",
       "| 17 | 0.16236307722318343849 | 2.59780923557093501586 |\n",
       "| 18 | -0.2042535615582568020 | -3.4723105464903656348 |\n",
       "| 19 | 6.59909949806592432964 | 118.783790965186639710 |\n",
       "| 20 | -129.26370813285942063 | -2456.0104545243289067 |\n",
       "| 21 | 2717.25615261850680326 | 54345.1230523701378843 |\n",
       "| 22 | -59776.917075778692379 | -1255315.2585913524963 |\n",
       "| 23 | 1374871.81102473847568 | 30247179.8425442464650 |\n",
       "| 24 | -32996920.746311895549 | -758929177.16517364979 |\n",
       "| 25 | 824923021.376079201698 | 19798152513.0259017944 |\n",
       "| 26 | -21447998553.059780121 | -536199963826.49450684 |\n",
       "| 27 | 579095960935.332275391 | 15056494984318.6386719 |\n",
       "| 28 | -16214686906186.585938 | -437796546467037.81250 |\n",
       "| 29 | 470225920279413.687500 | 13166325767823584.0000 |\n"
      ],
      "text/plain": [
       "<IPython.core.display.Markdown object>"
      ]
     },
     "metadata": {},
     "output_type": "display_data"
    }
   ],
   "source": [
    "def y_n(n):\n",
    "   if n == 0:\n",
    "      return (math.e - 1)\n",
    "   elif n== 1:\n",
    "      return 1\n",
    "   else:\n",
    "      return (math.e - n*(y_n(n-1)))\n",
    "\n",
    "aux = 0\n",
    "lista_res = []\n",
    "lista_res_ant = []\n",
    "\n",
    "for i in range(30):\n",
    "   lista_res.append( y_n(i) )\n",
    "   if i > 0:\n",
    "      lista_res_ant.append(lista_res[i]*(i-1))\n",
    "   else:\n",
    "      lista_res_ant.append(0)\n",
    "\n",
    "display(Markdown('''\n",
    "| n | $y_n$ | $n \\cdot y_{n-1} \\\\rightarrow e$ |\n",
    "|----|-------|-------|\n",
    "| %d | %.20f | %.20f |\n",
    "| %d | %.20f | %.20f |\n",
    "| %d | %.20f | %.20f |\n",
    "| %d | %.20f | %.20f |\n",
    "| %d | %.20f | %.20f |\n",
    "| %d | %.20f | %.20f |\n",
    "| %d | %.20f | %.20f |\n",
    "| %d | %.20f | %.20f |\n",
    "| %d | %.20f | %.20f |\n",
    "| %d | %.20f | %.20f |\n",
    "| %d | %.20f | %.20f |\n",
    "| %d | %.20f | %.20f |\n",
    "| %d | %.20f | %.20f |\n",
    "| %d | %.20f | %.20f |\n",
    "| %d | %.20f | %.20f |\n",
    "| %d | %.20f | %.20f |\n",
    "| %d | %.20f | %.20f |\n",
    "| %d | %.20f | %.20f |\n",
    "| %d | %.19f | %.19f |\n",
    "| %d | %.20f | %.18f |\n",
    "| %d | %.17f | %.16f |\n",
    "| %d | %.17f | %.16f |\n",
    "| %d | %.15f | %.13f |\n",
    "| %d | %.14f | %.13f |\n",
    "| %d | %.12f | %.11f |\n",
    "| %d | %.12f | %.10f |\n",
    "| %d | %.9f | %.8f |\n",
    "| %d | %.9f | %.7f |\n",
    "| %d | %.6f | %.5f |\n",
    "| %d | %.6f | %.4f |\n",
    "''' % (0,lista_res[0], lista_res_ant[ 0]\n",
    "    , 1,lista_res[ 1], lista_res_ant[ 1]\n",
    "    , 2,lista_res[ 2], lista_res_ant[ 2]\n",
    "    , 3,lista_res[ 3], lista_res_ant[ 3]\n",
    "    , 4,lista_res[ 4], lista_res_ant[ 4]\n",
    "    , 5,lista_res[ 5], lista_res_ant[ 5]\n",
    "    , 6,lista_res[ 6], lista_res_ant[ 6]\n",
    "    , 7,lista_res[ 7], lista_res_ant[ 7]\n",
    "    , 8,lista_res[ 8], lista_res_ant[ 8]\n",
    "    , 9,lista_res[ 9], lista_res_ant[ 9]\n",
    "    ,10,lista_res[10], lista_res_ant[10]\n",
    "    ,11,lista_res[11], lista_res_ant[11]\n",
    "    ,12,lista_res[12], lista_res_ant[12]\n",
    "    ,13,lista_res[13], lista_res_ant[13]\n",
    "    ,14,lista_res[14], lista_res_ant[14]\n",
    "    ,15,lista_res[15], lista_res_ant[15]\n",
    "    ,16,lista_res[16], lista_res_ant[16]\n",
    "    ,17,lista_res[17], lista_res_ant[17]\n",
    "    ,18,lista_res[18], lista_res_ant[18]\n",
    "    ,19,lista_res[19], lista_res_ant[19]\n",
    "    ,20,lista_res[20], lista_res_ant[20]\n",
    "    ,21,lista_res[21], lista_res_ant[21]\n",
    "    ,22,lista_res[22], lista_res_ant[22]\n",
    "    ,23,lista_res[23], lista_res_ant[23]\n",
    "    ,24,lista_res[24], lista_res_ant[24]\n",
    "    ,25,lista_res[25], lista_res_ant[25]\n",
    "    ,26,lista_res[26], lista_res_ant[26]\n",
    "    ,27,lista_res[27], lista_res_ant[27]\n",
    "    ,28,lista_res[28], lista_res_ant[28]\n",
    "    ,29,lista_res[29], lista_res_ant[29]\n",
    ")\n",
    "))\n",
    "   "
   ]
  },
  {
   "cell_type": "markdown",
   "metadata": {},
   "source": [
    "$\\qquad$ Se puede apreciar en los resultados, que hasta $y_n(16)$ se comporta como una sucesión decreciente como se esperaba. Pero luego, a medida que el miembro $n \\cdot y_{n-1}$ se aproxima a $e$, la resta $e - n \\cdot y_{n-1}$ comienza a ser una resta entre números cercanos, lo cual ya vimos que acarrea un error muy grande, que además entre cada paso de la recursión, el error de cálculo es amplificado por $n$, lo que vuelve esta operación inviable."
   ]
  }
 ],
 "metadata": {
  "interpreter": {
   "hash": "1bde03241c945d910f6012aa406c9b0c219aaaa71a8434fd63f2b461251fddf0"
  },
  "kernelspec": {
   "display_name": "Python 3.10.2 64-bit",
   "language": "python",
   "name": "python3"
  },
  "language_info": {
   "codemirror_mode": {
    "name": "ipython",
    "version": 3
   },
   "file_extension": ".py",
   "mimetype": "text/x-python",
   "name": "python",
   "nbconvert_exporter": "python",
   "pygments_lexer": "ipython3",
   "version": "3.10.2"
  },
  "orig_nbformat": 4
 },
 "nbformat": 4,
 "nbformat_minor": 2
}
