{
 "cells": [
  {
   "cell_type": "markdown",
   "metadata": {},
   "source": [
    "Materia: Análisis Numérico\n",
    "\n",
    "Alumno: Chavez Matias David"
   ]
  },
  {
   "cell_type": "code",
   "execution_count": 71,
   "metadata": {},
   "outputs": [],
   "source": [
    "from IPython.display import display, Markdown, Latex\n",
    "import random\n",
    "import numpy as np\n",
    "from numpy import identity, matmul\n",
    "from operator import itemgetter"
   ]
  },
  {
   "cell_type": "markdown",
   "metadata": {},
   "source": [
    "#### Ejercicio 7.\n",
    "\n",
    "Escribir un código para estimar la norma infnito de una matriz, usar la fórmula cerrada. \n",
    "\n",
    "$\\qquad$ $$\\vert\\vert A \\vert\\vert_\\infty = \\max_{1 \\leq i \\leq n} \\sum_{j=1}^{n} \\vert a_{ij} \\vert$$"
   ]
  },
  {
   "cell_type": "code",
   "execution_count": 72,
   "metadata": {},
   "outputs": [],
   "source": [
    "def normaInfinitoCerrada(matriz):\n",
    "    res = []\n",
    "    cant_filas = len(matriz)\n",
    "    for i in range(cant_filas):\n",
    "        res.append(sum(map(abs, matriz[i])))\n",
    "\n",
    "    return max(res)"
   ]
  },
  {
   "cell_type": "markdown",
   "metadata": {},
   "source": [
    "¿Cómo sería un código si no tenemos una fórmula cerrada? Comparar.\n",
    "\n",
    "$\\qquad$ Si no se puede utilizar la fórmula cerrada, entonces se puede aproximar un valor utilizando la siguiente igualdad:\n",
    "\n",
    "$\\qquad$ $$\\vert\\vert A \\vert\\vert_\\infty = \\max_{\\vert\\vert x \\vert\\vert_\\infty = 1} \\vert\\vert A x \\vert\\vert_\\infty $$ siendo $x$ un vector n-dimensional con norma infinito igual a 1.\n",
    "\n",
    "$\\qquad$ Vamos probando con diferentes cantidades de vectores que cumplan esa condición, guardándonos el máximo valor tras cada iteración. De manera de validar la convergencia.\n"
   ]
  },
  {
   "cell_type": "code",
   "execution_count": 73,
   "metadata": {},
   "outputs": [],
   "source": [
    "def generacionVectoresAleatorios(tamanio_matriz):\n",
    "    vector_x = np.random.uniform(-1, 1, tamanio_matriz)\n",
    "    # Cargamos un 1 para que la norma infinito resulte 1, ya que todos seran menores o iguales a 1 (en modulo)\n",
    "    vector_x[random.randint(0, tamanio_matriz - 1)] = 1\n",
    "    return vector_x\n",
    "\n",
    "def normaInfinitoAproximada(matriz, pasadas):\n",
    "    max_norma = 0\n",
    "    for r in range(pasadas + 1):\n",
    "        cant_filas = len(matriz)\n",
    "        vec_x = generacionVectoresAleatorios(cant_filas)\n",
    "        # Multiplicacion A . x\n",
    "        vec_b = np.dot(matriz, vec_x)\n",
    "        norma_infinito = max(vec_b)\n",
    "        max_norma = max(max_norma, norma_infinito)\n",
    "    \n",
    "    return max_norma"
   ]
  },
  {
   "cell_type": "markdown",
   "metadata": {},
   "source": [
    "$\\qquad$ Calculamos por ejemplo\n",
    "$$\\begin{bmatrix} 3 & 5 & 7 \\\\ 2 & 6 & 4 \\\\ 0 & 2 & 8 \\end{bmatrix} $$"
   ]
  },
  {
   "cell_type": "code",
   "execution_count": 74,
   "metadata": {},
   "outputs": [
    {
     "data": {
      "text/markdown": [
       "\n",
       "| n  | Sumas realizadas |\n",
       "|----|----              |\n",
       "| Cerrada | 15               |\n",
       "| 10 | 13.5314655404               |\n",
       "| 50 | 12.6244351565               |\n",
       "| 100 | 13.3797407345               |\n",
       "| 500 | 14.3088714366               |\n",
       "| 1000 | 14.6702696714               |\n",
       "| 10000 | 14.9384490185               |\n",
       "| 100000 | 14.9694537385               |\n"
      ],
      "text/plain": [
       "<IPython.core.display.Markdown object>"
      ]
     },
     "metadata": {},
     "output_type": "display_data"
    }
   ],
   "source": [
    "matriz = [[3, 5, 7], [2, 6, 4], [0, 2, 8]]\n",
    "res_cerrada = normaInfinitoCerrada(matriz)\n",
    "\n",
    "intentos = [10,50,100,500,1000,10000, 100000]\n",
    "res_intentos = []\n",
    "for i in range(len(intentos)):\n",
    "    res_intentos.append(normaInfinitoAproximada(matriz, intentos[i]))\n",
    "\n",
    "display(Markdown('''\n",
    "| n  | Sumas realizadas |\n",
    "|----|----              |\n",
    "| %s | %d               |\n",
    "| %s | %.10f               |\n",
    "| %s | %.10f               |\n",
    "| %s | %.10f               |\n",
    "| %s | %.10f               |\n",
    "| %s | %.10f               |\n",
    "| %s | %.10f               |\n",
    "| %s | %.10f               |\n",
    "''' % (\"Cerrada\",res_cerrada\n",
    "      ,\"10\"     ,res_intentos[0]\n",
    "      ,\"50\"     ,res_intentos[1]\n",
    "      ,\"100\"    ,res_intentos[2]\n",
    "      ,\"500\"    ,res_intentos[3]\n",
    "      ,\"1000\"   ,res_intentos[4]\n",
    "      ,\"10000\"  ,res_intentos[5]\n",
    "      ,\"100000\" ,res_intentos[6]\n",
    ")\n",
    "))"
   ]
  },
  {
   "cell_type": "markdown",
   "metadata": {},
   "source": [
    "$\\qquad$ Como se puede apreciar, a medida que aumentamos la cantidad de vectores, el resultado converge hacia el valor de la fórmula cerrada."
   ]
  },
  {
   "cell_type": "markdown",
   "metadata": {},
   "source": [
    "#### Ejercicio 11\n",
    "Escribir un código para resolver el sistema matricial $Ax = b$ donde A es una matriz que es una permutación de una matriz triangular superior.\n",
    "\n",
    "$\\qquad$ Siguiendo el esquema de la matriz indicada, podemos establecer que para calcular cada valor de $x$ vale que:\n",
    "\n",
    "$\\qquad$ $$\\forall i \\in \\{n, n-1,\\ldots,1\\} \\quad x_i = \\frac{b_i - \\sum_{j=i}^{n} a_{ij}x_j}{a_{ij}}$$\n",
    "\n",
    "$\\qquad$ Es decir, comenzamos a despejar desde abajo hacia arriba. Por cada fila que recorremos, empezamos desde la diagonal, ya que hacia la izquierda hay todos ceros.\n",
    "\n",
    "$\\qquad$ Dado $p = [ p_1, p_2, \\ldots, p_n ] $ vector de permutacion de filas A, podemos calcular respetando el orden de la siguiente manera:\n",
    "\n",
    "$\\qquad$ $$\\forall i \\in \\{n, n-1,\\ldots,1\\} \\quad x_i = \\frac{b_{p[i]} - \\sum_{j=i}^{n} a_{p[i], j}x_j}{a_{p[i], i}}$$\n",
    "\n",
    "$\\qquad$ Hay que tener en cuenta que la pertumación afecta tambien al vector $b$"
   ]
  },
  {
   "cell_type": "code",
   "execution_count": 75,
   "metadata": {},
   "outputs": [],
   "source": [
    "def resolverMatrizTriangularSuperior(matriz, b, p):\n",
    "    n = len(matriz)\n",
    "    res = [None for i in range(n)]\n",
    "\n",
    "    # primer elemento:\n",
    "    res[n - 1] = b[p[n - 1]] / matriz[p[n - 1]][n - 1]\n",
    "\n",
    "    # Recorremos la matriz desde abajo hacia arriba, y de izquierda a derecha, comenzando desde la diagonal + 1.\n",
    "    for i in range(n - 2, -1, -1):\n",
    "        acum = 0\n",
    "        for j in range(i + 1, n):\n",
    "            acum = acum + matriz[p[i]][j] * res[j]\n",
    "\n",
    "        res[i] = (b[p[i]] - acum) / matriz[p[i]][i]\n",
    "        # Validación para que el resultado no me dé -0\n",
    "        if res[i] == -0:\n",
    "            res[i] = 0.0\n",
    "\n",
    "    return res\n",
    "    "
   ]
  },
  {
   "cell_type": "markdown",
   "metadata": {},
   "source": [
    "#### Ejercicio 14\n",
    "Usar el proceso de eleminación de Gauss Escalado para encontrar la descomposición PA=LU (comparar con Python) y resolver en cada uno de los casos.\n",
    "\n",
    "$$\\begin{bmatrix} -1 & 1 & -4 \\\\ 2 & 2 & 0 \\\\ 4 & 4 & 2 \\end{bmatrix} \\begin{bmatrix} x_1 \\\\ x_2 \\\\ x_3 \\end{bmatrix} = \\begin{bmatrix} 0 \\\\ 1 \\\\ \\frac{1}{2} \\end{bmatrix} $$\n",
    "\n",
    "$$\\begin{bmatrix} 1 & 6 & 0 \\\\ 2 & 1 & 0 \\\\ 0 & 2 & 1 \\end{bmatrix} \\begin{bmatrix} x_1 \\\\ x_2 \\\\ x_3 \\end{bmatrix} = \\begin{bmatrix} 3 \\\\ 1 \\\\ 1 \\end{bmatrix} $$"
   ]
  },
  {
   "cell_type": "code",
   "execution_count": 76,
   "metadata": {},
   "outputs": [],
   "source": [
    "def solve_pivot(matriz, n, j, s, p):\n",
    "    radios = [(i, p[i], abs(matriz[i][j]) / s[i]) for i in p[j:]]\n",
    "    pivot = max(radios, key=itemgetter(2))[1]\n",
    "    p[j], p[pivot] = p[pivot], p[j]\n",
    "    return pivot\n",
    "\n",
    "\n",
    "def solve_gauss(matriz, b):\n",
    "    n = len(matriz)\n",
    "    s = [max(map(abs, row)) for row in matriz]\n",
    "    p = [i for i in range(n)]\n",
    "\n",
    "    # recorro por columna, calculo pivot, aplico eliminacion\n",
    "    for j in range(n - 1):\n",
    "        #  para la columna j, obtengo que fila es pivot\n",
    "        pivot = solve_pivot(matriz, n, j, s, p)\n",
    "\n",
    "        # una vez tengo el pivot, tengo que aplicar la eliminacion para las filas diferentes al pivot\n",
    "        for i in range(j + 1, n):\n",
    "            factor = matriz[p[i]][j] / matriz[pivot][j]\n",
    "            b[p[i]] = b[p[i]] - factor * b[pivot]\n",
    "            for k in range(n):\n",
    "                matriz[p[i]][k] = matriz[p[i]][k] - factor * matriz[pivot][k]\n",
    "            matriz[p[i]][j] = factor\n",
    "    # Armamos L, U y P segun A\n",
    "    mp = [[0 for _ in range(n)] for _ in range(n)]\n",
    "    ml = [[0 for _ in range(n)] for _ in range(n)]\n",
    "    mu = [[0 for _ in range(n)] for _ in range(n)]\n",
    "\n",
    "    for i in range(n):\n",
    "        ml[i][i] = 1\n",
    "        mp[i][p[i]] = 1\n",
    "        for j in range(0, i):\n",
    "            ml[i][j] = matriz[p[i]][j]\n",
    "        for j in range(i, n):\n",
    "            mu[i][j] = matriz[p[i]][j]\n",
    "\n",
    "    return matriz, mp, ml, mu, b, p\n"
   ]
  },
  {
   "cell_type": "markdown",
   "metadata": {},
   "source": [
    "$\\qquad$ Primer Sistema\n",
    "\n",
    "$$\\begin{bmatrix} -1 & 1 & -4 \\\\ 2 & 2 & 0 \\\\ 4 & 4 & 2 \\end{bmatrix} \\begin{bmatrix} x_1 \\\\ x_2 \\\\ x_3 \\end{bmatrix} = \\begin{bmatrix} 0 \\\\ 1 \\\\ \\frac{1}{2} \\end{bmatrix} $$\n",
    "$$ \\begin{bmatrix} x_1 \\\\ x_2 \\\\ x_3 \\end{bmatrix} = \\begin{bmatrix} \\frac{5}{4} \\\\ -\\frac{3}{4} \\\\ -\\frac{1}{4} \\end{bmatrix} $$"
   ]
  },
  {
   "cell_type": "code",
   "execution_count": 77,
   "metadata": {},
   "outputs": [
    {
     "name": "stdout",
     "output_type": "stream",
     "text": [
      "A => \n",
      " [[-0.5  2.  -4. ]\n",
      " [ 2.   2.   0. ]\n",
      " [ 1.5  0.   2. ]]\n",
      "B => \n",
      " [[ 0.5  1.  -1. ]]\n",
      "P => \n",
      " [[0 1 0]\n",
      " [1 0 0]\n",
      " [0 0 1]]\n",
      "L => \n",
      " [[ 1.   0.   0. ]\n",
      " [-0.5  1.   0. ]\n",
      " [ 1.5  0.   1. ]]\n",
      "U => \n",
      " [[ 2.  2.  0.]\n",
      " [ 0.  2. -4.]\n",
      " [ 0.  0.  2.]]\n",
      "\n",
      "x =>  [1.25, -0.75, -0.5]\n"
     ]
    }
   ],
   "source": [
    "matriz_1 = [[-1, 1, -4], [2, 2, 0], [3, 3, 2]]\n",
    "b = [0, 1, 0.5]\n",
    "p = []\n",
    "a, mp, ml, mu, b, p = solve_gauss(matriz_1, b)\n",
    "\n",
    "print(\"A => \\n\", np.matrix(a))\n",
    "print(\"B => \\n\", np.matrix(b))\n",
    "print(\"P => \\n\", np.matrix(mp))\n",
    "print(\"L => \\n\", np.matrix(ml))\n",
    "print(\"U => \\n\", np.matrix(mu))\n",
    "print(\"\")\n",
    "print(\"x => \", resolverMatrizTriangularSuperior(a, b, p))"
   ]
  },
  {
   "cell_type": "markdown",
   "metadata": {},
   "source": [
    "$\\qquad$ Segundo Sistema\n",
    "\n",
    "$$\\begin{bmatrix} 1 & 6 & 0 \\\\ 2 & 1 & 0 \\\\ 0 & 2 & 1 \\end{bmatrix} \\begin{bmatrix} x_1 \\\\ x_2 \\\\ x_3 \\end{bmatrix} = \\begin{bmatrix} 3 \\\\ 1 \\\\ 1 \\end{bmatrix} $$\n",
    "\n",
    "$$ \\begin{bmatrix} x_1 \\\\ x_2 \\\\ x_3 \\end{bmatrix} = \\begin{bmatrix} \\frac{3}{11} \\\\ \\frac{5}{11} \\\\ \\frac{1}{11} \\end{bmatrix} $$"
   ]
  },
  {
   "cell_type": "code",
   "execution_count": 78,
   "metadata": {},
   "outputs": [
    {
     "name": "stdout",
     "output_type": "stream",
     "text": [
      "A => \n",
      " [[ 0.5   2.75 -2.75]\n",
      " [ 2.    1.    0.  ]\n",
      " [ 0.    2.    1.  ]]\n",
      "B => \n",
      " [[-0.25  1.    1.  ]]\n",
      "p => \n",
      " [[1 2 0]]\n",
      "P => \n",
      " [[0 1 0]\n",
      " [0 0 1]\n",
      " [1 0 0]]\n",
      "L => \n",
      " [[1.   0.   0.  ]\n",
      " [0.   1.   0.  ]\n",
      " [0.5  2.75 1.  ]]\n",
      "U => \n",
      " [[ 2.    1.    0.  ]\n",
      " [ 0.    2.    1.  ]\n",
      " [ 0.    0.   -2.75]]\n",
      "x =>  [0.2727272727272727, 0.45454545454545453, 0.09090909090909091]\n"
     ]
    }
   ],
   "source": [
    "matriz_2 = [[1, 6, 0], [2, 1, 0], [0, 2, 1]]\n",
    "b = [3, 1, 1]\n",
    "p = []\n",
    "a, mp, ml, mu, b, p = solve_gauss(matriz_2, b)\n",
    "\n",
    "print(\"A => \\n\", np.matrix(a))\n",
    "print(\"B => \\n\", np.matrix(b))\n",
    "print(\"p => \\n\", np.matrix(p))\n",
    "print(\"P => \\n\", np.matrix(mp))\n",
    "print(\"L => \\n\", np.matrix(ml))\n",
    "print(\"U => \\n\", np.matrix(mu))\n",
    "\n",
    "print(\"x => \", resolverMatrizTriangularSuperior(a, b, p))"
   ]
  },
  {
   "cell_type": "markdown",
   "metadata": {},
   "source": [
    "#### Ejercicio 15\n",
    "Calcular los primeros 100 términos del método de Richardson para el sistema\n",
    "\n",
    "$$\\begin{bmatrix} 1 & \\frac{1}{2} & \\frac{1}{3} \\\\ \\frac{1}{3} & 1 & \\frac{1}{2} \\\\ \\frac{1}{2} & \\frac{1}{3} & 1 \\end{bmatrix} \\begin{bmatrix} x_1 \\\\ x_2 \\\\ x_3 \\end{bmatrix} = \\begin{bmatrix} \\frac{11}{18} \\\\ \\frac{11}{18} \\\\ \\frac{11}{18} \\end{bmatrix} $$\n",
    "\n",
    "$\\qquad$ Resolviendo el sistema se llega a que el resultado esperado sea $x = [ \\frac{1}{3},\\frac{1}{3}, \\frac{1}{3} ]$"
   ]
  },
  {
   "cell_type": "code",
   "execution_count": 79,
   "metadata": {},
   "outputs": [
    {
     "name": "stdout",
     "output_type": "stream",
     "text": [
      "Iteración n° 0 =>  x =  [0.10185185 0.10185185 0.10185185]\n",
      "Iteración n° 1 =>  x =  [0.52623457 0.52623457 0.52623457]\n",
      "Iteración n° 2 =>  x =  [0.1725823 0.1725823 0.1725823]\n",
      "Iteración n° 3 =>  x =  [0.46729252 0.46729252 0.46729252]\n",
      "Iteración n° 4 =>  x =  [0.22170067 0.22170067 0.22170067]\n",
      "Iteración n° 5 =>  x =  [0.42636055 0.42636055 0.42636055]\n",
      "Iteración n° 6 =>  x =  [0.25581065 0.25581065 0.25581065]\n",
      "Iteración n° 7 =>  x =  [0.39793557 0.39793557 0.39793557]\n",
      "Iteración n° 8 =>  x =  [0.27949814 0.27949814 0.27949814]\n",
      "Iteración n° 9 =>  x =  [0.378196 0.378196 0.378196]\n",
      "Iteración n° 10 =>  x =  [0.29594778 0.29594778 0.29594778]\n",
      "Iteración n° 11 =>  x =  [0.36448796 0.36448796 0.36448796]\n",
      "Iteración n° 12 =>  x =  [0.30737114 0.30737114 0.30737114]\n",
      "Iteración n° 13 =>  x =  [0.35496849 0.35496849 0.35496849]\n",
      "Iteración n° 14 =>  x =  [0.31530404 0.31530404 0.31530404]\n",
      "Iteración n° 15 =>  x =  [0.34835775 0.34835775 0.34835775]\n",
      "Iteración n° 16 =>  x =  [0.32081299 0.32081299 0.32081299]\n",
      "Iteración n° 17 =>  x =  [0.34376695 0.34376695 0.34376695]\n",
      "Iteración n° 18 =>  x =  [0.32463865 0.32463865 0.32463865]\n",
      "Iteración n° 19 =>  x =  [0.3405789 0.3405789 0.3405789]\n",
      "Iteración n° 20 =>  x =  [0.32729536 0.32729536 0.32729536]\n",
      "Iteración n° 21 =>  x =  [0.33836498 0.33836498 0.33836498]\n",
      "Iteración n° 22 =>  x =  [0.32914029 0.32914029 0.32914029]\n",
      "Iteración n° 23 =>  x =  [0.33682753 0.33682753 0.33682753]\n",
      "Iteración n° 24 =>  x =  [0.3304215 0.3304215 0.3304215]\n",
      "Iteración n° 25 =>  x =  [0.33575986 0.33575986 0.33575986]\n",
      "Iteración n° 26 =>  x =  [0.33131123 0.33131123 0.33131123]\n",
      "Iteración n° 27 =>  x =  [0.33501842 0.33501842 0.33501842]\n",
      "Iteración n° 28 =>  x =  [0.33192909 0.33192909 0.33192909]\n",
      "Iteración n° 29 =>  x =  [0.33450353 0.33450353 0.33450353]\n",
      "Iteración n° 30 =>  x =  [0.33235817 0.33235817 0.33235817]\n",
      "Iteración n° 31 =>  x =  [0.33414597 0.33414597 0.33414597]\n",
      "Iteración n° 32 =>  x =  [0.33265613 0.33265613 0.33265613]\n",
      "Iteración n° 33 =>  x =  [0.33389767 0.33389767 0.33389767]\n",
      "Iteración n° 34 =>  x =  [0.33286306 0.33286306 0.33286306]\n",
      "Iteración n° 35 =>  x =  [0.33372523 0.33372523 0.33372523]\n",
      "Iteración n° 36 =>  x =  [0.33300675 0.33300675 0.33300675]\n",
      "Iteración n° 37 =>  x =  [0.33360548 0.33360548 0.33360548]\n",
      "Iteración n° 38 =>  x =  [0.33310654 0.33310654 0.33310654]\n",
      "Iteración n° 39 =>  x =  [0.33352233 0.33352233 0.33352233]\n",
      "Iteración n° 40 =>  x =  [0.33317584 0.33317584 0.33317584]\n",
      "Iteración n° 41 =>  x =  [0.33346458 0.33346458 0.33346458]\n",
      "Iteración n° 42 =>  x =  [0.33322396 0.33322396 0.33322396]\n",
      "Iteración n° 43 =>  x =  [0.33342448 0.33342448 0.33342448]\n",
      "Iteración n° 44 =>  x =  [0.33325738 0.33325738 0.33325738]\n",
      "Iteración n° 45 =>  x =  [0.33339663 0.33339663 0.33339663]\n",
      "Iteración n° 46 =>  x =  [0.33328059 0.33328059 0.33328059]\n",
      "Iteración n° 47 =>  x =  [0.33337729 0.33337729 0.33337729]\n",
      "Iteración n° 48 =>  x =  [0.33329671 0.33329671 0.33329671]\n",
      "Iteración n° 49 =>  x =  [0.33336386 0.33336386 0.33336386]\n",
      "Iteración n° 50 =>  x =  [0.3333079 0.3333079 0.3333079]\n",
      "Iteración n° 51 =>  x =  [0.33335453 0.33335453 0.33335453]\n",
      "Iteración n° 52 =>  x =  [0.33331567 0.33331567 0.33331567]\n",
      "Iteración n° 53 =>  x =  [0.33334805 0.33334805 0.33334805]\n",
      "Iteración n° 54 =>  x =  [0.33332107 0.33332107 0.33332107]\n",
      "Iteración n° 55 =>  x =  [0.33334356 0.33334356 0.33334356]\n",
      "Iteración n° 56 =>  x =  [0.33332481 0.33332481 0.33332481]\n",
      "Iteración n° 57 =>  x =  [0.33334043 0.33334043 0.33334043]\n",
      "Iteración n° 58 =>  x =  [0.33332742 0.33332742 0.33332742]\n",
      "Iteración n° 59 =>  x =  [0.33333826 0.33333826 0.33333826]\n",
      "Iteración n° 60 =>  x =  [0.33332923 0.33332923 0.33332923]\n",
      "Iteración n° 61 =>  x =  [0.33333676 0.33333676 0.33333676]\n",
      "Iteración n° 62 =>  x =  [0.33333048 0.33333048 0.33333048]\n",
      "Iteración n° 63 =>  x =  [0.33333571 0.33333571 0.33333571]\n",
      "Iteración n° 64 =>  x =  [0.33333135 0.33333135 0.33333135]\n",
      "Iteración n° 65 =>  x =  [0.33333498 0.33333498 0.33333498]\n",
      "Iteración n° 66 =>  x =  [0.33333196 0.33333196 0.33333196]\n",
      "Iteración n° 67 =>  x =  [0.33333448 0.33333448 0.33333448]\n",
      "Iteración n° 68 =>  x =  [0.33333238 0.33333238 0.33333238]\n",
      "Iteración n° 69 =>  x =  [0.33333413 0.33333413 0.33333413]\n",
      "Iteración n° 70 =>  x =  [0.33333267 0.33333267 0.33333267]\n",
      "Iteración n° 71 =>  x =  [0.33333389 0.33333389 0.33333389]\n",
      "Iteración n° 72 =>  x =  [0.33333287 0.33333287 0.33333287]\n",
      "Iteración n° 73 =>  x =  [0.33333372 0.33333372 0.33333372]\n",
      "Iteración n° 74 =>  x =  [0.33333301 0.33333301 0.33333301]\n",
      "Iteración n° 75 =>  x =  [0.3333336 0.3333336 0.3333336]\n",
      "Iteración n° 76 =>  x =  [0.33333311 0.33333311 0.33333311]\n",
      "Iteración n° 77 =>  x =  [0.33333352 0.33333352 0.33333352]\n",
      "Iteración n° 78 =>  x =  [0.33333318 0.33333318 0.33333318]\n",
      "Iteración n° 79 =>  x =  [0.33333346 0.33333346 0.33333346]\n",
      "Iteración n° 80 =>  x =  [0.33333323 0.33333323 0.33333323]\n",
      "Iteración n° 81 =>  x =  [0.33333342 0.33333342 0.33333342]\n",
      "Iteración n° 82 =>  x =  [0.33333326 0.33333326 0.33333326]\n",
      "Iteración n° 83 =>  x =  [0.3333334 0.3333334 0.3333334]\n",
      "Iteración n° 84 =>  x =  [0.33333328 0.33333328 0.33333328]\n",
      "Iteración n° 85 =>  x =  [0.33333338 0.33333338 0.33333338]\n",
      "Iteración n° 86 =>  x =  [0.3333333 0.3333333 0.3333333]\n",
      "Iteración n° 87 =>  x =  [0.33333336 0.33333336 0.33333336]\n",
      "Iteración n° 88 =>  x =  [0.33333331 0.33333331 0.33333331]\n",
      "Iteración n° 89 =>  x =  [0.33333335 0.33333335 0.33333335]\n",
      "Iteración n° 90 =>  x =  [0.33333332 0.33333332 0.33333332]\n",
      "Iteración n° 91 =>  x =  [0.33333335 0.33333335 0.33333335]\n",
      "Iteración n° 92 =>  x =  [0.33333332 0.33333332 0.33333332]\n",
      "Iteración n° 93 =>  x =  [0.33333334 0.33333334 0.33333334]\n",
      "Iteración n° 94 =>  x =  [0.33333332 0.33333332 0.33333332]\n",
      "Iteración n° 95 =>  x =  [0.33333334 0.33333334 0.33333334]\n",
      "Iteración n° 96 =>  x =  [0.33333333 0.33333333 0.33333333]\n",
      "Iteración n° 97 =>  x =  [0.33333334 0.33333334 0.33333334]\n",
      "Iteración n° 98 =>  x =  [0.33333333 0.33333333 0.33333333]\n",
      "Iteración n° 99 =>  x =  [0.33333334 0.33333334 0.33333334]\n"
     ]
    }
   ],
   "source": [
    "def solve_richardson(A, b, cant_terminos):\n",
    "\n",
    "    mR = identity(len(A)) - A\n",
    "    x = b\n",
    "\n",
    "    for i in range(cant_terminos):\n",
    "        x = matmul(mR, x) + b\n",
    "        print('Iteración n°', i, '=>  x = ', x)\n",
    "\n",
    "A = [[1, 1 / 2, 1 / 3],\n",
    "            [1 / 3, 1, 1 / 2],\n",
    "            [1 / 2, 1 / 3, 1]]\n",
    "\n",
    "b = [11 / 18, 11 / 18, 11 / 18]\n",
    "\n",
    "solve_richardson(A, b, 100)"
   ]
  },
  {
   "cell_type": "markdown",
   "metadata": {},
   "source": [
    "#### Ejercicio 16\n",
    "Escribir un algoritmo para calcular los primeros M pasos del método de Jacobi, y Gauss-Seidel\n",
    "\n",
    "<div  style=\"text-align: center;\">\n",
    "<img src=\"img/pseudo_jacobi.png\" width=\"385px\">\n",
    "<img src=\"img/pseudo_gauss_seidel.jpg\" width=\"500px\">\n",
    "</div>"
   ]
  },
  {
   "cell_type": "code",
   "execution_count": 80,
   "metadata": {},
   "outputs": [
    {
     "name": "stdout",
     "output_type": "stream",
     "text": [
      "Jacobi solver\n",
      "1 \t 0.000000 \t 0.000000 \t 0.000000  \n",
      "2 \t 0.611111 \t 0.407407 \t 0.169753  \n",
      "3 \t 0.350823 \t 0.409294 \t 0.299268  \n",
      "4 \t 0.306708 \t 0.359241 \t 0.338010  \n",
      "5 \t 0.318821 \t 0.335833 \t 0.339757  \n",
      "6 \t 0.329943 \t 0.331252 \t 0.335722  \n",
      "7 \t 0.333578 \t 0.332057 \t 0.333637  \n",
      "8 \t 0.333870 \t 0.333003 \t 0.333175  \n",
      "9 \t 0.333551 \t 0.333340 \t 0.333222  \n",
      "\n",
      "Gauss-Seidel solver\n",
      "1 \t 0.000000 \t 0.000000 \t 0.000000  \n",
      "0 \t 0.611111 \t 0.407407 \t 0.169753  \n",
      "1 \t 0.350823 \t 0.409294 \t 0.299268  \n",
      "2 \t 0.306708 \t 0.359241 \t 0.338010  \n",
      "3 \t 0.318821 \t 0.335833 \t 0.339757  \n",
      "4 \t 0.329943 \t 0.331252 \t 0.335722  \n",
      "5 \t 0.333578 \t 0.332057 \t 0.333637  \n",
      "6 \t 0.333870 \t 0.333003 \t 0.333175  \n",
      "7 \t 0.333551 \t 0.333340 \t 0.333222  \n",
      "8 \t 0.333367 \t 0.333378 \t 0.333302  \n",
      "9 \t 0.333322 \t 0.333353 \t 0.333333  \n"
     ]
    }
   ],
   "source": [
    "def solve_jacobi(A, b, r, x):\n",
    "    n = len(A)\n",
    "    acum = 0\n",
    "    temp = [0.0 for _ in range(len(A))]\n",
    "\n",
    "    print(f\"{1} \\t {x[0]:.6f} \\t {x[1]:.6f} \\t {x[2]:.6f}  \")\n",
    "    for k in range(2, r):\n",
    "        x = temp\n",
    "        for i in range(0, n):\n",
    "            acum = 0\n",
    "            for j in range(0, n):\n",
    "                if j != i:\n",
    "                    acum += A[i][j] * x[j]\n",
    "                    # print(\"acum: \", acum)\n",
    "                temp[i] = (b[i] - acum) / A[i][i]\n",
    "\n",
    "        print(f\"{k} \\t {x[0]:.6f} \\t {x[1]:.6f} \\t {x[2]:.6f}  \")\n",
    "\n",
    "def solve_gauss_seidel(A, b, r, x):\n",
    "    n = len(A)\n",
    "    acum = 0\n",
    "    temp = [0.0 for _ in range(len(A))]\n",
    "\n",
    "    print(f\"{1} \\t {x[0]:.6f} \\t {x[1]:.6f} \\t {x[2]:.6f}  \")\n",
    "\n",
    "    for k in range(0, r):\n",
    "        for i in range(0, n):\n",
    "            acum = 0\n",
    "            for j in range(0, n):\n",
    "                if j != i:\n",
    "                    acum += A[i][j] * x[j]\n",
    "                    x[i] = (b[i] - acum) / A[i][i]\n",
    "\n",
    "        print(f\"{k} \\t {x[0]:.6f} \\t {x[1]:.6f} \\t {x[2]:.6f}  \")\n",
    "\n",
    "matriz_A = [[1, 1 / 2, 1 / 3],\n",
    "            [1 / 3, 1, 1 / 2],\n",
    "            [1 / 2, 1 / 3, 1]]\n",
    "\n",
    "vector_B = [11 / 18, 11 / 18, 11 / 18]\n",
    "\n",
    "x = [0.0 for _ in range(len(A))]\n",
    "\n",
    "print(\"Jacobi solver\")\n",
    "solve_jacobi(matriz_A, vector_B, 10, x)\n",
    "print(\"\")\n",
    "print(\"Gauss-Seidel solver\")\n",
    "solve_gauss_seidel(matriz_A, vector_B, 10, x)"
   ]
  },
  {
   "cell_type": "markdown",
   "metadata": {},
   "source": [
    "$\\qquad$ Utilizando el mismo sistema que para el algoritmo de Richardson, vemos que ambos metodos convergen a la solución correcta."
   ]
  },
  {
   "cell_type": "markdown",
   "metadata": {},
   "source": [
    "#### Ejercicio 17\n",
    "Para el siguiente sistema mostrar que tanto Gauss Seidel como Jacobi convergen para cualquier valor inicial. \n",
    "Usar el ítem anterior para estimar la solución.\n",
    "\n",
    "$$\\begin{bmatrix} 2 & -1 & 0 \\\\ 1 & 6 & -2 \\\\ 4 & -3 & 8 \\end{bmatrix} \\begin{bmatrix} x_1 \\\\ x_2 \\\\ x_3 \\end{bmatrix} = \\begin{bmatrix} 2 \\\\ -4 \\\\ 5 \\end{bmatrix} $$\n",
    "\n",
    "$$ \\begin{bmatrix} x_1 \\\\ x_2 \\\\ x_3 \\end{bmatrix} = \\begin{bmatrix} \\frac{31}{50} \\\\ -\\frac{19}{25} \\\\ -\\frac{3}{100} \\end{bmatrix} = \\begin{bmatrix} 0.62 \\\\ -0.76 \\\\ -0.03 \\end{bmatrix} $$"
   ]
  },
  {
   "cell_type": "code",
   "execution_count": 81,
   "metadata": {},
   "outputs": [
    {
     "name": "stdout",
     "output_type": "stream",
     "text": [
      "Jacobi solver => x:  [-0.11951146  0.82486172  0.11046228]\n",
      "1 \t -0.119511 \t 0.824862 \t 0.110462  \n",
      "2 \t 1.000000 \t -0.833333 \t -0.187500  \n",
      "3 \t 0.583333 \t -0.826389 \t 0.023438  \n",
      "4 \t 0.586806 \t -0.756655 \t 0.047852  \n",
      "5 \t 0.621672 \t -0.754328 \t 0.031291  \n",
      "6 \t 0.622836 \t -0.760042 \t 0.028566  \n",
      "7 \t 0.619979 \t -0.760474 \t 0.029833  \n",
      "8 \t 0.619763 \t -0.760016 \t 0.030113  \n",
      "9 \t 0.619992 \t -0.759961 \t 0.030019  \n",
      "\n",
      "Gauss-Seidel solver => x:  [-0.11951146  0.82486172  0.11046228]\n",
      "1 \t 0.233920 \t -0.820433 \t 0.649955  \n",
      "0 \t 0.589784 \t -0.548312 \t 0.124491  \n",
      "1 \t 0.725844 \t -0.746144 \t -0.017726  \n",
      "2 \t 0.626928 \t -0.777063 \t 0.020137  \n",
      "3 \t 0.611468 \t -0.761866 \t 0.033566  \n",
      "4 \t 0.619067 \t -0.758656 \t 0.030970  \n",
      "5 \t 0.620672 \t -0.759789 \t 0.029743  \n",
      "6 \t 0.620106 \t -0.760103 \t 0.029908  \n",
      "7 \t 0.619948 \t -0.760022 \t 0.030018  \n",
      "8 \t 0.619989 \t -0.759992 \t 0.030008  \n",
      "9 \t 0.620004 \t -0.759998 \t 0.029999  \n"
     ]
    }
   ],
   "source": [
    "A = [[2,-1,0],[1,6,-2],[4,-3,8]]\n",
    "b = [2,-4,5]\n",
    "\n",
    "x = np.random.uniform(-1, 1, len(A))\n",
    "print(\"Jacobi solver => x: \", x)\n",
    "solve_jacobi(A, b, 10, x)\n",
    "print(\"\")\n",
    "print(\"Gauss-Seidel solver => x: \", x)\n",
    "x = np.random.uniform(-1, 1, len(A))\n",
    "solve_gauss_seidel(A, b, 10, x)\n"
   ]
  },
  {
   "cell_type": "markdown",
   "metadata": {},
   "source": [
    "$\\qquad$ Como se puede observar, tomando vectores $x$ diferentes, se converge al valor esperado."
   ]
  }
 ],
 "metadata": {
  "interpreter": {
   "hash": "1bde03241c945d910f6012aa406c9b0c219aaaa71a8434fd63f2b461251fddf0"
  },
  "kernelspec": {
   "display_name": "Python 3.10.2 64-bit",
   "language": "python",
   "name": "python3"
  },
  "language_info": {
   "codemirror_mode": {
    "name": "ipython",
    "version": 3
   },
   "file_extension": ".py",
   "mimetype": "text/x-python",
   "name": "python",
   "nbconvert_exporter": "python",
   "pygments_lexer": "ipython3",
   "version": "3.10.2"
  },
  "orig_nbformat": 4
 },
 "nbformat": 4,
 "nbformat_minor": 2
}
