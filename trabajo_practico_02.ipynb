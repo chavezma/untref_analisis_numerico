{
 "cells": [
  {
   "cell_type": "markdown",
   "metadata": {},
   "source": [
    "Materia: Análisis Numérico\n",
    "\n",
    "Alumno: Chavez Matias David"
   ]
  },
  {
   "cell_type": "code",
   "execution_count": 2,
   "metadata": {},
   "outputs": [],
   "source": [
    "from IPython.display import display, Markdown, Latex\n",
    "import math\n",
    "import platform"
   ]
  },
  {
   "cell_type": "markdown",
   "metadata": {},
   "source": [
    "#### Ejercicio 7.\n",
    "\n",
    "Escribir un código para estimar la norma infnito de una matriz, usar la fórmula cerrada. \n",
    "¿Cómo sería un código si no tenemos una fórmula cerrada? Comparar."
   ]
  },
  {
   "cell_type": "markdown",
   "metadata": {},
   "source": [
    "#### Ejercicio 11\n",
    "Escribir un código para resolver el sistema matricial $$Ax = b$$ donde A es una matriz que es una\n",
    "permutación de una matriz triangular superior."
   ]
  },
  {
   "cell_type": "markdown",
   "metadata": {},
   "source": [
    "#### Ejercicio 14\n",
    "Usar el proceso de eleminación de Gauss Escalado para encontrar la descomposición PA=LU (comparar con Python) y resolver en cada uno de los casos.\n",
    "\n",
    "$$\\begin{bmatrix} -1 & 1 & -4 \\\\ 2 & 2 & 0 \\\\ 4 & 4 & 2 \\end{bmatrix} \\begin{bmatrix} x_1 \\\\ x_2 \\\\ x_3 \\end{bmatrix} = \\begin{bmatrix} 0 \\\\ 1 \\\\ \\frac{1}{2} \\end{bmatrix} $$\n",
    "\n",
    "$$\\begin{bmatrix} 1 & 6 & 0 \\\\ 2 & 1 & 0 \\\\ 0 & 2 & 1 \\end{bmatrix} \\begin{bmatrix} x_1 \\\\ x_2 \\\\ x_3 \\end{bmatrix} = \\begin{bmatrix} 3 \\\\ 1 \\\\ 1 \\end{bmatrix} $$"
   ]
  },
  {
   "cell_type": "markdown",
   "metadata": {},
   "source": [
    "#### Ejercicio 15\n",
    "Calcular los primeros 100 términos del método de Richardson para el sistema\n",
    "\n",
    "$$\\begin{bmatrix} 1 & \\frac{1}{2} & \\frac{1}{3} \\\\ \\frac{1}{3} & 1 & \\frac{1}{2} \\\\ \\frac{1}{2} & \\frac{1}{3} & 1 \\end{bmatrix} \\begin{bmatrix} x_1 \\\\ x_2 \\\\ x_3 \\end{bmatrix} = \\begin{bmatrix} \\frac{11}{18} \\\\ \\frac{11}{18} \\\\ \\frac{11}{18} \\end{bmatrix} $$"
   ]
  },
  {
   "cell_type": "markdown",
   "metadata": {},
   "source": [
    "#### Ejercicio 16\n",
    "Escribir un algoritmo para calcular los primeros M pasos del método de Jacobi, y Gauss-Seidel"
   ]
  },
  {
   "cell_type": "markdown",
   "metadata": {},
   "source": [
    "#### Ejercicio 17\n",
    "Para el siguiente sistema mostrar que tanto Gauss Seidel como Jacobi convergen para cualquier valor inicial. \n",
    "Usar el ítem anterior para estimar la solución.\n",
    "\n",
    "$$\\begin{bmatrix} 2 & -1 & 0 \\\\ 1 & 6 & -2 \\\\ 4 & -3 & 8 \\end{bmatrix} \\begin{bmatrix} x_1 \\\\ x_2 \\\\ x_3 \\end{bmatrix} = \\begin{bmatrix} 2 \\\\ -4 \\\\ 5 \\end{bmatrix} $$"
   ]
  }
 ],
 "metadata": {
  "interpreter": {
   "hash": "1bde03241c945d910f6012aa406c9b0c219aaaa71a8434fd63f2b461251fddf0"
  },
  "kernelspec": {
   "display_name": "Python 3.10.2 64-bit",
   "language": "python",
   "name": "python3"
  },
  "language_info": {
   "codemirror_mode": {
    "name": "ipython",
    "version": 3
   },
   "file_extension": ".py",
   "mimetype": "text/x-python",
   "name": "python",
   "nbconvert_exporter": "python",
   "pygments_lexer": "ipython3",
   "version": "3.10.2"
  },
  "orig_nbformat": 4
 },
 "nbformat": 4,
 "nbformat_minor": 2
}
