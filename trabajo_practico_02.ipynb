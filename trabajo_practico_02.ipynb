{
 "cells": [
  {
   "source": [
    "Materia: Análisis Numérico\n",
    "\n",
    "Alumno: Chavez Matias David"
   ],
   "cell_type": "markdown",
   "metadata": {}
  },
  {
   "cell_type": "code",
   "execution_count": 43,
   "source": [
    "from IPython.display import display, Markdown, Latex\n",
    "import random\n",
    "import numpy as np\n",
    "from numpy import identity, matmul\n",
    "from operator import itemgetter"
   ],
   "outputs": [],
   "metadata": {}
  },
  {
   "cell_type": "markdown",
   "source": [
    "#### Ejercicio 7.\n",
    "\n",
    "Escribir un código para estimar la norma infnito de una matriz, usar la fórmula cerrada. \n",
    "\n",
    "$\\qquad$ $$\\vert\\vert A \\vert\\vert_\\infty = \\max_{1 \\leq i \\leq n} \\sum_{j=1}^{n} \\vert a_{ij} \\vert$$"
   ],
   "metadata": {}
  },
  {
   "cell_type": "code",
   "execution_count": 44,
   "source": [
    "def normaInfinitoCerrada(matriz):\n",
    "    res = []\n",
    "    cant_filas = len(matriz)\n",
    "    for i in range(cant_filas):\n",
    "        res.append(sum(map(abs, matriz[i])))\n",
    "\n",
    "    return max(res)"
   ],
   "outputs": [],
   "metadata": {}
  },
  {
   "cell_type": "markdown",
   "source": [
    "¿Cómo sería un código si no tenemos una fórmula cerrada? Comparar.\n",
    "\n",
    "$\\qquad$ Si no se puede utilizar la fórmula cerrada, entonces se puede aproximar un valor utilizando la siguiente igualdad:\n",
    "\n",
    "$\\qquad$ $$\\vert\\vert A \\vert\\vert_\\infty = \\max_{\\vert\\vert x \\vert\\vert_\\infty = 1} \\vert\\vert A x \\vert\\vert_\\infty $$ siendo $x$ un vector n-dimensional con norma infinito igual a 1.\n",
    "\n",
    "$\\qquad$ Vamos probando con diferentes cantidades de vectores que cumplan esa condición, guardándonos el máximo valor tras cada iteración. De manera de validar la convergencia.\n"
   ],
   "metadata": {}
  },
  {
   "cell_type": "code",
   "execution_count": 45,
   "source": [
    "def generacionVectoresAleatorios(tamanio_matriz):\n",
    "    vector_x = np.random.uniform(-1, 1, tamanio_matriz)\n",
    "    # Cargamos un 1 para que la norma infinito resulte 1, ya que todos seran menores o iguales a 1 (en modulo)\n",
    "    vector_x[random.randint(0, tamanio_matriz - 1)] = 1 if random.randint(0, 1000) % 2 == 0 else -1\n",
    "    return vector_x\n",
    "\n",
    "def normaInfinitoAproximada(matriz, pasadas):\n",
    "    max_norma = 0\n",
    "    for r in range(pasadas + 1):\n",
    "        cant_filas = len(matriz)\n",
    "        vec_x = generacionVectoresAleatorios(cant_filas)\n",
    "        # Multiplicacion A . x\n",
    "        vec_b = np.dot(matriz, vec_x)\n",
    "        norma_infinito = max(vec_b)\n",
    "        max_norma = max(max_norma, norma_infinito)\n",
    "    \n",
    "    return max_norma"
   ],
   "outputs": [],
   "metadata": {}
  },
  {
   "cell_type": "markdown",
   "source": [
    "$\\qquad$ Calculamos por ejemplo\n",
    "$$\\begin{bmatrix} 3 & 5 & 7 \\\\ 2 & 6 & 4 \\\\ 0 & 2 & 8 \\end{bmatrix} $$"
   ],
   "metadata": {}
  },
  {
   "cell_type": "code",
   "execution_count": 46,
   "source": [
    "matriz = [[3, 5, 7], [2, 6, 4], [0, 2, 8]]\n",
    "res_cerrada = normaInfinitoCerrada(matriz)\n",
    "\n",
    "intentos = [10,50,100,500,1000,10000, 100000]\n",
    "res_intentos = []\n",
    "for i in range(len(intentos)):\n",
    "    res_intentos.append(normaInfinitoAproximada(matriz, intentos[i]))\n",
    "\n",
    "display(Markdown('''\n",
    "| n  | Sumas realizadas |\n",
    "|----|----              |\n",
    "| %s | %d               |\n",
    "| %s | %.10f               |\n",
    "| %s | %.10f               |\n",
    "| %s | %.10f               |\n",
    "| %s | %.10f               |\n",
    "| %s | %.10f               |\n",
    "| %s | %.10f               |\n",
    "| %s | %.10f               |\n",
    "''' % (\"Cerrada\",res_cerrada\n",
    "      ,\"10\"     ,res_intentos[0]\n",
    "      ,\"50\"     ,res_intentos[1]\n",
    "      ,\"100\"    ,res_intentos[2]\n",
    "      ,\"500\"    ,res_intentos[3]\n",
    "      ,\"1000\"   ,res_intentos[4]\n",
    "      ,\"10000\"  ,res_intentos[5]\n",
    "      ,\"100000\" ,res_intentos[6]\n",
    ")\n",
    "))"
   ],
   "outputs": [
    {
     "output_type": "display_data",
     "data": {
      "text/plain": "<IPython.core.display.Markdown object>",
      "text/markdown": "\n| n  | Sumas realizadas |\n|----|----              |\n| Cerrada | 15               |\n| 10 | 13.2753559057               |\n| 50 | 13.1811027891               |\n| 100 | 14.1099581958               |\n| 500 | 14.7422767486               |\n| 1000 | 14.3941124453               |\n| 10000 | 14.8392450718               |\n| 100000 | 14.9869781222               |\n"
     },
     "metadata": {}
    }
   ],
   "metadata": {}
  },
  {
   "cell_type": "markdown",
   "source": [
    "$\\qquad$ Como se puede apreciar, a medida que aumentamos la cantidad de vectores, el resultado converge hacia el valor de la fórmula cerrada."
   ],
   "metadata": {}
  },
  {
   "cell_type": "markdown",
   "source": [
    "#### Ejercicio 11\n",
    "Escribir un código para resolver el sistema matricial $Ax = b$ donde A es una matriz que es una permutación de una matriz triangular superior.\n",
    "\n",
    "$\\qquad$ Siguiendo el esquema de la matriz indicada, podemos establecer que para calcular cada valor de $x$ vale que:\n",
    "\n",
    "$\\qquad$ $$\\forall i \\in \\{n, n-1,\\ldots,1\\} \\quad x_i = \\frac{b_i - \\sum_{j=i}^{n} a_{ij}x_j}{a_{ij}}$$\n",
    "\n",
    "$\\qquad$ Es decir, comenzamos a despejar desde abajo hacia arriba. Por cada fila que recorremos, empezamos desde la diagonal, ya que hacia la izquierda hay todos ceros.\n",
    "\n",
    "$\\qquad$ Dado $p = [ p_1, p_2, \\ldots, p_n ] $ vector de permutacion de filas A, podemos calcular respetando el orden de la siguiente manera:\n",
    "\n",
    "$\\qquad$ $$\\forall i \\in \\{n, n-1,\\ldots,1\\} \\quad x_i = \\frac{b_{p[i]} - \\sum_{j=i}^{n} a_{p[i], j}x_j}{a_{p[i], i}}$$\n",
    "\n",
    "$\\qquad$ Hay que tener en cuenta que la pertumación afecta tambien al vector $b$"
   ],
   "metadata": {}
  },
  {
   "cell_type": "code",
   "execution_count": 47,
   "source": [
    "def resolverMatrizTriangularSuperior(matriz, b, p):\n",
    "    n = len(matriz)\n",
    "    res = [None for i in range(n)]\n",
    "\n",
    "    # primer elemento:\n",
    "    res[n - 1] = b[p[n - 1]] / matriz[p[n - 1]][n - 1]\n",
    "\n",
    "    # Recorremos la matriz desde abajo hacia arriba, y de izquierda a derecha, comenzando desde la diagonal + 1.\n",
    "    for i in range(n - 2, -1, -1):\n",
    "        acum = 0\n",
    "        for j in range(i + 1, n):\n",
    "            acum = acum + matriz[p[i]][j] * res[j]\n",
    "\n",
    "        res[i] = (b[p[i]] - acum) / matriz[p[i]][i]\n",
    "        # Validación para que el resultado no me dé -0\n",
    "        if res[i] == -0:\n",
    "            res[i] = 0.0\n",
    "\n",
    "    return res\n",
    "    "
   ],
   "outputs": [],
   "metadata": {}
  },
  {
   "cell_type": "markdown",
   "source": [
    "#### Ejercicio 14\n",
    "Usar el proceso de eleminación de Gauss Escalado para encontrar la descomposición PA=LU (comparar con Python) y resolver en cada uno de los casos.\n",
    "\n",
    "$$\\begin{bmatrix} -1 & 1 & -4 \\\\ 2 & 2 & 0 \\\\ 4 & 4 & 2 \\end{bmatrix} \\begin{bmatrix} x_1 \\\\ x_2 \\\\ x_3 \\end{bmatrix} = \\begin{bmatrix} 0 \\\\ 1 \\\\ \\frac{1}{2} \\end{bmatrix} $$\n",
    "\n",
    "$$\\begin{bmatrix} 1 & 6 & 0 \\\\ 2 & 1 & 0 \\\\ 0 & 2 & 1 \\end{bmatrix} \\begin{bmatrix} x_1 \\\\ x_2 \\\\ x_3 \\end{bmatrix} = \\begin{bmatrix} 3 \\\\ 1 \\\\ 1 \\end{bmatrix} $$"
   ],
   "metadata": {}
  },
  {
   "cell_type": "code",
   "execution_count": 48,
   "source": [
    "def solve_pivot(matriz, n, j, s, p):\n",
    "    radios = [(i, p[i], abs(matriz[i][j]) / s[i]) for i in p[j:]]\n",
    "    pivot = max(radios, key=itemgetter(2))[1]\n",
    "    p[j], p[pivot] = p[pivot], p[j]\n",
    "    return pivot\n",
    "\n",
    "\n",
    "def solve_gauss(matriz, b):\n",
    "    n = len(matriz)\n",
    "    s = [max(map(abs, row)) for row in matriz]\n",
    "    p = [i for i in range(n)]\n",
    "\n",
    "    # recorro por columna, calculo pivot, aplico eliminacion\n",
    "    for j in range(n - 1):\n",
    "        #  para la columna j, obtengo que fila es pivot\n",
    "        pivot = solve_pivot(matriz, n, j, s, p)\n",
    "\n",
    "        # una vez tengo el pivot, tengo que aplicar la eliminacion para las filas diferentes al pivot\n",
    "        for i in range(j + 1, n):\n",
    "            factor = matriz[p[i]][j] / matriz[pivot][j]\n",
    "            b[p[i]] = b[p[i]] - factor * b[pivot]\n",
    "            for k in range(n):\n",
    "                matriz[p[i]][k] = matriz[p[i]][k] - factor * matriz[pivot][k]\n",
    "            matriz[p[i]][j] = factor\n",
    "    # Armamos L, U y P segun A\n",
    "    mp = [[0 for _ in range(n)] for _ in range(n)]\n",
    "    ml = [[0 for _ in range(n)] for _ in range(n)]\n",
    "    mu = [[0 for _ in range(n)] for _ in range(n)]\n",
    "\n",
    "    for i in range(n):\n",
    "        ml[i][i] = 1\n",
    "        mp[i][p[i]] = 1\n",
    "        for j in range(0, i):\n",
    "            ml[i][j] = matriz[p[i]][j]\n",
    "        for j in range(i, n):\n",
    "            mu[i][j] = matriz[p[i]][j]\n",
    "\n",
    "    return matriz, mp, ml, mu, b, p\n"
   ],
   "outputs": [],
   "metadata": {}
  },
  {
   "cell_type": "markdown",
   "source": [
    "$\\qquad$ Primer Sistema\n",
    "\n",
    "$$\\begin{bmatrix} -1 & 1 & -4 \\\\ 2 & 2 & 0 \\\\ 4 & 4 & 2 \\end{bmatrix} \\begin{bmatrix} x_1 \\\\ x_2 \\\\ x_3 \\end{bmatrix} = \\begin{bmatrix} 0 \\\\ 1 \\\\ \\frac{1}{2} \\end{bmatrix} $$\n",
    "$$ \\begin{bmatrix} x_1 \\\\ x_2 \\\\ x_3 \\end{bmatrix} = \\begin{bmatrix} \\frac{5}{4} \\\\ -\\frac{3}{4} \\\\ -\\frac{1}{4} \\end{bmatrix} $$"
   ],
   "metadata": {}
  },
  {
   "cell_type": "code",
   "execution_count": 49,
   "source": [
    "matriz_1 = [[-1, 1, -4], [2, 2, 0], [3, 3, 2]]\n",
    "b = [0, 1, 0.5]\n",
    "p = []\n",
    "a, mp, ml, mu, b, p = solve_gauss(matriz_1, b)\n",
    "\n",
    "print(\"A => \\n\", np.matrix(a))\n",
    "print(\"B => \\n\", np.matrix(b))\n",
    "print(\"P => \\n\", np.matrix(mp))\n",
    "print(\"L => \\n\", np.matrix(ml))\n",
    "print(\"U => \\n\", np.matrix(mu))\n",
    "print(\"\")\n",
    "print(\"x => \", resolverMatrizTriangularSuperior(a, b, p))"
   ],
   "outputs": [
    {
     "output_type": "stream",
     "name": "stdout",
     "text": [
      "A => \n [[-0.5  2.  -4. ]\n [ 2.   2.   0. ]\n [ 1.5  0.   2. ]]\nB => \n [[ 0.5  1.  -1. ]]\nP => \n [[0 1 0]\n [1 0 0]\n [0 0 1]]\nL => \n [[ 1.   0.   0. ]\n [-0.5  1.   0. ]\n [ 1.5  0.   1. ]]\nU => \n [[ 2.  2.  0.]\n [ 0.  2. -4.]\n [ 0.  0.  2.]]\n\nx =>  [1.25, -0.75, -0.5]\n"
     ]
    }
   ],
   "metadata": {}
  },
  {
   "cell_type": "markdown",
   "source": [
    "$\\qquad$ Segundo Sistema\n",
    "\n",
    "$$\\begin{bmatrix} 1 & 6 & 0 \\\\ 2 & 1 & 0 \\\\ 0 & 2 & 1 \\end{bmatrix} \\begin{bmatrix} x_1 \\\\ x_2 \\\\ x_3 \\end{bmatrix} = \\begin{bmatrix} 3 \\\\ 1 \\\\ 1 \\end{bmatrix} $$\n",
    "\n",
    "$$ \\begin{bmatrix} x_1 \\\\ x_2 \\\\ x_3 \\end{bmatrix} = \\begin{bmatrix} \\frac{3}{11} \\\\ \\frac{5}{11} \\\\ \\frac{1}{11} \\end{bmatrix} $$"
   ],
   "metadata": {}
  },
  {
   "cell_type": "code",
   "execution_count": 50,
   "source": [
    "matriz_2 = [[1, 6, 0], [2, 1, 0], [0, 2, 1]]\n",
    "b = [3, 1, 1]\n",
    "p = []\n",
    "a, mp, ml, mu, b, p = solve_gauss(matriz_2, b)\n",
    "\n",
    "print(\"A => \\n\", np.matrix(a))\n",
    "print(\"B => \\n\", np.matrix(b))\n",
    "print(\"p => \\n\", np.matrix(p))\n",
    "print(\"P => \\n\", np.matrix(mp))\n",
    "print(\"L => \\n\", np.matrix(ml))\n",
    "print(\"U => \\n\", np.matrix(mu))\n",
    "\n",
    "print(\"x => \", resolverMatrizTriangularSuperior(a, b, p))"
   ],
   "outputs": [
    {
     "output_type": "stream",
     "name": "stdout",
     "text": [
      "A => \n [[ 0.5   2.75 -2.75]\n [ 2.    1.    0.  ]\n [ 0.    2.    1.  ]]\nB => \n [[-0.25  1.    1.  ]]\np => \n [[1 2 0]]\nP => \n [[0 1 0]\n [0 0 1]\n [1 0 0]]\nL => \n [[1.   0.   0.  ]\n [0.   1.   0.  ]\n [0.5  2.75 1.  ]]\nU => \n [[ 2.    1.    0.  ]\n [ 0.    2.    1.  ]\n [ 0.    0.   -2.75]]\nx =>  [0.2727272727272727, 0.45454545454545453, 0.09090909090909091]\n"
     ]
    }
   ],
   "metadata": {}
  },
  {
   "cell_type": "markdown",
   "source": [
    "#### Ejercicio 15\n",
    "Calcular los primeros 100 términos del método de Richardson para el sistema\n",
    "\n",
    "$$\\begin{bmatrix} 1 & \\frac{1}{2} & \\frac{1}{3} \\\\ \\frac{1}{3} & 1 & \\frac{1}{2} \\\\ \\frac{1}{2} & \\frac{1}{3} & 1 \\end{bmatrix} \\begin{bmatrix} x_1 \\\\ x_2 \\\\ x_3 \\end{bmatrix} = \\begin{bmatrix} \\frac{11}{18} \\\\ \\frac{11}{18} \\\\ \\frac{11}{18} \\end{bmatrix} $$\n",
    "\n",
    "$\\qquad$ Resolviendo el sistema se llega a que el resultado esperado sea $x = [ \\frac{1}{3},\\frac{1}{3}, \\frac{1}{3} ]$"
   ],
   "metadata": {}
  },
  {
   "cell_type": "code",
   "execution_count": 51,
   "source": [
    "def solve_richardson(A, b, cant_terminos):\n",
    "\n",
    "    mR = identity(len(A)) - A\n",
    "    x = b\n",
    "\n",
    "    for i in range(cant_terminos):\n",
    "        x = matmul(mR, x) + b\n",
    "        print('Iteración n°', i, '=>  x = ', x)\n",
    "\n",
    "A = [[1, 1 / 2, 1 / 3],\n",
    "            [1 / 3, 1, 1 / 2],\n",
    "            [1 / 2, 1 / 3, 1]]\n",
    "\n",
    "b = [11 / 18, 11 / 18, 11 / 18]\n",
    "\n",
    "solve_richardson(A, b, 100)"
   ],
   "outputs": [
    {
     "output_type": "stream",
     "name": "stdout",
     "text": [
      "Iteración n° 0 =>  x =  [0.10185185 0.10185185 0.10185185]\nIteración n° 1 =>  x =  [0.52623457 0.52623457 0.52623457]\nIteración n° 2 =>  x =  [0.1725823 0.1725823 0.1725823]\nIteración n° 3 =>  x =  [0.46729252 0.46729252 0.46729252]\nIteración n° 4 =>  x =  [0.22170067 0.22170067 0.22170067]\nIteración n° 5 =>  x =  [0.42636055 0.42636055 0.42636055]\nIteración n° 6 =>  x =  [0.25581065 0.25581065 0.25581065]\nIteración n° 7 =>  x =  [0.39793557 0.39793557 0.39793557]\nIteración n° 8 =>  x =  [0.27949814 0.27949814 0.27949814]\nIteración n° 9 =>  x =  [0.378196 0.378196 0.378196]\nIteración n° 10 =>  x =  [0.29594778 0.29594778 0.29594778]\nIteración n° 11 =>  x =  [0.36448796 0.36448796 0.36448796]\nIteración n° 12 =>  x =  [0.30737114 0.30737114 0.30737114]\nIteración n° 13 =>  x =  [0.35496849 0.35496849 0.35496849]\nIteración n° 14 =>  x =  [0.31530404 0.31530404 0.31530404]\nIteración n° 15 =>  x =  [0.34835775 0.34835775 0.34835775]\nIteración n° 16 =>  x =  [0.32081299 0.32081299 0.32081299]\nIteración n° 17 =>  x =  [0.34376695 0.34376695 0.34376695]\nIteración n° 18 =>  x =  [0.32463865 0.32463865 0.32463865]\nIteración n° 19 =>  x =  [0.3405789 0.3405789 0.3405789]\nIteración n° 20 =>  x =  [0.32729536 0.32729536 0.32729536]\nIteración n° 21 =>  x =  [0.33836498 0.33836498 0.33836498]\nIteración n° 22 =>  x =  [0.32914029 0.32914029 0.32914029]\nIteración n° 23 =>  x =  [0.33682753 0.33682753 0.33682753]\nIteración n° 24 =>  x =  [0.3304215 0.3304215 0.3304215]\nIteración n° 25 =>  x =  [0.33575986 0.33575986 0.33575986]\nIteración n° 26 =>  x =  [0.33131123 0.33131123 0.33131123]\nIteración n° 27 =>  x =  [0.33501842 0.33501842 0.33501842]\nIteración n° 28 =>  x =  [0.33192909 0.33192909 0.33192909]\nIteración n° 29 =>  x =  [0.33450353 0.33450353 0.33450353]\nIteración n° 30 =>  x =  [0.33235817 0.33235817 0.33235817]\nIteración n° 31 =>  x =  [0.33414597 0.33414597 0.33414597]\nIteración n° 32 =>  x =  [0.33265613 0.33265613 0.33265613]\nIteración n° 33 =>  x =  [0.33389767 0.33389767 0.33389767]\nIteración n° 34 =>  x =  [0.33286306 0.33286306 0.33286306]\nIteración n° 35 =>  x =  [0.33372523 0.33372523 0.33372523]\nIteración n° 36 =>  x =  [0.33300675 0.33300675 0.33300675]\nIteración n° 37 =>  x =  [0.33360548 0.33360548 0.33360548]\nIteración n° 38 =>  x =  [0.33310654 0.33310654 0.33310654]\nIteración n° 39 =>  x =  [0.33352233 0.33352233 0.33352233]\nIteración n° 40 =>  x =  [0.33317584 0.33317584 0.33317584]\nIteración n° 41 =>  x =  [0.33346458 0.33346458 0.33346458]\nIteración n° 42 =>  x =  [0.33322396 0.33322396 0.33322396]\nIteración n° 43 =>  x =  [0.33342448 0.33342448 0.33342448]\nIteración n° 44 =>  x =  [0.33325738 0.33325738 0.33325738]\nIteración n° 45 =>  x =  [0.33339663 0.33339663 0.33339663]\nIteración n° 46 =>  x =  [0.33328059 0.33328059 0.33328059]\nIteración n° 47 =>  x =  [0.33337729 0.33337729 0.33337729]\nIteración n° 48 =>  x =  [0.33329671 0.33329671 0.33329671]\nIteración n° 49 =>  x =  [0.33336386 0.33336386 0.33336386]\nIteración n° 50 =>  x =  [0.3333079 0.3333079 0.3333079]\nIteración n° 51 =>  x =  [0.33335453 0.33335453 0.33335453]\nIteración n° 52 =>  x =  [0.33331567 0.33331567 0.33331567]\nIteración n° 53 =>  x =  [0.33334805 0.33334805 0.33334805]\nIteración n° 54 =>  x =  [0.33332107 0.33332107 0.33332107]\nIteración n° 55 =>  x =  [0.33334356 0.33334356 0.33334356]\nIteración n° 56 =>  x =  [0.33332481 0.33332481 0.33332481]\nIteración n° 57 =>  x =  [0.33334043 0.33334043 0.33334043]\nIteración n° 58 =>  x =  [0.33332742 0.33332742 0.33332742]\nIteración n° 59 =>  x =  [0.33333826 0.33333826 0.33333826]\nIteración n° 60 =>  x =  [0.33332923 0.33332923 0.33332923]\nIteración n° 61 =>  x =  [0.33333676 0.33333676 0.33333676]\nIteración n° 62 =>  x =  [0.33333048 0.33333048 0.33333048]\nIteración n° 63 =>  x =  [0.33333571 0.33333571 0.33333571]\nIteración n° 64 =>  x =  [0.33333135 0.33333135 0.33333135]\nIteración n° 65 =>  x =  [0.33333498 0.33333498 0.33333498]\nIteración n° 66 =>  x =  [0.33333196 0.33333196 0.33333196]\nIteración n° 67 =>  x =  [0.33333448 0.33333448 0.33333448]\nIteración n° 68 =>  x =  [0.33333238 0.33333238 0.33333238]\nIteración n° 69 =>  x =  [0.33333413 0.33333413 0.33333413]\nIteración n° 70 =>  x =  [0.33333267 0.33333267 0.33333267]\nIteración n° 71 =>  x =  [0.33333389 0.33333389 0.33333389]\nIteración n° 72 =>  x =  [0.33333287 0.33333287 0.33333287]\nIteración n° 73 =>  x =  [0.33333372 0.33333372 0.33333372]\nIteración n° 74 =>  x =  [0.33333301 0.33333301 0.33333301]\nIteración n° 75 =>  x =  [0.3333336 0.3333336 0.3333336]\nIteración n° 76 =>  x =  [0.33333311 0.33333311 0.33333311]\nIteración n° 77 =>  x =  [0.33333352 0.33333352 0.33333352]\nIteración n° 78 =>  x =  [0.33333318 0.33333318 0.33333318]\nIteración n° 79 =>  x =  [0.33333346 0.33333346 0.33333346]\nIteración n° 80 =>  x =  [0.33333323 0.33333323 0.33333323]\nIteración n° 81 =>  x =  [0.33333342 0.33333342 0.33333342]\nIteración n° 82 =>  x =  [0.33333326 0.33333326 0.33333326]\nIteración n° 83 =>  x =  [0.3333334 0.3333334 0.3333334]\nIteración n° 84 =>  x =  [0.33333328 0.33333328 0.33333328]\nIteración n° 85 =>  x =  [0.33333338 0.33333338 0.33333338]\nIteración n° 86 =>  x =  [0.3333333 0.3333333 0.3333333]\nIteración n° 87 =>  x =  [0.33333336 0.33333336 0.33333336]\nIteración n° 88 =>  x =  [0.33333331 0.33333331 0.33333331]\nIteración n° 89 =>  x =  [0.33333335 0.33333335 0.33333335]\nIteración n° 90 =>  x =  [0.33333332 0.33333332 0.33333332]\nIteración n° 91 =>  x =  [0.33333335 0.33333335 0.33333335]\nIteración n° 92 =>  x =  [0.33333332 0.33333332 0.33333332]\nIteración n° 93 =>  x =  [0.33333334 0.33333334 0.33333334]\nIteración n° 94 =>  x =  [0.33333332 0.33333332 0.33333332]\nIteración n° 95 =>  x =  [0.33333334 0.33333334 0.33333334]\nIteración n° 96 =>  x =  [0.33333333 0.33333333 0.33333333]\nIteración n° 97 =>  x =  [0.33333334 0.33333334 0.33333334]\nIteración n° 98 =>  x =  [0.33333333 0.33333333 0.33333333]\nIteración n° 99 =>  x =  [0.33333334 0.33333334 0.33333334]\n"
     ]
    }
   ],
   "metadata": {}
  },
  {
   "cell_type": "markdown",
   "source": [
    "#### Ejercicio 16\n",
    "Escribir un algoritmo para calcular los primeros M pasos del método de Jacobi, y Gauss-Seidel\n",
    "\n",
    "<div  style=\"text-align: center;\">\n",
    "<img src=\"img/pseudo_jacobi.png\" width=\"385px\">\n",
    "<img src=\"img/pseudo_gauss_seidel.jpg\" width=\"500px\">\n",
    "</div>"
   ],
   "metadata": {}
  },
  {
   "cell_type": "code",
   "execution_count": 52,
   "source": [
    "def solve_jacobi(A, b, r, x):\n",
    "    n = len(A)\n",
    "    acum = 0\n",
    "    temp = [0.0 for _ in range(len(A))]\n",
    "\n",
    "    print(f\"{1} \\t {x[0]:.6f} \\t {x[1]:.6f} \\t {x[2]:.6f}  \")\n",
    "    for k in range(2, r):\n",
    "        x = temp\n",
    "        for i in range(0, n):\n",
    "            acum = 0\n",
    "            for j in range(0, n):\n",
    "                if j != i:\n",
    "                    acum += A[i][j] * x[j]\n",
    "                    # print(\"acum: \", acum)\n",
    "                temp[i] = (b[i] - acum) / A[i][i]\n",
    "\n",
    "        print(f\"{k} \\t {x[0]:.6f} \\t {x[1]:.6f} \\t {x[2]:.6f}  \")\n",
    "\n",
    "def solve_gauss_seidel(A, b, r, x):\n",
    "    n = len(A)\n",
    "    acum = 0\n",
    "    temp = [0.0 for _ in range(len(A))]\n",
    "\n",
    "    print(f\"{1} \\t {x[0]:.6f} \\t {x[1]:.6f} \\t {x[2]:.6f}  \")\n",
    "\n",
    "    for k in range(0, r):\n",
    "        for i in range(0, n):\n",
    "            acum = 0\n",
    "            for j in range(0, n):\n",
    "                if j != i:\n",
    "                    acum += A[i][j] * x[j]\n",
    "                    x[i] = (b[i] - acum) / A[i][i]\n",
    "\n",
    "        print(f\"{k} \\t {x[0]:.6f} \\t {x[1]:.6f} \\t {x[2]:.6f}  \")\n",
    "\n",
    "matriz_A = [[1, 1 / 2, 1 / 3],\n",
    "            [1 / 3, 1, 1 / 2],\n",
    "            [1 / 2, 1 / 3, 1]]\n",
    "\n",
    "vector_B = [11 / 18, 11 / 18, 11 / 18]\n",
    "\n",
    "x = [0.0 for _ in range(len(A))]\n",
    "\n",
    "print(\"Jacobi solver\")\n",
    "solve_jacobi(matriz_A, vector_B, 10, x)\n",
    "print(\"\")\n",
    "print(\"Gauss-Seidel solver\")\n",
    "solve_gauss_seidel(matriz_A, vector_B, 10, x)"
   ],
   "outputs": [
    {
     "output_type": "stream",
     "name": "stdout",
     "text": [
      "Jacobi solver\n1 \t 0.000000 \t 0.000000 \t 0.000000  \n2 \t 0.611111 \t 0.407407 \t 0.169753  \n3 \t 0.350823 \t 0.409294 \t 0.299268  \n4 \t 0.306708 \t 0.359241 \t 0.338010  \n5 \t 0.318821 \t 0.335833 \t 0.339757  \n6 \t 0.329943 \t 0.331252 \t 0.335722  \n7 \t 0.333578 \t 0.332057 \t 0.333637  \n8 \t 0.333870 \t 0.333003 \t 0.333175  \n9 \t 0.333551 \t 0.333340 \t 0.333222  \n\nGauss-Seidel solver\n1 \t 0.000000 \t 0.000000 \t 0.000000  \n0 \t 0.611111 \t 0.407407 \t 0.169753  \n1 \t 0.350823 \t 0.409294 \t 0.299268  \n2 \t 0.306708 \t 0.359241 \t 0.338010  \n3 \t 0.318821 \t 0.335833 \t 0.339757  \n4 \t 0.329943 \t 0.331252 \t 0.335722  \n5 \t 0.333578 \t 0.332057 \t 0.333637  \n6 \t 0.333870 \t 0.333003 \t 0.333175  \n7 \t 0.333551 \t 0.333340 \t 0.333222  \n8 \t 0.333367 \t 0.333378 \t 0.333302  \n9 \t 0.333322 \t 0.333353 \t 0.333333  \n"
     ]
    }
   ],
   "metadata": {}
  },
  {
   "cell_type": "markdown",
   "source": [
    "$\\qquad$ Utilizando el mismo sistema que para el algoritmo de Richardson, vemos que ambos metodos convergen a la solución correcta."
   ],
   "metadata": {}
  },
  {
   "cell_type": "markdown",
   "source": [
    "#### Ejercicio 17\n",
    "Para el siguiente sistema mostrar que tanto Gauss Seidel como Jacobi convergen para cualquier valor inicial. \n",
    "Usar el ítem anterior para estimar la solución.\n",
    "\n",
    "$$\\begin{bmatrix} 2 & -1 & 0 \\\\ 1 & 6 & -2 \\\\ 4 & -3 & 8 \\end{bmatrix} \\begin{bmatrix} x_1 \\\\ x_2 \\\\ x_3 \\end{bmatrix} = \\begin{bmatrix} 2 \\\\ -4 \\\\ 5 \\end{bmatrix} $$\n",
    "\n",
    "$$ \\begin{bmatrix} x_1 \\\\ x_2 \\\\ x_3 \\end{bmatrix} = \\begin{bmatrix} \\frac{31}{50} \\\\ -\\frac{19}{25} \\\\ -\\frac{3}{100} \\end{bmatrix} = \\begin{bmatrix} 0.62 \\\\ -0.76 \\\\ -0.03 \\end{bmatrix} $$"
   ],
   "metadata": {}
  },
  {
   "cell_type": "code",
   "execution_count": 53,
   "source": [
    "A = [[2,-1,0],[1,6,-2],[4,-3,8]]\n",
    "b = [2,-4,5]\n",
    "\n",
    "x = np.random.uniform(-1, 1, len(A))\n",
    "print(\"Jacobi solver => x: \", x)\n",
    "solve_jacobi(A, b, 10, x)\n",
    "print(\"\")\n",
    "print(\"Gauss-Seidel solver => x: \", x)\n",
    "x = np.random.uniform(-1, 1, len(A))\n",
    "solve_gauss_seidel(A, b, 10, x)\n"
   ],
   "outputs": [
    {
     "output_type": "stream",
     "name": "stdout",
     "text": [
      "Jacobi solver => x:  [ 0.28046054 -0.22332092  0.72938505]\n1 \t 0.280461 \t -0.223321 \t 0.729385  \n2 \t 1.000000 \t -0.833333 \t -0.187500  \n3 \t 0.583333 \t -0.826389 \t 0.023438  \n4 \t 0.586806 \t -0.756655 \t 0.047852  \n5 \t 0.621672 \t -0.754328 \t 0.031291  \n6 \t 0.622836 \t -0.760042 \t 0.028566  \n7 \t 0.619979 \t -0.760474 \t 0.029833  \n8 \t 0.619763 \t -0.760016 \t 0.030113  \n9 \t 0.619992 \t -0.759961 \t 0.030019  \n\nGauss-Seidel solver => x:  [ 0.28046054 -0.22332092  0.72938505]\n1 \t -0.335292 \t 0.338969 \t -0.721115  \n0 \t 1.169484 \t -1.101952 \t -0.372974  \n1 \t 0.449024 \t -0.865829 \t 0.075802  \n2 \t 0.567086 \t -0.735914 \t 0.065490  \n3 \t 0.632043 \t -0.750177 \t 0.027662  \n4 \t 0.624911 \t -0.761598 \t 0.026945  \n5 \t 0.619201 \t -0.760885 \t 0.030068  \n6 \t 0.619557 \t -0.759904 \t 0.030257  \n7 \t 0.620048 \t -0.759922 \t 0.030005  \n8 \t 0.620039 \t -0.760005 \t 0.029979  \n9 \t 0.619998 \t -0.760007 \t 0.029999  \n"
     ]
    }
   ],
   "metadata": {}
  },
  {
   "cell_type": "markdown",
   "source": [
    "$\\qquad$ Como se puede observar, tomando vectores $x$ diferentes, se converge al valor esperado."
   ],
   "metadata": {}
  }
 ],
 "metadata": {
  "interpreter": {
   "hash": "1bde03241c945d910f6012aa406c9b0c219aaaa71a8434fd63f2b461251fddf0"
  },
  "kernelspec": {
   "name": "python3",
   "display_name": "Python 3.10.2 64-bit"
  },
  "language_info": {
   "codemirror_mode": {
    "name": "ipython",
    "version": 3
   },
   "file_extension": ".py",
   "mimetype": "text/x-python",
   "name": "python",
   "nbconvert_exporter": "python",
   "pygments_lexer": "ipython3",
   "version": "3.10.2"
  },
  "orig_nbformat": 4
 },
 "nbformat": 4,
 "nbformat_minor": 2
}